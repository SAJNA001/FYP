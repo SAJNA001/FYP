{
 "cells": [
  {
   "cell_type": "code",
   "execution_count": 143,
   "id": "c0f321d3",
   "metadata": {},
   "outputs": [
    {
     "data": {
      "text/html": [
       "\n",
       "  <style>\n",
       "    pre {\n",
       "        white-space: pre-wrap;\n",
       "    }\n",
       "  </style>\n",
       "  "
      ],
      "text/plain": [
       "<IPython.core.display.HTML object>"
      ]
     },
     "metadata": {},
     "output_type": "display_data"
    }
   ],
   "source": [
    "import pandas as pd\n",
    "df=pd.read_csv('/Users/macbookpro/train.csv')"
   ]
  },
  {
   "cell_type": "code",
   "execution_count": 144,
   "id": "16cc9f32",
   "metadata": {},
   "outputs": [
    {
     "data": {
      "text/html": [
       "\n",
       "  <style>\n",
       "    pre {\n",
       "        white-space: pre-wrap;\n",
       "    }\n",
       "  </style>\n",
       "  "
      ],
      "text/plain": [
       "<IPython.core.display.HTML object>"
      ]
     },
     "metadata": {},
     "output_type": "display_data"
    },
    {
     "data": {
      "text/html": [
       "<div>\n",
       "<style scoped>\n",
       "    .dataframe tbody tr th:only-of-type {\n",
       "        vertical-align: middle;\n",
       "    }\n",
       "\n",
       "    .dataframe tbody tr th {\n",
       "        vertical-align: top;\n",
       "    }\n",
       "\n",
       "    .dataframe thead th {\n",
       "        text-align: right;\n",
       "    }\n",
       "</style>\n",
       "<table border=\"1\" class=\"dataframe\">\n",
       "  <thead>\n",
       "    <tr style=\"text-align: right;\">\n",
       "      <th></th>\n",
       "      <th>sentiment</th>\n",
       "      <th>username</th>\n",
       "      <th>verified</th>\n",
       "      <th>followersCount</th>\n",
       "      <th>content</th>\n",
       "      <th>date</th>\n",
       "      <th>country</th>\n",
       "      <th>replyCount</th>\n",
       "      <th>retweetCount</th>\n",
       "      <th>likeCount</th>\n",
       "      <th>url</th>\n",
       "      <th>hashtags</th>\n",
       "    </tr>\n",
       "  </thead>\n",
       "  <tbody>\n",
       "    <tr>\n",
       "      <th>0</th>\n",
       "      <td>1</td>\n",
       "      <td>wintersgordon</td>\n",
       "      <td>False</td>\n",
       "      <td>342</td>\n",
       "      <td>Still trying to master that contour? A mistake...</td>\n",
       "      <td>2022-08-26 11:35:12+00:00</td>\n",
       "      <td>Argentina</td>\n",
       "      <td>0</td>\n",
       "      <td>0</td>\n",
       "      <td>0</td>\n",
       "      <td>https://twitter.com/wintersgordon/status/15631...</td>\n",
       "      <td>['contour', 'contouringmakeup', 'countouring',...</td>\n",
       "    </tr>\n",
       "    <tr>\n",
       "      <th>1</th>\n",
       "      <td>0</td>\n",
       "      <td>TheTressXpress</td>\n",
       "      <td>False</td>\n",
       "      <td>74</td>\n",
       "      <td>Our first Pop Up of 2022 🥳👏🏽\\nJoin us from 10a...</td>\n",
       "      <td>2022-07-27 14:24:19+00:00</td>\n",
       "      <td>Papua New Guinea</td>\n",
       "      <td>0</td>\n",
       "      <td>3</td>\n",
       "      <td>2</td>\n",
       "      <td>https://twitter.com/TheTressXpress/status/1552...</td>\n",
       "      <td>['popup', 'business', 'hairproducts', 'summer']</td>\n",
       "    </tr>\n",
       "    <tr>\n",
       "      <th>2</th>\n",
       "      <td>1</td>\n",
       "      <td>Style_Sage</td>\n",
       "      <td>False</td>\n",
       "      <td>967</td>\n",
       "      <td>Our June Beauty Report is live, and here are s...</td>\n",
       "      <td>2022-06-15 17:50:48+00:00</td>\n",
       "      <td>Argentina</td>\n",
       "      <td>0</td>\n",
       "      <td>0</td>\n",
       "      <td>0</td>\n",
       "      <td>https://twitter.com/Style_Sage/status/15371305...</td>\n",
       "      <td>['beauty', 'beautytrends', 'makeup']</td>\n",
       "    </tr>\n",
       "    <tr>\n",
       "      <th>3</th>\n",
       "      <td>0</td>\n",
       "      <td>BeautyLashed</td>\n",
       "      <td>False</td>\n",
       "      <td>2</td>\n",
       "      <td>📷 Definitely not shy 🤩 @keiana.mua absolutely ...</td>\n",
       "      <td>2022-07-30 14:44:50+00:00</td>\n",
       "      <td>Argentina</td>\n",
       "      <td>0</td>\n",
       "      <td>0</td>\n",
       "      <td>0</td>\n",
       "      <td>https://twitter.com/BeautyLashed/status/155339...</td>\n",
       "      <td>['makeuptransformation', 'makeuptutorial', 'ma...</td>\n",
       "    </tr>\n",
       "    <tr>\n",
       "      <th>4</th>\n",
       "      <td>1</td>\n",
       "      <td>tecyl1971</td>\n",
       "      <td>False</td>\n",
       "      <td>41</td>\n",
       "      <td>The Sonya™ daily skincare system delivers aloe...</td>\n",
       "      <td>2022-07-06 20:02:51+00:00</td>\n",
       "      <td>Argentina</td>\n",
       "      <td>0</td>\n",
       "      <td>0</td>\n",
       "      <td>1</td>\n",
       "      <td>https://twitter.com/tecyl1971/status/154477389...</td>\n",
       "      <td>['foreverskincare', 'dailyskincare', 'tecylalo...</td>\n",
       "    </tr>\n",
       "    <tr>\n",
       "      <th>...</th>\n",
       "      <td>...</td>\n",
       "      <td>...</td>\n",
       "      <td>...</td>\n",
       "      <td>...</td>\n",
       "      <td>...</td>\n",
       "      <td>...</td>\n",
       "      <td>...</td>\n",
       "      <td>...</td>\n",
       "      <td>...</td>\n",
       "      <td>...</td>\n",
       "      <td>...</td>\n",
       "      <td>...</td>\n",
       "    </tr>\n",
       "    <tr>\n",
       "      <th>995</th>\n",
       "      <td>1</td>\n",
       "      <td>NaturenovaH</td>\n",
       "      <td>False</td>\n",
       "      <td>57</td>\n",
       "      <td>✅ Provides a radiant glow\\n✅ Fights signs of a...</td>\n",
       "      <td>2022-08-30 18:05:26+00:00</td>\n",
       "      <td>Argentina</td>\n",
       "      <td>0</td>\n",
       "      <td>0</td>\n",
       "      <td>0</td>\n",
       "      <td>https://twitter.com/NaturenovaH/status/1564675...</td>\n",
       "      <td>['naturenova', 'naturenovaherbals', 'parabenfr...</td>\n",
       "    </tr>\n",
       "    <tr>\n",
       "      <th>996</th>\n",
       "      <td>0</td>\n",
       "      <td>50PlusNow</td>\n",
       "      <td>False</td>\n",
       "      <td>2020</td>\n",
       "      <td>Do You Wash Your Face Before or After You Show...</td>\n",
       "      <td>2022-08-25 19:30:32+00:00</td>\n",
       "      <td>Argentina</td>\n",
       "      <td>0</td>\n",
       "      <td>0</td>\n",
       "      <td>1</td>\n",
       "      <td>https://twitter.com/50PlusNow/status/156288515...</td>\n",
       "      <td>['skincare', 'facecare', 'beauty', 'dermatolog...</td>\n",
       "    </tr>\n",
       "    <tr>\n",
       "      <th>997</th>\n",
       "      <td>0</td>\n",
       "      <td>yankeeshoppe</td>\n",
       "      <td>False</td>\n",
       "      <td>132</td>\n",
       "      <td>#makeup #likeforfollow Women's Casual Mini Dre...</td>\n",
       "      <td>2022-08-30 17:17:41+00:00</td>\n",
       "      <td>Argentina</td>\n",
       "      <td>0</td>\n",
       "      <td>0</td>\n",
       "      <td>1</td>\n",
       "      <td>https://twitter.com/yankeeshoppe/status/156466...</td>\n",
       "      <td>['makeup', 'likeforfollow']</td>\n",
       "    </tr>\n",
       "    <tr>\n",
       "      <th>998</th>\n",
       "      <td>1</td>\n",
       "      <td>ReviewStudioUK1</td>\n",
       "      <td>False</td>\n",
       "      <td>846</td>\n",
       "      <td>#ad #gifted Is the heat making your #eczema or...</td>\n",
       "      <td>2022-08-29 14:07:31+00:00</td>\n",
       "      <td>Argentina</td>\n",
       "      <td>0</td>\n",
       "      <td>0</td>\n",
       "      <td>1</td>\n",
       "      <td>https://twitter.com/ReviewStudioUK1/status/156...</td>\n",
       "      <td>['ad', 'gifted', 'eczema', 'psoriasis', 'daily...</td>\n",
       "    </tr>\n",
       "    <tr>\n",
       "      <th>999</th>\n",
       "      <td>0</td>\n",
       "      <td>shadesbyshellz</td>\n",
       "      <td>False</td>\n",
       "      <td>7</td>\n",
       "      <td>Soft Glam with @keri.couture featuring faves f...</td>\n",
       "      <td>2022-08-20 00:39:15+00:00</td>\n",
       "      <td>Argentina</td>\n",
       "      <td>0</td>\n",
       "      <td>1</td>\n",
       "      <td>0</td>\n",
       "      <td>https://twitter.com/shadesbyshellz/status/1560...</td>\n",
       "      <td>['sbsbabe', 'sbs', 'shadesbyshellz', 'dressyou...</td>\n",
       "    </tr>\n",
       "  </tbody>\n",
       "</table>\n",
       "<p>1000 rows × 12 columns</p>\n",
       "</div>"
      ],
      "text/plain": [
       "     sentiment         username  verified  followersCount  \\\n",
       "0            1    wintersgordon     False             342   \n",
       "1            0   TheTressXpress     False              74   \n",
       "2            1       Style_Sage     False             967   \n",
       "3            0     BeautyLashed     False               2   \n",
       "4            1        tecyl1971     False              41   \n",
       "..         ...              ...       ...             ...   \n",
       "995          1      NaturenovaH     False              57   \n",
       "996          0        50PlusNow     False            2020   \n",
       "997          0     yankeeshoppe     False             132   \n",
       "998          1  ReviewStudioUK1     False             846   \n",
       "999          0   shadesbyshellz     False               7   \n",
       "\n",
       "                                               content  \\\n",
       "0    Still trying to master that contour? A mistake...   \n",
       "1    Our first Pop Up of 2022 🥳👏🏽\\nJoin us from 10a...   \n",
       "2    Our June Beauty Report is live, and here are s...   \n",
       "3    📷 Definitely not shy 🤩 @keiana.mua absolutely ...   \n",
       "4    The Sonya™ daily skincare system delivers aloe...   \n",
       "..                                                 ...   \n",
       "995  ✅ Provides a radiant glow\\n✅ Fights signs of a...   \n",
       "996  Do You Wash Your Face Before or After You Show...   \n",
       "997  #makeup #likeforfollow Women's Casual Mini Dre...   \n",
       "998  #ad #gifted Is the heat making your #eczema or...   \n",
       "999  Soft Glam with @keri.couture featuring faves f...   \n",
       "\n",
       "                          date           country  replyCount  retweetCount  \\\n",
       "0    2022-08-26 11:35:12+00:00         Argentina           0             0   \n",
       "1    2022-07-27 14:24:19+00:00  Papua New Guinea           0             3   \n",
       "2    2022-06-15 17:50:48+00:00         Argentina           0             0   \n",
       "3    2022-07-30 14:44:50+00:00         Argentina           0             0   \n",
       "4    2022-07-06 20:02:51+00:00         Argentina           0             0   \n",
       "..                         ...               ...         ...           ...   \n",
       "995  2022-08-30 18:05:26+00:00         Argentina           0             0   \n",
       "996  2022-08-25 19:30:32+00:00         Argentina           0             0   \n",
       "997  2022-08-30 17:17:41+00:00         Argentina           0             0   \n",
       "998  2022-08-29 14:07:31+00:00         Argentina           0             0   \n",
       "999  2022-08-20 00:39:15+00:00         Argentina           0             1   \n",
       "\n",
       "     likeCount                                                url  \\\n",
       "0            0  https://twitter.com/wintersgordon/status/15631...   \n",
       "1            2  https://twitter.com/TheTressXpress/status/1552...   \n",
       "2            0  https://twitter.com/Style_Sage/status/15371305...   \n",
       "3            0  https://twitter.com/BeautyLashed/status/155339...   \n",
       "4            1  https://twitter.com/tecyl1971/status/154477389...   \n",
       "..         ...                                                ...   \n",
       "995          0  https://twitter.com/NaturenovaH/status/1564675...   \n",
       "996          1  https://twitter.com/50PlusNow/status/156288515...   \n",
       "997          1  https://twitter.com/yankeeshoppe/status/156466...   \n",
       "998          1  https://twitter.com/ReviewStudioUK1/status/156...   \n",
       "999          0  https://twitter.com/shadesbyshellz/status/1560...   \n",
       "\n",
       "                                              hashtags  \n",
       "0    ['contour', 'contouringmakeup', 'countouring',...  \n",
       "1      ['popup', 'business', 'hairproducts', 'summer']  \n",
       "2                 ['beauty', 'beautytrends', 'makeup']  \n",
       "3    ['makeuptransformation', 'makeuptutorial', 'ma...  \n",
       "4    ['foreverskincare', 'dailyskincare', 'tecylalo...  \n",
       "..                                                 ...  \n",
       "995  ['naturenova', 'naturenovaherbals', 'parabenfr...  \n",
       "996  ['skincare', 'facecare', 'beauty', 'dermatolog...  \n",
       "997                        ['makeup', 'likeforfollow']  \n",
       "998  ['ad', 'gifted', 'eczema', 'psoriasis', 'daily...  \n",
       "999  ['sbsbabe', 'sbs', 'shadesbyshellz', 'dressyou...  \n",
       "\n",
       "[1000 rows x 12 columns]"
      ]
     },
     "execution_count": 144,
     "metadata": {},
     "output_type": "execute_result"
    }
   ],
   "source": [
    "df"
   ]
  },
  {
   "cell_type": "code",
   "execution_count": 145,
   "id": "99fb15b7",
   "metadata": {},
   "outputs": [
    {
     "data": {
      "text/html": [
       "\n",
       "  <style>\n",
       "    pre {\n",
       "        white-space: pre-wrap;\n",
       "    }\n",
       "  </style>\n",
       "  "
      ],
      "text/plain": [
       "<IPython.core.display.HTML object>"
      ]
     },
     "metadata": {},
     "output_type": "display_data"
    },
    {
     "data": {
      "text/plain": [
       "'Still trying to master that contour? A mistake that many make is to opt for a sparkly bronzer, but it is usually best to use a matte bronzer and save the glow for your highlight! ✨\\nhttps://t.co/JupqCJAXMk\\n #contour #contouringmakeup #countouring #MakeUpTips https://t.co/gjqjt8FPyp'"
      ]
     },
     "execution_count": 145,
     "metadata": {},
     "output_type": "execute_result"
    }
   ],
   "source": [
    "df.iloc[0]['content']"
   ]
  },
  {
   "cell_type": "code",
   "execution_count": 146,
   "id": "d615b8bb",
   "metadata": {},
   "outputs": [
    {
     "data": {
      "text/html": [
       "\n",
       "  <style>\n",
       "    pre {\n",
       "        white-space: pre-wrap;\n",
       "    }\n",
       "  </style>\n",
       "  "
      ],
      "text/plain": [
       "<IPython.core.display.HTML object>"
      ]
     },
     "metadata": {},
     "output_type": "display_data"
    },
    {
     "data": {
      "text/plain": [
       "0      Still trying to master that contour? A mistake...\n",
       "1      Our first Pop Up of 2022 🥳👏🏽\\nJoin us from 10a...\n",
       "2      Our June Beauty Report is live, and here are s...\n",
       "3      📷 Definitely not shy 🤩 @keiana.mua absolutely ...\n",
       "4      The Sonya™ daily skincare system delivers aloe...\n",
       "                             ...                        \n",
       "995    ✅ Provides a radiant glow\\n✅ Fights signs of a...\n",
       "996    Do You Wash Your Face Before or After You Show...\n",
       "997    #makeup #likeforfollow Women's Casual Mini Dre...\n",
       "998    #ad #gifted Is the heat making your #eczema or...\n",
       "999    Soft Glam with @keri.couture featuring faves f...\n",
       "Name: content, Length: 1000, dtype: object"
      ]
     },
     "execution_count": 146,
     "metadata": {},
     "output_type": "execute_result"
    }
   ],
   "source": [
    "df['content']"
   ]
  },
  {
   "cell_type": "code",
   "execution_count": 147,
   "id": "415ecc53",
   "metadata": {},
   "outputs": [
    {
     "data": {
      "text/html": [
       "\n",
       "  <style>\n",
       "    pre {\n",
       "        white-space: pre-wrap;\n",
       "    }\n",
       "  </style>\n",
       "  "
      ],
      "text/plain": [
       "<IPython.core.display.HTML object>"
      ]
     },
     "metadata": {},
     "output_type": "display_data"
    },
    {
     "name": "stdout",
     "output_type": "stream",
     "text": [
      "Requirement already satisfied: emot in ./opt/anaconda3/lib/python3.8/site-packages (3.1)\r\n"
     ]
    }
   ],
   "source": [
    "!pip install emot --upgrade"
   ]
  },
  {
   "cell_type": "code",
   "execution_count": 148,
   "id": "b1faf19e",
   "metadata": {},
   "outputs": [
    {
     "data": {
      "text/html": [
       "\n",
       "  <style>\n",
       "    pre {\n",
       "        white-space: pre-wrap;\n",
       "    }\n",
       "  </style>\n",
       "  "
      ],
      "text/plain": [
       "<IPython.core.display.HTML object>"
      ]
     },
     "metadata": {},
     "output_type": "display_data"
    }
   ],
   "source": [
    "from emot.emo_unicode import UNICODE_EMOJI,EMOTICONS_EMO"
   ]
  },
  {
   "cell_type": "code",
   "execution_count": 149,
   "id": "50ff58df",
   "metadata": {},
   "outputs": [
    {
     "data": {
      "text/html": [
       "\n",
       "  <style>\n",
       "    pre {\n",
       "        white-space: pre-wrap;\n",
       "    }\n",
       "  </style>\n",
       "  "
      ],
      "text/plain": [
       "<IPython.core.display.HTML object>"
      ]
     },
     "metadata": {},
     "output_type": "display_data"
    }
   ],
   "source": [
    "from emot.emo_unicode import UNICODE_EMOJI,EMOTICONS_EMO\n",
    "# Converting emojis to words\n",
    "def convert_emojis(text):\n",
    "    for emot in UNICODE_EMOJI:\n",
    "        text = text.replace(emot, \"_\".join(UNICODE_EMOJI[emot].replace(\",\",\"\").replace(\":\",\"\").split()))\n",
    "        return text\n",
    "# Converting emoticons to words    \n",
    "def convert_emoticons(text):\n",
    "    for emot in EMOTICONS_EMO:\n",
    "        text = re.sub(u'\\('+emot+'\\)', \"_\".join(EMOTICONS_EMO[emot].replace(\",\",\"\").split()), text)\n",
    "        return text"
   ]
  },
  {
   "cell_type": "code",
   "execution_count": 150,
   "id": "176fc2c9",
   "metadata": {},
   "outputs": [
    {
     "data": {
      "text/html": [
       "\n",
       "  <style>\n",
       "    pre {\n",
       "        white-space: pre-wrap;\n",
       "    }\n",
       "  </style>\n",
       "  "
      ],
      "text/plain": [
       "<IPython.core.display.HTML object>"
      ]
     },
     "metadata": {},
     "output_type": "display_data"
    }
   ],
   "source": [
    "#for now replaced emojis and emoticons instead of removing them\n",
    "def remove_emoticons(text):\n",
    "    emoticon_pattern = re.compile(u'(' + u'|'.join(k for k in EMOTICONS) + u')')\n",
    "    return emoticon_pattern.sub(r'', text)"
   ]
  },
  {
   "cell_type": "code",
   "execution_count": 151,
   "id": "e0c99a14",
   "metadata": {},
   "outputs": [
    {
     "data": {
      "text/html": [
       "\n",
       "  <style>\n",
       "    pre {\n",
       "        white-space: pre-wrap;\n",
       "    }\n",
       "  </style>\n",
       "  "
      ],
      "text/plain": [
       "<IPython.core.display.HTML object>"
      ]
     },
     "metadata": {},
     "output_type": "display_data"
    },
    {
     "name": "stdout",
     "output_type": "stream",
     "text": [
      "Requirement already satisfied: emoji in ./opt/anaconda3/lib/python3.8/site-packages (2.0.0)\r\n"
     ]
    }
   ],
   "source": [
    "!pip install emoji"
   ]
  },
  {
   "cell_type": "code",
   "execution_count": 152,
   "id": "2a49d5e0",
   "metadata": {},
   "outputs": [
    {
     "data": {
      "text/html": [
       "\n",
       "  <style>\n",
       "    pre {\n",
       "        white-space: pre-wrap;\n",
       "    }\n",
       "  </style>\n",
       "  "
      ],
      "text/plain": [
       "<IPython.core.display.HTML object>"
      ]
     },
     "metadata": {},
     "output_type": "display_data"
    }
   ],
   "source": [
    "import emoji"
   ]
  },
  {
   "cell_type": "code",
   "execution_count": 153,
   "id": "8ee46550",
   "metadata": {},
   "outputs": [
    {
     "data": {
      "text/html": [
       "\n",
       "  <style>\n",
       "    pre {\n",
       "        white-space: pre-wrap;\n",
       "    }\n",
       "  </style>\n",
       "  "
      ],
      "text/plain": [
       "<IPython.core.display.HTML object>"
      ]
     },
     "metadata": {},
     "output_type": "display_data"
    }
   ],
   "source": [
    "def load_dict_smileys():\n",
    "    \n",
    "    return {\n",
    "        \":‑)\":\"smiley\",\n",
    "        \":-]\":\"smiley\",\n",
    "        \":-3\":\"smiley\",\n",
    "        \":->\":\"smiley\",\n",
    "        \"8-)\":\"smiley\",\n",
    "        \":-}\":\"smiley\",\n",
    "        \":)\":\"smiley\",\n",
    "        \":]\":\"smiley\",\n",
    "        \":3\":\"smiley\",\n",
    "        \":>\":\"smiley\",\n",
    "        \"8)\":\"smiley\",\n",
    "        \":}\":\"smiley\",\n",
    "        \":o)\":\"smiley\",\n",
    "        \":c)\":\"smiley\",\n",
    "        \":^)\":\"smiley\",\n",
    "        \"=]\":\"smiley\",\n",
    "        \"=)\":\"smiley\",\n",
    "        \":-))\":\"smiley\",\n",
    "        \":‑D\":\"smiley\",\n",
    "        \"8‑D\":\"smiley\",\n",
    "        \"x‑D\":\"smiley\",\n",
    "        \"X‑D\":\"smiley\",\n",
    "        \":D\":\"smiley\",\n",
    "        \"8D\":\"smiley\",\n",
    "        \"xD\":\"smiley\",\n",
    "        \"XD\":\"smiley\",\n",
    "        \":‑(\":\"sad\",\n",
    "        \":‑c\":\"sad\",\n",
    "        \":‑<\":\"sad\",\n",
    "        \":‑[\":\"sad\",\n",
    "        \":(\":\"sad\",\n",
    "        \":c\":\"sad\",\n",
    "        \":<\":\"sad\",\n",
    "        \":[\":\"sad\",\n",
    "        \":-||\":\"sad\",\n",
    "        \">:[\":\"sad\",\n",
    "        \":{\":\"sad\",\n",
    "        \":@\":\"sad\",\n",
    "        \">:(\":\"sad\",\n",
    "        \":'‑(\":\"sad\",\n",
    "        \":'(\":\"sad\",\n",
    "        \":‑P\":\"playful\",\n",
    "        \"X‑P\":\"playful\",\n",
    "        \"x‑p\":\"playful\",\n",
    "        \":‑p\":\"playful\",\n",
    "        \":‑Þ\":\"playful\",\n",
    "        \":‑þ\":\"playful\",\n",
    "        \":‑b\":\"playful\",\n",
    "        \":P\":\"playful\",\n",
    "        \"XP\":\"playful\",\n",
    "        \"xp\":\"playful\",\n",
    "        \":p\":\"playful\",\n",
    "        \":Þ\":\"playful\",\n",
    "        \":þ\":\"playful\",\n",
    "        \":b\":\"playful\",\n",
    "        \"<3\":\"love\"\n",
    "        }\n"
   ]
  },
  {
   "cell_type": "code",
   "execution_count": 154,
   "id": "73ef7b87",
   "metadata": {},
   "outputs": [
    {
     "data": {
      "text/html": [
       "\n",
       "  <style>\n",
       "    pre {\n",
       "        white-space: pre-wrap;\n",
       "    }\n",
       "  </style>\n",
       "  "
      ],
      "text/plain": [
       "<IPython.core.display.HTML object>"
      ]
     },
     "metadata": {},
     "output_type": "display_data"
    },
    {
     "name": "stdout",
     "output_type": "stream",
     "text": [
      "Requirement already satisfied: unidecode in ./opt/anaconda3/lib/python3.8/site-packages (1.2.0)\r\n"
     ]
    }
   ],
   "source": [
    "!pip install unidecode\n"
   ]
  },
  {
   "cell_type": "code",
   "execution_count": 155,
   "id": "582c675b",
   "metadata": {},
   "outputs": [
    {
     "data": {
      "text/html": [
       "\n",
       "  <style>\n",
       "    pre {\n",
       "        white-space: pre-wrap;\n",
       "    }\n",
       "  </style>\n",
       "  "
      ],
      "text/plain": [
       "<IPython.core.display.HTML object>"
      ]
     },
     "metadata": {},
     "output_type": "display_data"
    }
   ],
   "source": [
    "import unidecode\n",
    "def accented_characters_removal(text):\n",
    "    # this is a docstring\n",
    "    \"\"\"\n",
    "    The function will remove accented characters from the \n",
    "    text contained within the Dataset.\n",
    "       \n",
    "    arguments:\n",
    "        input_text: \"text\" of type \"String\". \n",
    "                    \n",
    "    return:\n",
    "        value: \"text\" with removed accented characters.\n",
    "        \n",
    "    Example:\n",
    "    Input : Málaga, àéêöhello\n",
    "    Output : Malaga, aeeohello    \n",
    "        \n",
    "    \"\"\"\n",
    "    # Remove accented characters from text using unidecode.\n",
    "    # Unidecode() - It takes unicode data & tries to represent it to ASCII characters. \n",
    "    text = unidecode.unidecode(text)\n",
    "    return text"
   ]
  },
  {
   "cell_type": "code",
   "execution_count": 156,
   "id": "746ac747",
   "metadata": {},
   "outputs": [
    {
     "data": {
      "text/html": [
       "\n",
       "  <style>\n",
       "    pre {\n",
       "        white-space: pre-wrap;\n",
       "    }\n",
       "  </style>\n",
       "  "
      ],
      "text/plain": [
       "<IPython.core.display.HTML object>"
      ]
     },
     "metadata": {},
     "output_type": "display_data"
    },
    {
     "name": "stdout",
     "output_type": "stream",
     "text": [
      "Requirement already satisfied: autocorrect in ./opt/anaconda3/lib/python3.8/site-packages (2.6.1)\r\n"
     ]
    }
   ],
   "source": [
    "!pip install autocorrect\n"
   ]
  },
  {
   "cell_type": "code",
   "execution_count": 157,
   "id": "8d2809f0",
   "metadata": {},
   "outputs": [
    {
     "data": {
      "text/html": [
       "\n",
       "  <style>\n",
       "    pre {\n",
       "        white-space: pre-wrap;\n",
       "    }\n",
       "  </style>\n",
       "  "
      ],
      "text/plain": [
       "<IPython.core.display.HTML object>"
      ]
     },
     "metadata": {},
     "output_type": "display_data"
    }
   ],
   "source": [
    "from nltk.tokenize import word_tokenize \n",
    "from nltk.stem import WordNetLemmatizer \n",
    "from autocorrect import Speller"
   ]
  },
  {
   "cell_type": "code",
   "execution_count": 158,
   "id": "a60b8c92",
   "metadata": {},
   "outputs": [
    {
     "data": {
      "text/html": [
       "\n",
       "  <style>\n",
       "    pre {\n",
       "        white-space: pre-wrap;\n",
       "    }\n",
       "  </style>\n",
       "  "
      ],
      "text/plain": [
       "<IPython.core.display.HTML object>"
      ]
     },
     "metadata": {},
     "output_type": "display_data"
    }
   ],
   "source": [
    "# The code for spelling corrections\n",
    "def spelling_correction(text):\n",
    "    ''' \n",
    "    This function will correct spellings.\n",
    "    \n",
    "    arguments:\n",
    "         input_text: \"text\" of type \"String\".\n",
    "         \n",
    "    return:\n",
    "        value: Text after corrected spellings.\n",
    "        \n",
    "    Example: \n",
    "    Input : This is Oberois from Dlhi who came heree to studdy.\n",
    "    Output : This is Oberoi from Delhi who came here to study.\n",
    "      \n",
    "    \n",
    "    '''\n",
    "    # Check for spellings in English language\n",
    "    spell = Speller(lang='en')\n",
    "    Corrected_text = spell(text)\n",
    "    return Corrected_text"
   ]
  },
  {
   "cell_type": "code",
   "execution_count": 159,
   "id": "11e04ed1",
   "metadata": {},
   "outputs": [
    {
     "data": {
      "text/html": [
       "\n",
       "  <style>\n",
       "    pre {\n",
       "        white-space: pre-wrap;\n",
       "    }\n",
       "  </style>\n",
       "  "
      ],
      "text/plain": [
       "<IPython.core.display.HTML object>"
      ]
     },
     "metadata": {},
     "output_type": "display_data"
    }
   ],
   "source": [
    "def clean_ascii(text):\n",
    "        # function to remove non-ASCII chars from data\n",
    "        return ''.join(i for i in text if ord(i) < 128)"
   ]
  },
  {
   "cell_type": "code",
   "execution_count": 160,
   "id": "0da1af19",
   "metadata": {},
   "outputs": [
    {
     "data": {
      "text/html": [
       "\n",
       "  <style>\n",
       "    pre {\n",
       "        white-space: pre-wrap;\n",
       "    }\n",
       "  </style>\n",
       "  "
      ],
      "text/plain": [
       "<IPython.core.display.HTML object>"
      ]
     },
     "metadata": {},
     "output_type": "display_data"
    }
   ],
   "source": [
    "import re\n",
    "# function to remove numbers\n",
    "def remove_numbers(text):\n",
    "    # define the pattern to keep\n",
    "    pattern = r'[^a-zA-z.,!?/:;\\\"\\'\\s]' \n",
    "    return re.sub(pattern, '', text)"
   ]
  },
  {
   "cell_type": "code",
   "execution_count": 161,
   "id": "7daf0137",
   "metadata": {},
   "outputs": [
    {
     "data": {
      "text/html": [
       "\n",
       "  <style>\n",
       "    pre {\n",
       "        white-space: pre-wrap;\n",
       "    }\n",
       "  </style>\n",
       "  "
      ],
      "text/plain": [
       "<IPython.core.display.HTML object>"
      ]
     },
     "metadata": {},
     "output_type": "display_data"
    },
    {
     "data": {
      "text/plain": [
       "['Requirement already satisfied: contractions in ./opt/anaconda3/lib/python3.8/site-packages (0.1.72)',\n",
       " 'Requirement already satisfied: textsearch>=0.0.21 in ./opt/anaconda3/lib/python3.8/site-packages (from contractions) (0.0.24)',\n",
       " 'Requirement already satisfied: pyahocorasick in ./opt/anaconda3/lib/python3.8/site-packages (from textsearch>=0.0.21->contractions) (1.4.4)',\n",
       " 'Requirement already satisfied: anyascii in ./opt/anaconda3/lib/python3.8/site-packages (from textsearch>=0.0.21->contractions) (0.3.1)']"
      ]
     },
     "execution_count": 161,
     "metadata": {},
     "output_type": "execute_result"
    }
   ],
   "source": [
    "!!pip install contractions"
   ]
  },
  {
   "cell_type": "code",
   "execution_count": 162,
   "id": "882d52e8",
   "metadata": {},
   "outputs": [
    {
     "data": {
      "text/html": [
       "\n",
       "  <style>\n",
       "    pre {\n",
       "        white-space: pre-wrap;\n",
       "    }\n",
       "  </style>\n",
       "  "
      ],
      "text/plain": [
       "<IPython.core.display.HTML object>"
      ]
     },
     "metadata": {},
     "output_type": "display_data"
    }
   ],
   "source": [
    "import contractions\n",
    "def expand_contractions(text):\n",
    "  return contractions.fix(text)"
   ]
  },
  {
   "cell_type": "code",
   "execution_count": 163,
   "id": "4c87fc76",
   "metadata": {},
   "outputs": [
    {
     "data": {
      "text/html": [
       "\n",
       "  <style>\n",
       "    pre {\n",
       "        white-space: pre-wrap;\n",
       "    }\n",
       "  </style>\n",
       "  "
      ],
      "text/plain": [
       "<IPython.core.display.HTML object>"
      ]
     },
     "metadata": {},
     "output_type": "display_data"
    }
   ],
   "source": [
    "import nltk\n",
    "w_tokenizer = nltk.tokenize.WhitespaceTokenizer()\n",
    "lemmatizer = nltk.stem.WordNetLemmatizer()\n",
    "def lemmatization(text):\n",
    "    \"\"\"This function converts word to their root words \n",
    "       without explicitely cut down as done in stemming.\n",
    "    \n",
    "    arguments:\n",
    "         input_text: \"text\" of type \"String\".\n",
    "         \n",
    "    return:\n",
    "        value: Text having root words only, no tense form, no plural forms\n",
    "        \n",
    "    Example: \n",
    "    Input : text reduced \n",
    "    Output :  text reduce\n",
    "    \n",
    "   \"\"\"\n",
    "    # Converting words to their root forms\n",
    "    \n",
    "    lemma = [lemmatizer.lemmatize(w,'v') for w in w_tokenizer.tokenize(text)]\n",
    "    return lemma"
   ]
  },
  {
   "cell_type": "code",
   "execution_count": 164,
   "id": "3aa9c816",
   "metadata": {},
   "outputs": [
    {
     "data": {
      "text/html": [
       "\n",
       "  <style>\n",
       "    pre {\n",
       "        white-space: pre-wrap;\n",
       "    }\n",
       "  </style>\n",
       "  "
      ],
      "text/plain": [
       "<IPython.core.display.HTML object>"
      ]
     },
     "metadata": {},
     "output_type": "display_data"
    },
    {
     "name": "stderr",
     "output_type": "stream",
     "text": [
      "[nltk_data] Downloading package wordnet to\n",
      "[nltk_data]     /Users/macbookpro/nltk_data...\n",
      "[nltk_data]   Package wordnet is already up-to-date!\n"
     ]
    },
    {
     "data": {
      "text/plain": [
       "True"
      ]
     },
     "execution_count": 164,
     "metadata": {},
     "output_type": "execute_result"
    }
   ],
   "source": [
    "nltk.download('wordnet')\n"
   ]
  },
  {
   "cell_type": "code",
   "execution_count": 165,
   "id": "e8f06463",
   "metadata": {},
   "outputs": [
    {
     "data": {
      "text/html": [
       "\n",
       "  <style>\n",
       "    pre {\n",
       "        white-space: pre-wrap;\n",
       "    }\n",
       "  </style>\n",
       "  "
      ],
      "text/plain": [
       "<IPython.core.display.HTML object>"
      ]
     },
     "metadata": {},
     "output_type": "display_data"
    }
   ],
   "source": [
    "from nltk.corpus import stopwords\n"
   ]
  },
  {
   "cell_type": "code",
   "execution_count": 166,
   "id": "8fc270cf",
   "metadata": {},
   "outputs": [
    {
     "data": {
      "text/html": [
       "\n",
       "  <style>\n",
       "    pre {\n",
       "        white-space: pre-wrap;\n",
       "    }\n",
       "  </style>\n",
       "  "
      ],
      "text/plain": [
       "<IPython.core.display.HTML object>"
      ]
     },
     "metadata": {},
     "output_type": "display_data"
    },
    {
     "name": "stderr",
     "output_type": "stream",
     "text": [
      "[nltk_data] Downloading package stopwords to\n",
      "[nltk_data]     /Users/macbookpro/nltk_data...\n",
      "[nltk_data]   Package stopwords is already up-to-date!\n"
     ]
    }
   ],
   "source": [
    "nltk.download('stopwords')\n",
    "stop_words = set(stopwords.words('english'))"
   ]
  },
  {
   "cell_type": "code",
   "execution_count": 167,
   "id": "6202f835",
   "metadata": {},
   "outputs": [
    {
     "data": {
      "text/html": [
       "\n",
       "  <style>\n",
       "    pre {\n",
       "        white-space: pre-wrap;\n",
       "    }\n",
       "  </style>\n",
       "  "
      ],
      "text/plain": [
       "<IPython.core.display.HTML object>"
      ]
     },
     "metadata": {},
     "output_type": "display_data"
    }
   ],
   "source": [
    "def tweet_to_words(tweet):\n",
    "    text = tweet.lower()\n",
    "   \n",
    "    # Code to remove the Hashtags from the text\n",
    "    text=re.sub(r'\\B#\\S+','',text)\n",
    "\n",
    "    # print(text)\n",
    "    # Code to remove the links from the text\n",
    "    text=re.sub(r\"http\\S+\", \"\",text)\n",
    "    text=re.sub(r\"\\ [A-Za-z]*\\.com\", \" \",text)\n",
    "    # Code to substitute the multiple spaces with single spaces\n",
    "    text=re.sub(r'\\s+', ' ', text, flags=re.I)\n",
    "    # Remove the twitter handlers\n",
    "    text=re.sub('@[^\\s]+','',text)\n",
    "    # print(text)\n",
    "\n",
    "    # text=convert_emoticons(text)\n",
    "    SMILEY = load_dict_smileys()  \n",
    "    words = text.split()\n",
    "    reformed = [SMILEY[word] if word in SMILEY else word for word in words]\n",
    "    text = \" \".join(reformed)\n",
    "\n",
    "    # text=convert_emojis(text)\n",
    "    #can check which version is better\n",
    "    text = emoji.demojize(text)\n",
    "    # print(text)\n",
    "    text=accented_characters_removal(text)\n",
    "    text=expand_contractions(text)\n",
    "\n",
    "    # Code to remove the Special characters from the text \n",
    "    text=' '.join(re.findall(r'\\w+', text))\n",
    "    # text=remove_numbers(text)\n",
    "\n",
    "    # print(text)\n",
    "    text=spelling_correction(text)\n",
    "    text=lemmatization(text)\n",
    "    # text=clean_ascii(text)\n",
    "\n",
    "\n",
    "    return text\n",
    "\n",
    "\n",
    "    \n",
    "\n",
    "    # tokenize"
   ]
  },
  {
   "cell_type": "code",
   "execution_count": 168,
   "id": "93c17534",
   "metadata": {},
   "outputs": [
    {
     "data": {
      "text/html": [
       "\n",
       "  <style>\n",
       "    pre {\n",
       "        white-space: pre-wrap;\n",
       "    }\n",
       "  </style>\n",
       "  "
      ],
      "text/plain": [
       "<IPython.core.display.HTML object>"
      ]
     },
     "metadata": {},
     "output_type": "display_data"
    }
   ],
   "source": [
    "def tweet_to_words(tweet):\n",
    "    text = tweet.lower()\n",
    "   \n",
    "    # Code to remove the Hashtags from the text\n",
    "    text=re.sub(r'\\B#\\S+','',text)\n",
    "\n",
    "    # print(text)\n",
    "    # Code to remove the links from the text\n",
    "    text=re.sub(r\"http\\S+\", \"\",text)\n",
    "    text=re.sub(r\"\\ [A-Za-z]*\\.com\", \" \",text)\n",
    "    # Code to substitute the multiple spaces with single spaces\n",
    "    text=re.sub(r'\\s+', ' ', text, flags=re.I)\n",
    "    # Remove the twitter handlers\n",
    "    text=re.sub('@[^\\s]+','',text)\n",
    "  \n",
    "    SMILEY = load_dict_smileys()  \n",
    "    words = text.split()\n",
    "    reformed = [SMILEY[word] if word in SMILEY else word for word in words]\n",
    "    text = \" \".join(reformed)\n",
    " \n",
    "    text = emoji.demojize(text)\n",
    "    text=accented_characters_removal(text)\n",
    "    text=expand_contractions(text)\n",
    "\n",
    "    # Code to remove the Special characters from the text \n",
    "    text=' '.join(re.findall(r'\\w+', text))\n",
    "  \n",
    "\n",
    "   \n",
    "    text=spelling_correction(text)\n",
    "    text=lemmatization(text)\n",
    "    \n",
    "\n",
    "    return text\n",
    "\n",
    "\n",
    "    \n",
    "\n",
    "    # tokenize\n",
    "    # words = text.split()\n"
   ]
  },
  {
   "cell_type": "code",
   "execution_count": 169,
   "id": "8427ee6c",
   "metadata": {},
   "outputs": [
    {
     "data": {
      "text/html": [
       "\n",
       "  <style>\n",
       "    pre {\n",
       "        white-space: pre-wrap;\n",
       "    }\n",
       "  </style>\n",
       "  "
      ],
      "text/plain": [
       "<IPython.core.display.HTML object>"
      ]
     },
     "metadata": {},
     "output_type": "display_data"
    },
    {
     "name": "stdout",
     "output_type": "stream",
     "text": [
      "['still', 'try', 'to', 'master', 'that', 'contour', 'a', 'mistake', 'that', 'many', 'make', 'be', 'to', 'opt', 'for', 'a', 'sparky', 'bronze', 'but', 'it', 'be', 'usually', 'best', 'to', 'use', 'a', 'matte', 'bronze', 'and', 'save', 'the', 'glow', 'for', 'your', 'highlight', 'spark']\n"
     ]
    }
   ],
   "source": [
    "print(tweet_to_words(\"Still trying to master that contour? A mistake that many make is to opt for a sparkly bronzer, but it is usually best to use a matte bronzer and save the glow for your highlight! ✨\\nhttps://t.co/JupqCJAXMk\\n #contour #contouringmakeup #countouring #MakeUpTips\"))"
   ]
  },
  {
   "cell_type": "code",
   "execution_count": 170,
   "id": "3b3bb7e3",
   "metadata": {},
   "outputs": [
    {
     "data": {
      "text/html": [
       "\n",
       "  <style>\n",
       "    pre {\n",
       "        white-space: pre-wrap;\n",
       "    }\n",
       "  </style>\n",
       "  "
      ],
      "text/plain": [
       "<IPython.core.display.HTML object>"
      ]
     },
     "metadata": {},
     "output_type": "display_data"
    },
    {
     "name": "stderr",
     "output_type": "stream",
     "text": [
      "[nltk_data] Downloading package omw-1.4 to\n",
      "[nltk_data]     /Users/macbookpro/nltk_data...\n",
      "[nltk_data]   Package omw-1.4 is already up-to-date!\n"
     ]
    },
    {
     "data": {
      "text/plain": [
       "True"
      ]
     },
     "execution_count": 170,
     "metadata": {},
     "output_type": "execute_result"
    }
   ],
   "source": [
    "import nltk\n",
    "nltk.download('omw-1.4')"
   ]
  },
  {
   "cell_type": "code",
   "execution_count": 171,
   "id": "fa62e0be",
   "metadata": {},
   "outputs": [
    {
     "data": {
      "text/html": [
       "\n",
       "  <style>\n",
       "    pre {\n",
       "        white-space: pre-wrap;\n",
       "    }\n",
       "  </style>\n",
       "  "
      ],
      "text/plain": [
       "<IPython.core.display.HTML object>"
      ]
     },
     "metadata": {},
     "output_type": "display_data"
    },
    {
     "name": "stdout",
     "output_type": "stream",
     "text": [
      "['still', 'try', 'to', 'master', 'that', 'contour', 'a', 'mistake', 'that', 'many', 'make', 'be', 'to', 'opt', 'for', 'a', 'sparky', 'bronze', 'but', 'it', 'be', 'usually', 'best', 'to', 'use', 'a', 'matte', 'bronze', 'and', 'save', 'the', 'glow', 'for', 'your', 'highlight', 'spark']\n"
     ]
    }
   ],
   "source": [
    "print(tweet_to_words(\"Still trying to master that contour? A mistake that many make is to opt for a sparkly bronzer, but it is usually best to use a matte bronzer and save the glow for your highlight! ✨\\nhttps://t.co/JupqCJAXMk\\n #contour #contouringmakeup #countouring #MakeUpTips\"))"
   ]
  },
  {
   "cell_type": "code",
   "execution_count": 172,
   "id": "3e90e00e",
   "metadata": {},
   "outputs": [
    {
     "data": {
      "text/html": [
       "\n",
       "  <style>\n",
       "    pre {\n",
       "        white-space: pre-wrap;\n",
       "    }\n",
       "  </style>\n",
       "  "
      ],
      "text/plain": [
       "<IPython.core.display.HTML object>"
      ]
     },
     "metadata": {},
     "output_type": "display_data"
    }
   ],
   "source": [
    "from IPython.display import HTML, display\n",
    "\n",
    "def set_css():\n",
    "  display(HTML('''\n",
    "  <style>\n",
    "    pre {\n",
    "        white-space: pre-wrap;\n",
    "    }\n",
    "  </style>\n",
    "  '''))\n",
    "get_ipython().events.register('pre_run_cell', set_css)"
   ]
  },
  {
   "cell_type": "code",
   "execution_count": 173,
   "id": "8523beb1",
   "metadata": {},
   "outputs": [
    {
     "data": {
      "text/html": [
       "\n",
       "  <style>\n",
       "    pre {\n",
       "        white-space: pre-wrap;\n",
       "    }\n",
       "  </style>\n",
       "  "
      ],
      "text/plain": [
       "<IPython.core.display.HTML object>"
      ]
     },
     "metadata": {},
     "output_type": "display_data"
    },
    {
     "data": {
      "text/html": [
       "\n",
       "  <style>\n",
       "    pre {\n",
       "        white-space: pre-wrap;\n",
       "    }\n",
       "  </style>\n",
       "  "
      ],
      "text/plain": [
       "<IPython.core.display.HTML object>"
      ]
     },
     "metadata": {},
     "output_type": "display_data"
    },
    {
     "data": {
      "text/plain": [
       "'Our first Pop Up of 2022 🥳👏🏽\\nJoin us from 10am -6pm at Botanical Gardens and get your favorite hair goodies 🥰 Deals, Surprises &amp; More await 💛 See you there !!! #popup #business #hairproducts #summer https://t.co/fx14LaL3Ko'"
      ]
     },
     "execution_count": 173,
     "metadata": {},
     "output_type": "execute_result"
    }
   ],
   "source": [
    "df.iloc[1]['content']\n"
   ]
  },
  {
   "cell_type": "code",
   "execution_count": 174,
   "id": "ca1da223",
   "metadata": {},
   "outputs": [
    {
     "data": {
      "text/html": [
       "\n",
       "  <style>\n",
       "    pre {\n",
       "        white-space: pre-wrap;\n",
       "    }\n",
       "  </style>\n",
       "  "
      ],
      "text/plain": [
       "<IPython.core.display.HTML object>"
      ]
     },
     "metadata": {},
     "output_type": "display_data"
    },
    {
     "data": {
      "text/html": [
       "\n",
       "  <style>\n",
       "    pre {\n",
       "        white-space: pre-wrap;\n",
       "    }\n",
       "  </style>\n",
       "  "
      ],
      "text/plain": [
       "<IPython.core.display.HTML object>"
      ]
     },
     "metadata": {},
     "output_type": "display_data"
    },
    {
     "name": "stdout",
     "output_type": "stream",
     "text": [
      "['our', 'first', 'pop', 'up', 'of', '2022', 'partying_face', 'clipping_hands_medium_skin_tone', 'join', 'us', 'from', '10am', '6pm', 'at', 'botanical', 'garden', 'and', 'get', 'your', 'favorite', 'hair', 'body', 'smiling_face_with_hearts', 'deal', 'surprise', 'amp', 'more', 'await', 'yellow_heart', 'see', 'you', 'there']\n"
     ]
    }
   ],
   "source": [
    "print(tweet_to_words(df.iloc[1]['content']))"
   ]
  },
  {
   "cell_type": "code",
   "execution_count": 175,
   "id": "a5338fe5",
   "metadata": {},
   "outputs": [
    {
     "data": {
      "text/html": [
       "\n",
       "  <style>\n",
       "    pre {\n",
       "        white-space: pre-wrap;\n",
       "    }\n",
       "  </style>\n",
       "  "
      ],
      "text/plain": [
       "<IPython.core.display.HTML object>"
      ]
     },
     "metadata": {},
     "output_type": "display_data"
    },
    {
     "data": {
      "text/html": [
       "\n",
       "  <style>\n",
       "    pre {\n",
       "        white-space: pre-wrap;\n",
       "    }\n",
       "  </style>\n",
       "  "
      ],
      "text/plain": [
       "<IPython.core.display.HTML object>"
      ]
     },
     "metadata": {},
     "output_type": "display_data"
    },
    {
     "data": {
      "text/html": [
       "<div>\n",
       "<style scoped>\n",
       "    .dataframe tbody tr th:only-of-type {\n",
       "        vertical-align: middle;\n",
       "    }\n",
       "\n",
       "    .dataframe tbody tr th {\n",
       "        vertical-align: top;\n",
       "    }\n",
       "\n",
       "    .dataframe thead th {\n",
       "        text-align: right;\n",
       "    }\n",
       "</style>\n",
       "<table border=\"1\" class=\"dataframe\">\n",
       "  <thead>\n",
       "    <tr style=\"text-align: right;\">\n",
       "      <th></th>\n",
       "      <th>sentiment</th>\n",
       "      <th>username</th>\n",
       "      <th>verified</th>\n",
       "      <th>followersCount</th>\n",
       "      <th>content</th>\n",
       "      <th>date</th>\n",
       "      <th>country</th>\n",
       "      <th>replyCount</th>\n",
       "      <th>retweetCount</th>\n",
       "      <th>likeCount</th>\n",
       "      <th>url</th>\n",
       "      <th>hashtags</th>\n",
       "    </tr>\n",
       "  </thead>\n",
       "  <tbody>\n",
       "    <tr>\n",
       "      <th>0</th>\n",
       "      <td>1</td>\n",
       "      <td>wintersgordon</td>\n",
       "      <td>False</td>\n",
       "      <td>342</td>\n",
       "      <td>Still trying to master that contour? A mistake...</td>\n",
       "      <td>2022-08-26 11:35:12+00:00</td>\n",
       "      <td>Argentina</td>\n",
       "      <td>0</td>\n",
       "      <td>0</td>\n",
       "      <td>0</td>\n",
       "      <td>https://twitter.com/wintersgordon/status/15631...</td>\n",
       "      <td>['contour', 'contouringmakeup', 'countouring',...</td>\n",
       "    </tr>\n",
       "    <tr>\n",
       "      <th>1</th>\n",
       "      <td>0</td>\n",
       "      <td>TheTressXpress</td>\n",
       "      <td>False</td>\n",
       "      <td>74</td>\n",
       "      <td>Our first Pop Up of 2022 🥳👏🏽\\nJoin us from 10a...</td>\n",
       "      <td>2022-07-27 14:24:19+00:00</td>\n",
       "      <td>Papua New Guinea</td>\n",
       "      <td>0</td>\n",
       "      <td>3</td>\n",
       "      <td>2</td>\n",
       "      <td>https://twitter.com/TheTressXpress/status/1552...</td>\n",
       "      <td>['popup', 'business', 'hairproducts', 'summer']</td>\n",
       "    </tr>\n",
       "    <tr>\n",
       "      <th>2</th>\n",
       "      <td>1</td>\n",
       "      <td>Style_Sage</td>\n",
       "      <td>False</td>\n",
       "      <td>967</td>\n",
       "      <td>Our June Beauty Report is live, and here are s...</td>\n",
       "      <td>2022-06-15 17:50:48+00:00</td>\n",
       "      <td>Argentina</td>\n",
       "      <td>0</td>\n",
       "      <td>0</td>\n",
       "      <td>0</td>\n",
       "      <td>https://twitter.com/Style_Sage/status/15371305...</td>\n",
       "      <td>['beauty', 'beautytrends', 'makeup']</td>\n",
       "    </tr>\n",
       "    <tr>\n",
       "      <th>3</th>\n",
       "      <td>0</td>\n",
       "      <td>BeautyLashed</td>\n",
       "      <td>False</td>\n",
       "      <td>2</td>\n",
       "      <td>📷 Definitely not shy 🤩 @keiana.mua absolutely ...</td>\n",
       "      <td>2022-07-30 14:44:50+00:00</td>\n",
       "      <td>Argentina</td>\n",
       "      <td>0</td>\n",
       "      <td>0</td>\n",
       "      <td>0</td>\n",
       "      <td>https://twitter.com/BeautyLashed/status/155339...</td>\n",
       "      <td>['makeuptransformation', 'makeuptutorial', 'ma...</td>\n",
       "    </tr>\n",
       "    <tr>\n",
       "      <th>4</th>\n",
       "      <td>1</td>\n",
       "      <td>tecyl1971</td>\n",
       "      <td>False</td>\n",
       "      <td>41</td>\n",
       "      <td>The Sonya™ daily skincare system delivers aloe...</td>\n",
       "      <td>2022-07-06 20:02:51+00:00</td>\n",
       "      <td>Argentina</td>\n",
       "      <td>0</td>\n",
       "      <td>0</td>\n",
       "      <td>1</td>\n",
       "      <td>https://twitter.com/tecyl1971/status/154477389...</td>\n",
       "      <td>['foreverskincare', 'dailyskincare', 'tecylalo...</td>\n",
       "    </tr>\n",
       "  </tbody>\n",
       "</table>\n",
       "</div>"
      ],
      "text/plain": [
       "   sentiment        username  verified  followersCount  \\\n",
       "0          1   wintersgordon     False             342   \n",
       "1          0  TheTressXpress     False              74   \n",
       "2          1      Style_Sage     False             967   \n",
       "3          0    BeautyLashed     False               2   \n",
       "4          1       tecyl1971     False              41   \n",
       "\n",
       "                                             content  \\\n",
       "0  Still trying to master that contour? A mistake...   \n",
       "1  Our first Pop Up of 2022 🥳👏🏽\\nJoin us from 10a...   \n",
       "2  Our June Beauty Report is live, and here are s...   \n",
       "3  📷 Definitely not shy 🤩 @keiana.mua absolutely ...   \n",
       "4  The Sonya™ daily skincare system delivers aloe...   \n",
       "\n",
       "                        date           country  replyCount  retweetCount  \\\n",
       "0  2022-08-26 11:35:12+00:00         Argentina           0             0   \n",
       "1  2022-07-27 14:24:19+00:00  Papua New Guinea           0             3   \n",
       "2  2022-06-15 17:50:48+00:00         Argentina           0             0   \n",
       "3  2022-07-30 14:44:50+00:00         Argentina           0             0   \n",
       "4  2022-07-06 20:02:51+00:00         Argentina           0             0   \n",
       "\n",
       "   likeCount                                                url  \\\n",
       "0          0  https://twitter.com/wintersgordon/status/15631...   \n",
       "1          2  https://twitter.com/TheTressXpress/status/1552...   \n",
       "2          0  https://twitter.com/Style_Sage/status/15371305...   \n",
       "3          0  https://twitter.com/BeautyLashed/status/155339...   \n",
       "4          1  https://twitter.com/tecyl1971/status/154477389...   \n",
       "\n",
       "                                            hashtags  \n",
       "0  ['contour', 'contouringmakeup', 'countouring',...  \n",
       "1    ['popup', 'business', 'hairproducts', 'summer']  \n",
       "2               ['beauty', 'beautytrends', 'makeup']  \n",
       "3  ['makeuptransformation', 'makeuptutorial', 'ma...  \n",
       "4  ['foreverskincare', 'dailyskincare', 'tecylalo...  "
      ]
     },
     "execution_count": 175,
     "metadata": {},
     "output_type": "execute_result"
    }
   ],
   "source": [
    "df.head()\n"
   ]
  },
  {
   "cell_type": "code",
   "execution_count": 176,
   "id": "5b6add8c",
   "metadata": {},
   "outputs": [
    {
     "data": {
      "text/html": [
       "\n",
       "  <style>\n",
       "    pre {\n",
       "        white-space: pre-wrap;\n",
       "    }\n",
       "  </style>\n",
       "  "
      ],
      "text/plain": [
       "<IPython.core.display.HTML object>"
      ]
     },
     "metadata": {},
     "output_type": "display_data"
    },
    {
     "data": {
      "text/html": [
       "\n",
       "  <style>\n",
       "    pre {\n",
       "        white-space: pre-wrap;\n",
       "    }\n",
       "  </style>\n",
       "  "
      ],
      "text/plain": [
       "<IPython.core.display.HTML object>"
      ]
     },
     "metadata": {},
     "output_type": "display_data"
    }
   ],
   "source": [
    "testing=df.iloc[0]['content']"
   ]
  },
  {
   "cell_type": "code",
   "execution_count": 177,
   "id": "c2b89224",
   "metadata": {},
   "outputs": [
    {
     "data": {
      "text/html": [
       "\n",
       "  <style>\n",
       "    pre {\n",
       "        white-space: pre-wrap;\n",
       "    }\n",
       "  </style>\n",
       "  "
      ],
      "text/plain": [
       "<IPython.core.display.HTML object>"
      ]
     },
     "metadata": {},
     "output_type": "display_data"
    },
    {
     "data": {
      "text/html": [
       "\n",
       "  <style>\n",
       "    pre {\n",
       "        white-space: pre-wrap;\n",
       "    }\n",
       "  </style>\n",
       "  "
      ],
      "text/plain": [
       "<IPython.core.display.HTML object>"
      ]
     },
     "metadata": {},
     "output_type": "display_data"
    },
    {
     "data": {
      "text/plain": [
       "'Still trying to master that contour? A mistake that many make is to opt for a sparkly bronzer, but it is usually best to use a matte bronzer and save the glow for your highlight! ✨\\nhttps://t.co/JupqCJAXMk\\n #contour #contouringmakeup #countouring #MakeUpTips https://t.co/gjqjt8FPyp'"
      ]
     },
     "execution_count": 177,
     "metadata": {},
     "output_type": "execute_result"
    }
   ],
   "source": [
    "testing"
   ]
  },
  {
   "cell_type": "code",
   "execution_count": 178,
   "id": "e0966486",
   "metadata": {},
   "outputs": [
    {
     "data": {
      "text/html": [
       "\n",
       "  <style>\n",
       "    pre {\n",
       "        white-space: pre-wrap;\n",
       "    }\n",
       "  </style>\n",
       "  "
      ],
      "text/plain": [
       "<IPython.core.display.HTML object>"
      ]
     },
     "metadata": {},
     "output_type": "display_data"
    },
    {
     "data": {
      "text/html": [
       "\n",
       "  <style>\n",
       "    pre {\n",
       "        white-space: pre-wrap;\n",
       "    }\n",
       "  </style>\n",
       "  "
      ],
      "text/plain": [
       "<IPython.core.display.HTML object>"
      ]
     },
     "metadata": {},
     "output_type": "display_data"
    }
   ],
   "source": [
    "testing_output=tweet_to_words(testing)"
   ]
  },
  {
   "cell_type": "code",
   "execution_count": 179,
   "id": "81e77429",
   "metadata": {},
   "outputs": [
    {
     "data": {
      "text/html": [
       "\n",
       "  <style>\n",
       "    pre {\n",
       "        white-space: pre-wrap;\n",
       "    }\n",
       "  </style>\n",
       "  "
      ],
      "text/plain": [
       "<IPython.core.display.HTML object>"
      ]
     },
     "metadata": {},
     "output_type": "display_data"
    },
    {
     "data": {
      "text/html": [
       "\n",
       "  <style>\n",
       "    pre {\n",
       "        white-space: pre-wrap;\n",
       "    }\n",
       "  </style>\n",
       "  "
      ],
      "text/plain": [
       "<IPython.core.display.HTML object>"
      ]
     },
     "metadata": {},
     "output_type": "display_data"
    },
    {
     "data": {
      "text/plain": [
       "['still',\n",
       " 'try',\n",
       " 'to',\n",
       " 'master',\n",
       " 'that',\n",
       " 'contour',\n",
       " 'a',\n",
       " 'mistake',\n",
       " 'that',\n",
       " 'many',\n",
       " 'make',\n",
       " 'be',\n",
       " 'to',\n",
       " 'opt',\n",
       " 'for',\n",
       " 'a',\n",
       " 'sparky',\n",
       " 'bronze',\n",
       " 'but',\n",
       " 'it',\n",
       " 'be',\n",
       " 'usually',\n",
       " 'best',\n",
       " 'to',\n",
       " 'use',\n",
       " 'a',\n",
       " 'matte',\n",
       " 'bronze',\n",
       " 'and',\n",
       " 'save',\n",
       " 'the',\n",
       " 'glow',\n",
       " 'for',\n",
       " 'your',\n",
       " 'highlight',\n",
       " 'spark']"
      ]
     },
     "execution_count": 179,
     "metadata": {},
     "output_type": "execute_result"
    }
   ],
   "source": [
    "testing_output"
   ]
  },
  {
   "cell_type": "code",
   "execution_count": 180,
   "id": "5d5ad030",
   "metadata": {},
   "outputs": [
    {
     "data": {
      "text/html": [
       "\n",
       "  <style>\n",
       "    pre {\n",
       "        white-space: pre-wrap;\n",
       "    }\n",
       "  </style>\n",
       "  "
      ],
      "text/plain": [
       "<IPython.core.display.HTML object>"
      ]
     },
     "metadata": {},
     "output_type": "display_data"
    },
    {
     "data": {
      "text/html": [
       "\n",
       "  <style>\n",
       "    pre {\n",
       "        white-space: pre-wrap;\n",
       "    }\n",
       "  </style>\n",
       "  "
      ],
      "text/plain": [
       "<IPython.core.display.HTML object>"
      ]
     },
     "metadata": {},
     "output_type": "display_data"
    }
   ],
   "source": [
    "testing1=' y\\'all Still trying to master that contour? A mistake that many make is to opt for a sparkly bronzer, but it is usually best to use a matte bronzer and save the glow for your highlight! ✨\\nhttps://t.co/JupqCJAXMk\\n #contour #contouringmakeup #countouring #MakeUpTips https://t.co/gjqjt8FPyp'\n"
   ]
  },
  {
   "cell_type": "code",
   "execution_count": 181,
   "id": "758a368c",
   "metadata": {},
   "outputs": [
    {
     "data": {
      "text/html": [
       "\n",
       "  <style>\n",
       "    pre {\n",
       "        white-space: pre-wrap;\n",
       "    }\n",
       "  </style>\n",
       "  "
      ],
      "text/plain": [
       "<IPython.core.display.HTML object>"
      ]
     },
     "metadata": {},
     "output_type": "display_data"
    },
    {
     "data": {
      "text/html": [
       "\n",
       "  <style>\n",
       "    pre {\n",
       "        white-space: pre-wrap;\n",
       "    }\n",
       "  </style>\n",
       "  "
      ],
      "text/plain": [
       "<IPython.core.display.HTML object>"
      ]
     },
     "metadata": {},
     "output_type": "display_data"
    }
   ],
   "source": [
    "testing_output=tweet_to_words(testing1)\n"
   ]
  },
  {
   "cell_type": "code",
   "execution_count": 182,
   "id": "2129289d",
   "metadata": {},
   "outputs": [
    {
     "data": {
      "text/html": [
       "\n",
       "  <style>\n",
       "    pre {\n",
       "        white-space: pre-wrap;\n",
       "    }\n",
       "  </style>\n",
       "  "
      ],
      "text/plain": [
       "<IPython.core.display.HTML object>"
      ]
     },
     "metadata": {},
     "output_type": "display_data"
    },
    {
     "data": {
      "text/html": [
       "\n",
       "  <style>\n",
       "    pre {\n",
       "        white-space: pre-wrap;\n",
       "    }\n",
       "  </style>\n",
       "  "
      ],
      "text/plain": [
       "<IPython.core.display.HTML object>"
      ]
     },
     "metadata": {},
     "output_type": "display_data"
    },
    {
     "name": "stdout",
     "output_type": "stream",
     "text": [
      "He is :loudly_crying_face:\n"
     ]
    }
   ],
   "source": [
    "testing2='He is 😭'\n",
    "print(emoji.demojize(testing2))"
   ]
  },
  {
   "cell_type": "code",
   "execution_count": 183,
   "id": "3d773682",
   "metadata": {},
   "outputs": [
    {
     "data": {
      "text/html": [
       "\n",
       "  <style>\n",
       "    pre {\n",
       "        white-space: pre-wrap;\n",
       "    }\n",
       "  </style>\n",
       "  "
      ],
      "text/plain": [
       "<IPython.core.display.HTML object>"
      ]
     },
     "metadata": {},
     "output_type": "display_data"
    },
    {
     "data": {
      "text/html": [
       "\n",
       "  <style>\n",
       "    pre {\n",
       "        white-space: pre-wrap;\n",
       "    }\n",
       "  </style>\n",
       "  "
      ],
      "text/plain": [
       "<IPython.core.display.HTML object>"
      ]
     },
     "metadata": {},
     "output_type": "display_data"
    }
   ],
   "source": [
    "testing_output=tweet_to_words(testing2)\n"
   ]
  },
  {
   "cell_type": "code",
   "execution_count": 184,
   "id": "1cdc5010",
   "metadata": {},
   "outputs": [
    {
     "data": {
      "text/html": [
       "\n",
       "  <style>\n",
       "    pre {\n",
       "        white-space: pre-wrap;\n",
       "    }\n",
       "  </style>\n",
       "  "
      ],
      "text/plain": [
       "<IPython.core.display.HTML object>"
      ]
     },
     "metadata": {},
     "output_type": "display_data"
    },
    {
     "data": {
      "text/html": [
       "\n",
       "  <style>\n",
       "    pre {\n",
       "        white-space: pre-wrap;\n",
       "    }\n",
       "  </style>\n",
       "  "
      ],
      "text/plain": [
       "<IPython.core.display.HTML object>"
      ]
     },
     "metadata": {},
     "output_type": "display_data"
    }
   ],
   "source": [
    "df['processed']=df['content']\n"
   ]
  },
  {
   "cell_type": "code",
   "execution_count": 185,
   "id": "aa186adc",
   "metadata": {},
   "outputs": [
    {
     "data": {
      "text/html": [
       "\n",
       "  <style>\n",
       "    pre {\n",
       "        white-space: pre-wrap;\n",
       "    }\n",
       "  </style>\n",
       "  "
      ],
      "text/plain": [
       "<IPython.core.display.HTML object>"
      ]
     },
     "metadata": {},
     "output_type": "display_data"
    },
    {
     "data": {
      "text/html": [
       "\n",
       "  <style>\n",
       "    pre {\n",
       "        white-space: pre-wrap;\n",
       "    }\n",
       "  </style>\n",
       "  "
      ],
      "text/plain": [
       "<IPython.core.display.HTML object>"
      ]
     },
     "metadata": {},
     "output_type": "display_data"
    }
   ],
   "source": [
    "import tqdm\n"
   ]
  },
  {
   "cell_type": "code",
   "execution_count": 186,
   "id": "63b5adca",
   "metadata": {},
   "outputs": [
    {
     "data": {
      "text/html": [
       "\n",
       "  <style>\n",
       "    pre {\n",
       "        white-space: pre-wrap;\n",
       "    }\n",
       "  </style>\n",
       "  "
      ],
      "text/plain": [
       "<IPython.core.display.HTML object>"
      ]
     },
     "metadata": {},
     "output_type": "display_data"
    },
    {
     "data": {
      "text/html": [
       "\n",
       "  <style>\n",
       "    pre {\n",
       "        white-space: pre-wrap;\n",
       "    }\n",
       "  </style>\n",
       "  "
      ],
      "text/plain": [
       "<IPython.core.display.HTML object>"
      ]
     },
     "metadata": {},
     "output_type": "display_data"
    },
    {
     "name": "stdout",
     "output_type": "stream",
     "text": [
      "500\n",
      "1000\n"
     ]
    },
    {
     "data": {
      "text/html": [
       "<div>\n",
       "<style scoped>\n",
       "    .dataframe tbody tr th:only-of-type {\n",
       "        vertical-align: middle;\n",
       "    }\n",
       "\n",
       "    .dataframe tbody tr th {\n",
       "        vertical-align: top;\n",
       "    }\n",
       "\n",
       "    .dataframe thead th {\n",
       "        text-align: right;\n",
       "    }\n",
       "</style>\n",
       "<table border=\"1\" class=\"dataframe\">\n",
       "  <thead>\n",
       "    <tr style=\"text-align: right;\">\n",
       "      <th></th>\n",
       "      <th>sentiment</th>\n",
       "      <th>username</th>\n",
       "      <th>verified</th>\n",
       "      <th>followersCount</th>\n",
       "      <th>content</th>\n",
       "      <th>date</th>\n",
       "      <th>country</th>\n",
       "      <th>replyCount</th>\n",
       "      <th>retweetCount</th>\n",
       "      <th>likeCount</th>\n",
       "      <th>url</th>\n",
       "      <th>hashtags</th>\n",
       "      <th>processed</th>\n",
       "      <th>cleantext_no_spell</th>\n",
       "    </tr>\n",
       "  </thead>\n",
       "  <tbody>\n",
       "    <tr>\n",
       "      <th>0</th>\n",
       "      <td>1</td>\n",
       "      <td>wintersgordon</td>\n",
       "      <td>False</td>\n",
       "      <td>342</td>\n",
       "      <td>Still trying to master that contour? A mistake...</td>\n",
       "      <td>2022-08-26 11:35:12+00:00</td>\n",
       "      <td>Argentina</td>\n",
       "      <td>0</td>\n",
       "      <td>0</td>\n",
       "      <td>0</td>\n",
       "      <td>https://twitter.com/wintersgordon/status/15631...</td>\n",
       "      <td>['contour', 'contouringmakeup', 'countouring',...</td>\n",
       "      <td>Still trying to master that contour? A mistake...</td>\n",
       "      <td>still try to master that contour a mistake tha...</td>\n",
       "    </tr>\n",
       "    <tr>\n",
       "      <th>1</th>\n",
       "      <td>0</td>\n",
       "      <td>TheTressXpress</td>\n",
       "      <td>False</td>\n",
       "      <td>74</td>\n",
       "      <td>Our first Pop Up of 2022 🥳👏🏽\\nJoin us from 10a...</td>\n",
       "      <td>2022-07-27 14:24:19+00:00</td>\n",
       "      <td>Papua New Guinea</td>\n",
       "      <td>0</td>\n",
       "      <td>3</td>\n",
       "      <td>2</td>\n",
       "      <td>https://twitter.com/TheTressXpress/status/1552...</td>\n",
       "      <td>['popup', 'business', 'hairproducts', 'summer']</td>\n",
       "      <td>Our first Pop Up of 2022 🥳👏🏽\\nJoin us from 10a...</td>\n",
       "      <td>our first pop up of 2022 partying_face clippin...</td>\n",
       "    </tr>\n",
       "    <tr>\n",
       "      <th>2</th>\n",
       "      <td>1</td>\n",
       "      <td>Style_Sage</td>\n",
       "      <td>False</td>\n",
       "      <td>967</td>\n",
       "      <td>Our June Beauty Report is live, and here are s...</td>\n",
       "      <td>2022-06-15 17:50:48+00:00</td>\n",
       "      <td>Argentina</td>\n",
       "      <td>0</td>\n",
       "      <td>0</td>\n",
       "      <td>0</td>\n",
       "      <td>https://twitter.com/Style_Sage/status/15371305...</td>\n",
       "      <td>['beauty', 'beautytrends', 'makeup']</td>\n",
       "      <td>Our June Beauty Report is live, and here are s...</td>\n",
       "      <td>our june beauty report be live and here be som...</td>\n",
       "    </tr>\n",
       "    <tr>\n",
       "      <th>3</th>\n",
       "      <td>0</td>\n",
       "      <td>BeautyLashed</td>\n",
       "      <td>False</td>\n",
       "      <td>2</td>\n",
       "      <td>📷 Definitely not shy 🤩 @keiana.mua absolutely ...</td>\n",
       "      <td>2022-07-30 14:44:50+00:00</td>\n",
       "      <td>Argentina</td>\n",
       "      <td>0</td>\n",
       "      <td>0</td>\n",
       "      <td>0</td>\n",
       "      <td>https://twitter.com/BeautyLashed/status/155339...</td>\n",
       "      <td>['makeuptransformation', 'makeuptutorial', 'ma...</td>\n",
       "      <td>📷 Definitely not shy 🤩 @keiana.mua absolutely ...</td>\n",
       "      <td>camera definitely not shy star strike absolute...</td>\n",
       "    </tr>\n",
       "    <tr>\n",
       "      <th>4</th>\n",
       "      <td>1</td>\n",
       "      <td>tecyl1971</td>\n",
       "      <td>False</td>\n",
       "      <td>41</td>\n",
       "      <td>The Sonya™ daily skincare system delivers aloe...</td>\n",
       "      <td>2022-07-06 20:02:51+00:00</td>\n",
       "      <td>Argentina</td>\n",
       "      <td>0</td>\n",
       "      <td>0</td>\n",
       "      <td>1</td>\n",
       "      <td>https://twitter.com/tecyl1971/status/154477389...</td>\n",
       "      <td>['foreverskincare', 'dailyskincare', 'tecylalo...</td>\n",
       "      <td>The Sonya™ daily skincare system delivers aloe...</td>\n",
       "      <td>the sony trade_mark daily sincere system deliv...</td>\n",
       "    </tr>\n",
       "    <tr>\n",
       "      <th>...</th>\n",
       "      <td>...</td>\n",
       "      <td>...</td>\n",
       "      <td>...</td>\n",
       "      <td>...</td>\n",
       "      <td>...</td>\n",
       "      <td>...</td>\n",
       "      <td>...</td>\n",
       "      <td>...</td>\n",
       "      <td>...</td>\n",
       "      <td>...</td>\n",
       "      <td>...</td>\n",
       "      <td>...</td>\n",
       "      <td>...</td>\n",
       "      <td>...</td>\n",
       "    </tr>\n",
       "    <tr>\n",
       "      <th>995</th>\n",
       "      <td>1</td>\n",
       "      <td>NaturenovaH</td>\n",
       "      <td>False</td>\n",
       "      <td>57</td>\n",
       "      <td>✅ Provides a radiant glow\\n✅ Fights signs of a...</td>\n",
       "      <td>2022-08-30 18:05:26+00:00</td>\n",
       "      <td>Argentina</td>\n",
       "      <td>0</td>\n",
       "      <td>0</td>\n",
       "      <td>0</td>\n",
       "      <td>https://twitter.com/NaturenovaH/status/1564675...</td>\n",
       "      <td>['naturenova', 'naturenovaherbals', 'parabenfr...</td>\n",
       "      <td>✅ Provides a radiant glow\\n✅ Fights signs of a...</td>\n",
       "      <td>check_mark_button provide a radiant glow check...</td>\n",
       "    </tr>\n",
       "    <tr>\n",
       "      <th>996</th>\n",
       "      <td>0</td>\n",
       "      <td>50PlusNow</td>\n",
       "      <td>False</td>\n",
       "      <td>2020</td>\n",
       "      <td>Do You Wash Your Face Before or After You Show...</td>\n",
       "      <td>2022-08-25 19:30:32+00:00</td>\n",
       "      <td>Argentina</td>\n",
       "      <td>0</td>\n",
       "      <td>0</td>\n",
       "      <td>1</td>\n",
       "      <td>https://twitter.com/50PlusNow/status/156288515...</td>\n",
       "      <td>['skincare', 'facecare', 'beauty', 'dermatolog...</td>\n",
       "      <td>Do You Wash Your Face Before or After You Show...</td>\n",
       "      <td>do you wash your face before or after you show...</td>\n",
       "    </tr>\n",
       "    <tr>\n",
       "      <th>997</th>\n",
       "      <td>0</td>\n",
       "      <td>yankeeshoppe</td>\n",
       "      <td>False</td>\n",
       "      <td>132</td>\n",
       "      <td>#makeup #likeforfollow Women's Casual Mini Dre...</td>\n",
       "      <td>2022-08-30 17:17:41+00:00</td>\n",
       "      <td>Argentina</td>\n",
       "      <td>0</td>\n",
       "      <td>0</td>\n",
       "      <td>1</td>\n",
       "      <td>https://twitter.com/yankeeshoppe/status/156466...</td>\n",
       "      <td>['makeup', 'likeforfollow']</td>\n",
       "      <td>#makeup #likeforfollow Women's Casual Mini Dre...</td>\n",
       "      <td>women s casual mini dress</td>\n",
       "    </tr>\n",
       "    <tr>\n",
       "      <th>998</th>\n",
       "      <td>1</td>\n",
       "      <td>ReviewStudioUK1</td>\n",
       "      <td>False</td>\n",
       "      <td>846</td>\n",
       "      <td>#ad #gifted Is the heat making your #eczema or...</td>\n",
       "      <td>2022-08-29 14:07:31+00:00</td>\n",
       "      <td>Argentina</td>\n",
       "      <td>0</td>\n",
       "      <td>0</td>\n",
       "      <td>1</td>\n",
       "      <td>https://twitter.com/ReviewStudioUK1/status/156...</td>\n",
       "      <td>['ad', 'gifted', 'eczema', 'psoriasis', 'daily...</td>\n",
       "      <td>#ad #gifted Is the heat making your #eczema or...</td>\n",
       "      <td>be the heat make your or worse will south and ...</td>\n",
       "    </tr>\n",
       "    <tr>\n",
       "      <th>999</th>\n",
       "      <td>0</td>\n",
       "      <td>shadesbyshellz</td>\n",
       "      <td>False</td>\n",
       "      <td>7</td>\n",
       "      <td>Soft Glam with @keri.couture featuring faves f...</td>\n",
       "      <td>2022-08-20 00:39:15+00:00</td>\n",
       "      <td>Argentina</td>\n",
       "      <td>0</td>\n",
       "      <td>1</td>\n",
       "      <td>0</td>\n",
       "      <td>https://twitter.com/shadesbyshellz/status/1560...</td>\n",
       "      <td>['sbsbabe', 'sbs', 'shadesbyshellz', 'dressyou...</td>\n",
       "      <td>Soft Glam with @keri.couture featuring faves f...</td>\n",
       "      <td>soft glam with feature face from the BS Collec...</td>\n",
       "    </tr>\n",
       "  </tbody>\n",
       "</table>\n",
       "<p>1000 rows × 14 columns</p>\n",
       "</div>"
      ],
      "text/plain": [
       "     sentiment         username  verified  followersCount  \\\n",
       "0            1    wintersgordon     False             342   \n",
       "1            0   TheTressXpress     False              74   \n",
       "2            1       Style_Sage     False             967   \n",
       "3            0     BeautyLashed     False               2   \n",
       "4            1        tecyl1971     False              41   \n",
       "..         ...              ...       ...             ...   \n",
       "995          1      NaturenovaH     False              57   \n",
       "996          0        50PlusNow     False            2020   \n",
       "997          0     yankeeshoppe     False             132   \n",
       "998          1  ReviewStudioUK1     False             846   \n",
       "999          0   shadesbyshellz     False               7   \n",
       "\n",
       "                                               content  \\\n",
       "0    Still trying to master that contour? A mistake...   \n",
       "1    Our first Pop Up of 2022 🥳👏🏽\\nJoin us from 10a...   \n",
       "2    Our June Beauty Report is live, and here are s...   \n",
       "3    📷 Definitely not shy 🤩 @keiana.mua absolutely ...   \n",
       "4    The Sonya™ daily skincare system delivers aloe...   \n",
       "..                                                 ...   \n",
       "995  ✅ Provides a radiant glow\\n✅ Fights signs of a...   \n",
       "996  Do You Wash Your Face Before or After You Show...   \n",
       "997  #makeup #likeforfollow Women's Casual Mini Dre...   \n",
       "998  #ad #gifted Is the heat making your #eczema or...   \n",
       "999  Soft Glam with @keri.couture featuring faves f...   \n",
       "\n",
       "                          date           country  replyCount  retweetCount  \\\n",
       "0    2022-08-26 11:35:12+00:00         Argentina           0             0   \n",
       "1    2022-07-27 14:24:19+00:00  Papua New Guinea           0             3   \n",
       "2    2022-06-15 17:50:48+00:00         Argentina           0             0   \n",
       "3    2022-07-30 14:44:50+00:00         Argentina           0             0   \n",
       "4    2022-07-06 20:02:51+00:00         Argentina           0             0   \n",
       "..                         ...               ...         ...           ...   \n",
       "995  2022-08-30 18:05:26+00:00         Argentina           0             0   \n",
       "996  2022-08-25 19:30:32+00:00         Argentina           0             0   \n",
       "997  2022-08-30 17:17:41+00:00         Argentina           0             0   \n",
       "998  2022-08-29 14:07:31+00:00         Argentina           0             0   \n",
       "999  2022-08-20 00:39:15+00:00         Argentina           0             1   \n",
       "\n",
       "     likeCount                                                url  \\\n",
       "0            0  https://twitter.com/wintersgordon/status/15631...   \n",
       "1            2  https://twitter.com/TheTressXpress/status/1552...   \n",
       "2            0  https://twitter.com/Style_Sage/status/15371305...   \n",
       "3            0  https://twitter.com/BeautyLashed/status/155339...   \n",
       "4            1  https://twitter.com/tecyl1971/status/154477389...   \n",
       "..         ...                                                ...   \n",
       "995          0  https://twitter.com/NaturenovaH/status/1564675...   \n",
       "996          1  https://twitter.com/50PlusNow/status/156288515...   \n",
       "997          1  https://twitter.com/yankeeshoppe/status/156466...   \n",
       "998          1  https://twitter.com/ReviewStudioUK1/status/156...   \n",
       "999          0  https://twitter.com/shadesbyshellz/status/1560...   \n",
       "\n",
       "                                              hashtags  \\\n",
       "0    ['contour', 'contouringmakeup', 'countouring',...   \n",
       "1      ['popup', 'business', 'hairproducts', 'summer']   \n",
       "2                 ['beauty', 'beautytrends', 'makeup']   \n",
       "3    ['makeuptransformation', 'makeuptutorial', 'ma...   \n",
       "4    ['foreverskincare', 'dailyskincare', 'tecylalo...   \n",
       "..                                                 ...   \n",
       "995  ['naturenova', 'naturenovaherbals', 'parabenfr...   \n",
       "996  ['skincare', 'facecare', 'beauty', 'dermatolog...   \n",
       "997                        ['makeup', 'likeforfollow']   \n",
       "998  ['ad', 'gifted', 'eczema', 'psoriasis', 'daily...   \n",
       "999  ['sbsbabe', 'sbs', 'shadesbyshellz', 'dressyou...   \n",
       "\n",
       "                                             processed  \\\n",
       "0    Still trying to master that contour? A mistake...   \n",
       "1    Our first Pop Up of 2022 🥳👏🏽\\nJoin us from 10a...   \n",
       "2    Our June Beauty Report is live, and here are s...   \n",
       "3    📷 Definitely not shy 🤩 @keiana.mua absolutely ...   \n",
       "4    The Sonya™ daily skincare system delivers aloe...   \n",
       "..                                                 ...   \n",
       "995  ✅ Provides a radiant glow\\n✅ Fights signs of a...   \n",
       "996  Do You Wash Your Face Before or After You Show...   \n",
       "997  #makeup #likeforfollow Women's Casual Mini Dre...   \n",
       "998  #ad #gifted Is the heat making your #eczema or...   \n",
       "999  Soft Glam with @keri.couture featuring faves f...   \n",
       "\n",
       "                                    cleantext_no_spell  \n",
       "0    still try to master that contour a mistake tha...  \n",
       "1    our first pop up of 2022 partying_face clippin...  \n",
       "2    our june beauty report be live and here be som...  \n",
       "3    camera definitely not shy star strike absolute...  \n",
       "4    the sony trade_mark daily sincere system deliv...  \n",
       "..                                                 ...  \n",
       "995  check_mark_button provide a radiant glow check...  \n",
       "996  do you wash your face before or after you show...  \n",
       "997                          women s casual mini dress  \n",
       "998  be the heat make your or worse will south and ...  \n",
       "999  soft glam with feature face from the BS Collec...  \n",
       "\n",
       "[1000 rows x 14 columns]"
      ]
     },
     "execution_count": 186,
     "metadata": {},
     "output_type": "execute_result"
    }
   ],
   "source": [
    "cleantext=[]\n",
    "i=0\n",
    "for item in df['content']:\n",
    "    if type(item)==float:\n",
    "      item = str(item)\n",
    "    words=tweet_to_words(item)\n",
    "    cleantext+=[words]\n",
    "    i+=1\n",
    "    if i%500==0:\n",
    "      print(i)\n",
    "res = list(map(' '.join, cleantext))\n",
    "df['cleantext_no_spell']=res\n",
    "df"
   ]
  },
  {
   "cell_type": "code",
   "execution_count": 187,
   "id": "531ee682",
   "metadata": {},
   "outputs": [
    {
     "data": {
      "text/html": [
       "\n",
       "  <style>\n",
       "    pre {\n",
       "        white-space: pre-wrap;\n",
       "    }\n",
       "  </style>\n",
       "  "
      ],
      "text/plain": [
       "<IPython.core.display.HTML object>"
      ]
     },
     "metadata": {},
     "output_type": "display_data"
    },
    {
     "data": {
      "text/html": [
       "\n",
       "  <style>\n",
       "    pre {\n",
       "        white-space: pre-wrap;\n",
       "    }\n",
       "  </style>\n",
       "  "
      ],
      "text/plain": [
       "<IPython.core.display.HTML object>"
      ]
     },
     "metadata": {},
     "output_type": "display_data"
    },
    {
     "name": "stdout",
     "output_type": "stream",
     "text": [
      "500\n",
      "1000\n"
     ]
    },
    {
     "data": {
      "text/html": [
       "<div>\n",
       "<style scoped>\n",
       "    .dataframe tbody tr th:only-of-type {\n",
       "        vertical-align: middle;\n",
       "    }\n",
       "\n",
       "    .dataframe tbody tr th {\n",
       "        vertical-align: top;\n",
       "    }\n",
       "\n",
       "    .dataframe thead th {\n",
       "        text-align: right;\n",
       "    }\n",
       "</style>\n",
       "<table border=\"1\" class=\"dataframe\">\n",
       "  <thead>\n",
       "    <tr style=\"text-align: right;\">\n",
       "      <th></th>\n",
       "      <th>sentiment</th>\n",
       "      <th>username</th>\n",
       "      <th>verified</th>\n",
       "      <th>followersCount</th>\n",
       "      <th>content</th>\n",
       "      <th>date</th>\n",
       "      <th>country</th>\n",
       "      <th>replyCount</th>\n",
       "      <th>retweetCount</th>\n",
       "      <th>likeCount</th>\n",
       "      <th>url</th>\n",
       "      <th>hashtags</th>\n",
       "      <th>processed</th>\n",
       "      <th>cleantext_no_spell</th>\n",
       "      <th>cleantext_no_spell_no_lemma</th>\n",
       "    </tr>\n",
       "  </thead>\n",
       "  <tbody>\n",
       "    <tr>\n",
       "      <th>0</th>\n",
       "      <td>1</td>\n",
       "      <td>wintersgordon</td>\n",
       "      <td>False</td>\n",
       "      <td>342</td>\n",
       "      <td>Still trying to master that contour? A mistake...</td>\n",
       "      <td>2022-08-26 11:35:12+00:00</td>\n",
       "      <td>Argentina</td>\n",
       "      <td>0</td>\n",
       "      <td>0</td>\n",
       "      <td>0</td>\n",
       "      <td>https://twitter.com/wintersgordon/status/15631...</td>\n",
       "      <td>['contour', 'contouringmakeup', 'countouring',...</td>\n",
       "      <td>Still trying to master that contour? A mistake...</td>\n",
       "      <td>still try to master that contour a mistake tha...</td>\n",
       "      <td>still try to master that contour a mistake tha...</td>\n",
       "    </tr>\n",
       "    <tr>\n",
       "      <th>1</th>\n",
       "      <td>0</td>\n",
       "      <td>TheTressXpress</td>\n",
       "      <td>False</td>\n",
       "      <td>74</td>\n",
       "      <td>Our first Pop Up of 2022 🥳👏🏽\\nJoin us from 10a...</td>\n",
       "      <td>2022-07-27 14:24:19+00:00</td>\n",
       "      <td>Papua New Guinea</td>\n",
       "      <td>0</td>\n",
       "      <td>3</td>\n",
       "      <td>2</td>\n",
       "      <td>https://twitter.com/TheTressXpress/status/1552...</td>\n",
       "      <td>['popup', 'business', 'hairproducts', 'summer']</td>\n",
       "      <td>Our first Pop Up of 2022 🥳👏🏽\\nJoin us from 10a...</td>\n",
       "      <td>our first pop up of 2022 partying_face clippin...</td>\n",
       "      <td>our first pop up of 2022 partying_face clippin...</td>\n",
       "    </tr>\n",
       "    <tr>\n",
       "      <th>2</th>\n",
       "      <td>1</td>\n",
       "      <td>Style_Sage</td>\n",
       "      <td>False</td>\n",
       "      <td>967</td>\n",
       "      <td>Our June Beauty Report is live, and here are s...</td>\n",
       "      <td>2022-06-15 17:50:48+00:00</td>\n",
       "      <td>Argentina</td>\n",
       "      <td>0</td>\n",
       "      <td>0</td>\n",
       "      <td>0</td>\n",
       "      <td>https://twitter.com/Style_Sage/status/15371305...</td>\n",
       "      <td>['beauty', 'beautytrends', 'makeup']</td>\n",
       "      <td>Our June Beauty Report is live, and here are s...</td>\n",
       "      <td>our june beauty report be live and here be som...</td>\n",
       "      <td>our june beauty report be live and here be som...</td>\n",
       "    </tr>\n",
       "    <tr>\n",
       "      <th>3</th>\n",
       "      <td>0</td>\n",
       "      <td>BeautyLashed</td>\n",
       "      <td>False</td>\n",
       "      <td>2</td>\n",
       "      <td>📷 Definitely not shy 🤩 @keiana.mua absolutely ...</td>\n",
       "      <td>2022-07-30 14:44:50+00:00</td>\n",
       "      <td>Argentina</td>\n",
       "      <td>0</td>\n",
       "      <td>0</td>\n",
       "      <td>0</td>\n",
       "      <td>https://twitter.com/BeautyLashed/status/155339...</td>\n",
       "      <td>['makeuptransformation', 'makeuptutorial', 'ma...</td>\n",
       "      <td>📷 Definitely not shy 🤩 @keiana.mua absolutely ...</td>\n",
       "      <td>camera definitely not shy star strike absolute...</td>\n",
       "      <td>camera definitely not shy star strike absolute...</td>\n",
       "    </tr>\n",
       "    <tr>\n",
       "      <th>4</th>\n",
       "      <td>1</td>\n",
       "      <td>tecyl1971</td>\n",
       "      <td>False</td>\n",
       "      <td>41</td>\n",
       "      <td>The Sonya™ daily skincare system delivers aloe...</td>\n",
       "      <td>2022-07-06 20:02:51+00:00</td>\n",
       "      <td>Argentina</td>\n",
       "      <td>0</td>\n",
       "      <td>0</td>\n",
       "      <td>1</td>\n",
       "      <td>https://twitter.com/tecyl1971/status/154477389...</td>\n",
       "      <td>['foreverskincare', 'dailyskincare', 'tecylalo...</td>\n",
       "      <td>The Sonya™ daily skincare system delivers aloe...</td>\n",
       "      <td>the sony trade_mark daily sincere system deliv...</td>\n",
       "      <td>the sony trade_mark daily sincere system deliv...</td>\n",
       "    </tr>\n",
       "    <tr>\n",
       "      <th>...</th>\n",
       "      <td>...</td>\n",
       "      <td>...</td>\n",
       "      <td>...</td>\n",
       "      <td>...</td>\n",
       "      <td>...</td>\n",
       "      <td>...</td>\n",
       "      <td>...</td>\n",
       "      <td>...</td>\n",
       "      <td>...</td>\n",
       "      <td>...</td>\n",
       "      <td>...</td>\n",
       "      <td>...</td>\n",
       "      <td>...</td>\n",
       "      <td>...</td>\n",
       "      <td>...</td>\n",
       "    </tr>\n",
       "    <tr>\n",
       "      <th>995</th>\n",
       "      <td>1</td>\n",
       "      <td>NaturenovaH</td>\n",
       "      <td>False</td>\n",
       "      <td>57</td>\n",
       "      <td>✅ Provides a radiant glow\\n✅ Fights signs of a...</td>\n",
       "      <td>2022-08-30 18:05:26+00:00</td>\n",
       "      <td>Argentina</td>\n",
       "      <td>0</td>\n",
       "      <td>0</td>\n",
       "      <td>0</td>\n",
       "      <td>https://twitter.com/NaturenovaH/status/1564675...</td>\n",
       "      <td>['naturenova', 'naturenovaherbals', 'parabenfr...</td>\n",
       "      <td>✅ Provides a radiant glow\\n✅ Fights signs of a...</td>\n",
       "      <td>check_mark_button provide a radiant glow check...</td>\n",
       "      <td>check_mark_button provide a radiant glow check...</td>\n",
       "    </tr>\n",
       "    <tr>\n",
       "      <th>996</th>\n",
       "      <td>0</td>\n",
       "      <td>50PlusNow</td>\n",
       "      <td>False</td>\n",
       "      <td>2020</td>\n",
       "      <td>Do You Wash Your Face Before or After You Show...</td>\n",
       "      <td>2022-08-25 19:30:32+00:00</td>\n",
       "      <td>Argentina</td>\n",
       "      <td>0</td>\n",
       "      <td>0</td>\n",
       "      <td>1</td>\n",
       "      <td>https://twitter.com/50PlusNow/status/156288515...</td>\n",
       "      <td>['skincare', 'facecare', 'beauty', 'dermatolog...</td>\n",
       "      <td>Do You Wash Your Face Before or After You Show...</td>\n",
       "      <td>do you wash your face before or after you show...</td>\n",
       "      <td>do you wash your face before or after you show...</td>\n",
       "    </tr>\n",
       "    <tr>\n",
       "      <th>997</th>\n",
       "      <td>0</td>\n",
       "      <td>yankeeshoppe</td>\n",
       "      <td>False</td>\n",
       "      <td>132</td>\n",
       "      <td>#makeup #likeforfollow Women's Casual Mini Dre...</td>\n",
       "      <td>2022-08-30 17:17:41+00:00</td>\n",
       "      <td>Argentina</td>\n",
       "      <td>0</td>\n",
       "      <td>0</td>\n",
       "      <td>1</td>\n",
       "      <td>https://twitter.com/yankeeshoppe/status/156466...</td>\n",
       "      <td>['makeup', 'likeforfollow']</td>\n",
       "      <td>#makeup #likeforfollow Women's Casual Mini Dre...</td>\n",
       "      <td>women s casual mini dress</td>\n",
       "      <td>women s casual mini dress</td>\n",
       "    </tr>\n",
       "    <tr>\n",
       "      <th>998</th>\n",
       "      <td>1</td>\n",
       "      <td>ReviewStudioUK1</td>\n",
       "      <td>False</td>\n",
       "      <td>846</td>\n",
       "      <td>#ad #gifted Is the heat making your #eczema or...</td>\n",
       "      <td>2022-08-29 14:07:31+00:00</td>\n",
       "      <td>Argentina</td>\n",
       "      <td>0</td>\n",
       "      <td>0</td>\n",
       "      <td>1</td>\n",
       "      <td>https://twitter.com/ReviewStudioUK1/status/156...</td>\n",
       "      <td>['ad', 'gifted', 'eczema', 'psoriasis', 'daily...</td>\n",
       "      <td>#ad #gifted Is the heat making your #eczema or...</td>\n",
       "      <td>be the heat make your or worse will south and ...</td>\n",
       "      <td>be the heat make your or worse will south and ...</td>\n",
       "    </tr>\n",
       "    <tr>\n",
       "      <th>999</th>\n",
       "      <td>0</td>\n",
       "      <td>shadesbyshellz</td>\n",
       "      <td>False</td>\n",
       "      <td>7</td>\n",
       "      <td>Soft Glam with @keri.couture featuring faves f...</td>\n",
       "      <td>2022-08-20 00:39:15+00:00</td>\n",
       "      <td>Argentina</td>\n",
       "      <td>0</td>\n",
       "      <td>1</td>\n",
       "      <td>0</td>\n",
       "      <td>https://twitter.com/shadesbyshellz/status/1560...</td>\n",
       "      <td>['sbsbabe', 'sbs', 'shadesbyshellz', 'dressyou...</td>\n",
       "      <td>Soft Glam with @keri.couture featuring faves f...</td>\n",
       "      <td>soft glam with feature face from the BS Collec...</td>\n",
       "      <td>soft glam with feature face from the BS Collec...</td>\n",
       "    </tr>\n",
       "  </tbody>\n",
       "</table>\n",
       "<p>1000 rows × 15 columns</p>\n",
       "</div>"
      ],
      "text/plain": [
       "     sentiment         username  verified  followersCount  \\\n",
       "0            1    wintersgordon     False             342   \n",
       "1            0   TheTressXpress     False              74   \n",
       "2            1       Style_Sage     False             967   \n",
       "3            0     BeautyLashed     False               2   \n",
       "4            1        tecyl1971     False              41   \n",
       "..         ...              ...       ...             ...   \n",
       "995          1      NaturenovaH     False              57   \n",
       "996          0        50PlusNow     False            2020   \n",
       "997          0     yankeeshoppe     False             132   \n",
       "998          1  ReviewStudioUK1     False             846   \n",
       "999          0   shadesbyshellz     False               7   \n",
       "\n",
       "                                               content  \\\n",
       "0    Still trying to master that contour? A mistake...   \n",
       "1    Our first Pop Up of 2022 🥳👏🏽\\nJoin us from 10a...   \n",
       "2    Our June Beauty Report is live, and here are s...   \n",
       "3    📷 Definitely not shy 🤩 @keiana.mua absolutely ...   \n",
       "4    The Sonya™ daily skincare system delivers aloe...   \n",
       "..                                                 ...   \n",
       "995  ✅ Provides a radiant glow\\n✅ Fights signs of a...   \n",
       "996  Do You Wash Your Face Before or After You Show...   \n",
       "997  #makeup #likeforfollow Women's Casual Mini Dre...   \n",
       "998  #ad #gifted Is the heat making your #eczema or...   \n",
       "999  Soft Glam with @keri.couture featuring faves f...   \n",
       "\n",
       "                          date           country  replyCount  retweetCount  \\\n",
       "0    2022-08-26 11:35:12+00:00         Argentina           0             0   \n",
       "1    2022-07-27 14:24:19+00:00  Papua New Guinea           0             3   \n",
       "2    2022-06-15 17:50:48+00:00         Argentina           0             0   \n",
       "3    2022-07-30 14:44:50+00:00         Argentina           0             0   \n",
       "4    2022-07-06 20:02:51+00:00         Argentina           0             0   \n",
       "..                         ...               ...         ...           ...   \n",
       "995  2022-08-30 18:05:26+00:00         Argentina           0             0   \n",
       "996  2022-08-25 19:30:32+00:00         Argentina           0             0   \n",
       "997  2022-08-30 17:17:41+00:00         Argentina           0             0   \n",
       "998  2022-08-29 14:07:31+00:00         Argentina           0             0   \n",
       "999  2022-08-20 00:39:15+00:00         Argentina           0             1   \n",
       "\n",
       "     likeCount                                                url  \\\n",
       "0            0  https://twitter.com/wintersgordon/status/15631...   \n",
       "1            2  https://twitter.com/TheTressXpress/status/1552...   \n",
       "2            0  https://twitter.com/Style_Sage/status/15371305...   \n",
       "3            0  https://twitter.com/BeautyLashed/status/155339...   \n",
       "4            1  https://twitter.com/tecyl1971/status/154477389...   \n",
       "..         ...                                                ...   \n",
       "995          0  https://twitter.com/NaturenovaH/status/1564675...   \n",
       "996          1  https://twitter.com/50PlusNow/status/156288515...   \n",
       "997          1  https://twitter.com/yankeeshoppe/status/156466...   \n",
       "998          1  https://twitter.com/ReviewStudioUK1/status/156...   \n",
       "999          0  https://twitter.com/shadesbyshellz/status/1560...   \n",
       "\n",
       "                                              hashtags  \\\n",
       "0    ['contour', 'contouringmakeup', 'countouring',...   \n",
       "1      ['popup', 'business', 'hairproducts', 'summer']   \n",
       "2                 ['beauty', 'beautytrends', 'makeup']   \n",
       "3    ['makeuptransformation', 'makeuptutorial', 'ma...   \n",
       "4    ['foreverskincare', 'dailyskincare', 'tecylalo...   \n",
       "..                                                 ...   \n",
       "995  ['naturenova', 'naturenovaherbals', 'parabenfr...   \n",
       "996  ['skincare', 'facecare', 'beauty', 'dermatolog...   \n",
       "997                        ['makeup', 'likeforfollow']   \n",
       "998  ['ad', 'gifted', 'eczema', 'psoriasis', 'daily...   \n",
       "999  ['sbsbabe', 'sbs', 'shadesbyshellz', 'dressyou...   \n",
       "\n",
       "                                             processed  \\\n",
       "0    Still trying to master that contour? A mistake...   \n",
       "1    Our first Pop Up of 2022 🥳👏🏽\\nJoin us from 10a...   \n",
       "2    Our June Beauty Report is live, and here are s...   \n",
       "3    📷 Definitely not shy 🤩 @keiana.mua absolutely ...   \n",
       "4    The Sonya™ daily skincare system delivers aloe...   \n",
       "..                                                 ...   \n",
       "995  ✅ Provides a radiant glow\\n✅ Fights signs of a...   \n",
       "996  Do You Wash Your Face Before or After You Show...   \n",
       "997  #makeup #likeforfollow Women's Casual Mini Dre...   \n",
       "998  #ad #gifted Is the heat making your #eczema or...   \n",
       "999  Soft Glam with @keri.couture featuring faves f...   \n",
       "\n",
       "                                    cleantext_no_spell  \\\n",
       "0    still try to master that contour a mistake tha...   \n",
       "1    our first pop up of 2022 partying_face clippin...   \n",
       "2    our june beauty report be live and here be som...   \n",
       "3    camera definitely not shy star strike absolute...   \n",
       "4    the sony trade_mark daily sincere system deliv...   \n",
       "..                                                 ...   \n",
       "995  check_mark_button provide a radiant glow check...   \n",
       "996  do you wash your face before or after you show...   \n",
       "997                          women s casual mini dress   \n",
       "998  be the heat make your or worse will south and ...   \n",
       "999  soft glam with feature face from the BS Collec...   \n",
       "\n",
       "                           cleantext_no_spell_no_lemma  \n",
       "0    still try to master that contour a mistake tha...  \n",
       "1    our first pop up of 2022 partying_face clippin...  \n",
       "2    our june beauty report be live and here be som...  \n",
       "3    camera definitely not shy star strike absolute...  \n",
       "4    the sony trade_mark daily sincere system deliv...  \n",
       "..                                                 ...  \n",
       "995  check_mark_button provide a radiant glow check...  \n",
       "996  do you wash your face before or after you show...  \n",
       "997                          women s casual mini dress  \n",
       "998  be the heat make your or worse will south and ...  \n",
       "999  soft glam with feature face from the BS Collec...  \n",
       "\n",
       "[1000 rows x 15 columns]"
      ]
     },
     "execution_count": 187,
     "metadata": {},
     "output_type": "execute_result"
    }
   ],
   "source": [
    "cleantext=[]\n",
    "i=0\n",
    "for item in df['content']:\n",
    "    if type(item)==float:\n",
    "      item = str(item)\n",
    "    words=tweet_to_words(item)\n",
    "    cleantext+=[words]\n",
    "    i+=1\n",
    "    if i%500==0:\n",
    "      print(i)\n",
    "res = list(map(' '.join, cleantext))\n",
    "df['cleantext_no_spell_no_lemma']=res\n",
    "df"
   ]
  },
  {
   "cell_type": "code",
   "execution_count": 188,
   "id": "f5efb432",
   "metadata": {},
   "outputs": [
    {
     "data": {
      "text/html": [
       "\n",
       "  <style>\n",
       "    pre {\n",
       "        white-space: pre-wrap;\n",
       "    }\n",
       "  </style>\n",
       "  "
      ],
      "text/plain": [
       "<IPython.core.display.HTML object>"
      ]
     },
     "metadata": {},
     "output_type": "display_data"
    },
    {
     "data": {
      "text/html": [
       "\n",
       "  <style>\n",
       "    pre {\n",
       "        white-space: pre-wrap;\n",
       "    }\n",
       "  </style>\n",
       "  "
      ],
      "text/plain": [
       "<IPython.core.display.HTML object>"
      ]
     },
     "metadata": {},
     "output_type": "display_data"
    },
    {
     "data": {
      "text/html": [
       "<div>\n",
       "<style scoped>\n",
       "    .dataframe tbody tr th:only-of-type {\n",
       "        vertical-align: middle;\n",
       "    }\n",
       "\n",
       "    .dataframe tbody tr th {\n",
       "        vertical-align: top;\n",
       "    }\n",
       "\n",
       "    .dataframe thead th {\n",
       "        text-align: right;\n",
       "    }\n",
       "</style>\n",
       "<table border=\"1\" class=\"dataframe\">\n",
       "  <thead>\n",
       "    <tr style=\"text-align: right;\">\n",
       "      <th></th>\n",
       "      <th>sentiment</th>\n",
       "      <th>username</th>\n",
       "      <th>verified</th>\n",
       "      <th>followersCount</th>\n",
       "      <th>content</th>\n",
       "      <th>date</th>\n",
       "      <th>country</th>\n",
       "      <th>replyCount</th>\n",
       "      <th>retweetCount</th>\n",
       "      <th>likeCount</th>\n",
       "      <th>url</th>\n",
       "      <th>hashtags</th>\n",
       "      <th>processed</th>\n",
       "      <th>cleantext_no_spell</th>\n",
       "      <th>cleantext_no_spell_no_lemma</th>\n",
       "    </tr>\n",
       "  </thead>\n",
       "  <tbody>\n",
       "    <tr>\n",
       "      <th>0</th>\n",
       "      <td>1</td>\n",
       "      <td>wintersgordon</td>\n",
       "      <td>False</td>\n",
       "      <td>342</td>\n",
       "      <td>Still trying to master that contour? A mistake...</td>\n",
       "      <td>2022-08-26 11:35:12+00:00</td>\n",
       "      <td>Argentina</td>\n",
       "      <td>0</td>\n",
       "      <td>0</td>\n",
       "      <td>0</td>\n",
       "      <td>https://twitter.com/wintersgordon/status/15631...</td>\n",
       "      <td>['contour', 'contouringmakeup', 'countouring',...</td>\n",
       "      <td>still try to master that contour a mistake tha...</td>\n",
       "      <td>still try to master that contour a mistake tha...</td>\n",
       "      <td>still try to master that contour a mistake tha...</td>\n",
       "    </tr>\n",
       "    <tr>\n",
       "      <th>1</th>\n",
       "      <td>0</td>\n",
       "      <td>TheTressXpress</td>\n",
       "      <td>False</td>\n",
       "      <td>74</td>\n",
       "      <td>Our first Pop Up of 2022 🥳👏🏽\\nJoin us from 10a...</td>\n",
       "      <td>2022-07-27 14:24:19+00:00</td>\n",
       "      <td>Papua New Guinea</td>\n",
       "      <td>0</td>\n",
       "      <td>3</td>\n",
       "      <td>2</td>\n",
       "      <td>https://twitter.com/TheTressXpress/status/1552...</td>\n",
       "      <td>['popup', 'business', 'hairproducts', 'summer']</td>\n",
       "      <td>our first pop up of 2022 partying_face clippin...</td>\n",
       "      <td>our first pop up of 2022 partying_face clippin...</td>\n",
       "      <td>our first pop up of 2022 partying_face clippin...</td>\n",
       "    </tr>\n",
       "    <tr>\n",
       "      <th>2</th>\n",
       "      <td>1</td>\n",
       "      <td>Style_Sage</td>\n",
       "      <td>False</td>\n",
       "      <td>967</td>\n",
       "      <td>Our June Beauty Report is live, and here are s...</td>\n",
       "      <td>2022-06-15 17:50:48+00:00</td>\n",
       "      <td>Argentina</td>\n",
       "      <td>0</td>\n",
       "      <td>0</td>\n",
       "      <td>0</td>\n",
       "      <td>https://twitter.com/Style_Sage/status/15371305...</td>\n",
       "      <td>['beauty', 'beautytrends', 'makeup']</td>\n",
       "      <td>our june beauty report be live and here be som...</td>\n",
       "      <td>our june beauty report be live and here be som...</td>\n",
       "      <td>our june beauty report be live and here be som...</td>\n",
       "    </tr>\n",
       "    <tr>\n",
       "      <th>3</th>\n",
       "      <td>0</td>\n",
       "      <td>BeautyLashed</td>\n",
       "      <td>False</td>\n",
       "      <td>2</td>\n",
       "      <td>📷 Definitely not shy 🤩 @keiana.mua absolutely ...</td>\n",
       "      <td>2022-07-30 14:44:50+00:00</td>\n",
       "      <td>Argentina</td>\n",
       "      <td>0</td>\n",
       "      <td>0</td>\n",
       "      <td>0</td>\n",
       "      <td>https://twitter.com/BeautyLashed/status/155339...</td>\n",
       "      <td>['makeuptransformation', 'makeuptutorial', 'ma...</td>\n",
       "      <td>camera definitely not shy star strike absolute...</td>\n",
       "      <td>camera definitely not shy star strike absolute...</td>\n",
       "      <td>camera definitely not shy star strike absolute...</td>\n",
       "    </tr>\n",
       "    <tr>\n",
       "      <th>4</th>\n",
       "      <td>1</td>\n",
       "      <td>tecyl1971</td>\n",
       "      <td>False</td>\n",
       "      <td>41</td>\n",
       "      <td>The Sonya™ daily skincare system delivers aloe...</td>\n",
       "      <td>2022-07-06 20:02:51+00:00</td>\n",
       "      <td>Argentina</td>\n",
       "      <td>0</td>\n",
       "      <td>0</td>\n",
       "      <td>1</td>\n",
       "      <td>https://twitter.com/tecyl1971/status/154477389...</td>\n",
       "      <td>['foreverskincare', 'dailyskincare', 'tecylalo...</td>\n",
       "      <td>the sony trade_mark daily sincere system deliv...</td>\n",
       "      <td>the sony trade_mark daily sincere system deliv...</td>\n",
       "      <td>the sony trade_mark daily sincere system deliv...</td>\n",
       "    </tr>\n",
       "    <tr>\n",
       "      <th>...</th>\n",
       "      <td>...</td>\n",
       "      <td>...</td>\n",
       "      <td>...</td>\n",
       "      <td>...</td>\n",
       "      <td>...</td>\n",
       "      <td>...</td>\n",
       "      <td>...</td>\n",
       "      <td>...</td>\n",
       "      <td>...</td>\n",
       "      <td>...</td>\n",
       "      <td>...</td>\n",
       "      <td>...</td>\n",
       "      <td>...</td>\n",
       "      <td>...</td>\n",
       "      <td>...</td>\n",
       "    </tr>\n",
       "    <tr>\n",
       "      <th>995</th>\n",
       "      <td>1</td>\n",
       "      <td>NaturenovaH</td>\n",
       "      <td>False</td>\n",
       "      <td>57</td>\n",
       "      <td>✅ Provides a radiant glow\\n✅ Fights signs of a...</td>\n",
       "      <td>2022-08-30 18:05:26+00:00</td>\n",
       "      <td>Argentina</td>\n",
       "      <td>0</td>\n",
       "      <td>0</td>\n",
       "      <td>0</td>\n",
       "      <td>https://twitter.com/NaturenovaH/status/1564675...</td>\n",
       "      <td>['naturenova', 'naturenovaherbals', 'parabenfr...</td>\n",
       "      <td>check_mark_button provide a radiant glow check...</td>\n",
       "      <td>check_mark_button provide a radiant glow check...</td>\n",
       "      <td>check_mark_button provide a radiant glow check...</td>\n",
       "    </tr>\n",
       "    <tr>\n",
       "      <th>996</th>\n",
       "      <td>0</td>\n",
       "      <td>50PlusNow</td>\n",
       "      <td>False</td>\n",
       "      <td>2020</td>\n",
       "      <td>Do You Wash Your Face Before or After You Show...</td>\n",
       "      <td>2022-08-25 19:30:32+00:00</td>\n",
       "      <td>Argentina</td>\n",
       "      <td>0</td>\n",
       "      <td>0</td>\n",
       "      <td>1</td>\n",
       "      <td>https://twitter.com/50PlusNow/status/156288515...</td>\n",
       "      <td>['skincare', 'facecare', 'beauty', 'dermatolog...</td>\n",
       "      <td>do you wash your face before or after you show...</td>\n",
       "      <td>do you wash your face before or after you show...</td>\n",
       "      <td>do you wash your face before or after you show...</td>\n",
       "    </tr>\n",
       "    <tr>\n",
       "      <th>997</th>\n",
       "      <td>0</td>\n",
       "      <td>yankeeshoppe</td>\n",
       "      <td>False</td>\n",
       "      <td>132</td>\n",
       "      <td>#makeup #likeforfollow Women's Casual Mini Dre...</td>\n",
       "      <td>2022-08-30 17:17:41+00:00</td>\n",
       "      <td>Argentina</td>\n",
       "      <td>0</td>\n",
       "      <td>0</td>\n",
       "      <td>1</td>\n",
       "      <td>https://twitter.com/yankeeshoppe/status/156466...</td>\n",
       "      <td>['makeup', 'likeforfollow']</td>\n",
       "      <td>women s casual mini dress</td>\n",
       "      <td>women s casual mini dress</td>\n",
       "      <td>women s casual mini dress</td>\n",
       "    </tr>\n",
       "    <tr>\n",
       "      <th>998</th>\n",
       "      <td>1</td>\n",
       "      <td>ReviewStudioUK1</td>\n",
       "      <td>False</td>\n",
       "      <td>846</td>\n",
       "      <td>#ad #gifted Is the heat making your #eczema or...</td>\n",
       "      <td>2022-08-29 14:07:31+00:00</td>\n",
       "      <td>Argentina</td>\n",
       "      <td>0</td>\n",
       "      <td>0</td>\n",
       "      <td>1</td>\n",
       "      <td>https://twitter.com/ReviewStudioUK1/status/156...</td>\n",
       "      <td>['ad', 'gifted', 'eczema', 'psoriasis', 'daily...</td>\n",
       "      <td>be the heat make your or worse will south and ...</td>\n",
       "      <td>be the heat make your or worse will south and ...</td>\n",
       "      <td>be the heat make your or worse will south and ...</td>\n",
       "    </tr>\n",
       "    <tr>\n",
       "      <th>999</th>\n",
       "      <td>0</td>\n",
       "      <td>shadesbyshellz</td>\n",
       "      <td>False</td>\n",
       "      <td>7</td>\n",
       "      <td>Soft Glam with @keri.couture featuring faves f...</td>\n",
       "      <td>2022-08-20 00:39:15+00:00</td>\n",
       "      <td>Argentina</td>\n",
       "      <td>0</td>\n",
       "      <td>1</td>\n",
       "      <td>0</td>\n",
       "      <td>https://twitter.com/shadesbyshellz/status/1560...</td>\n",
       "      <td>['sbsbabe', 'sbs', 'shadesbyshellz', 'dressyou...</td>\n",
       "      <td>soft glam with feature face from the BS Collec...</td>\n",
       "      <td>soft glam with feature face from the BS Collec...</td>\n",
       "      <td>soft glam with feature face from the BS Collec...</td>\n",
       "    </tr>\n",
       "  </tbody>\n",
       "</table>\n",
       "<p>1000 rows × 15 columns</p>\n",
       "</div>"
      ],
      "text/plain": [
       "     sentiment         username  verified  followersCount  \\\n",
       "0            1    wintersgordon     False             342   \n",
       "1            0   TheTressXpress     False              74   \n",
       "2            1       Style_Sage     False             967   \n",
       "3            0     BeautyLashed     False               2   \n",
       "4            1        tecyl1971     False              41   \n",
       "..         ...              ...       ...             ...   \n",
       "995          1      NaturenovaH     False              57   \n",
       "996          0        50PlusNow     False            2020   \n",
       "997          0     yankeeshoppe     False             132   \n",
       "998          1  ReviewStudioUK1     False             846   \n",
       "999          0   shadesbyshellz     False               7   \n",
       "\n",
       "                                               content  \\\n",
       "0    Still trying to master that contour? A mistake...   \n",
       "1    Our first Pop Up of 2022 🥳👏🏽\\nJoin us from 10a...   \n",
       "2    Our June Beauty Report is live, and here are s...   \n",
       "3    📷 Definitely not shy 🤩 @keiana.mua absolutely ...   \n",
       "4    The Sonya™ daily skincare system delivers aloe...   \n",
       "..                                                 ...   \n",
       "995  ✅ Provides a radiant glow\\n✅ Fights signs of a...   \n",
       "996  Do You Wash Your Face Before or After You Show...   \n",
       "997  #makeup #likeforfollow Women's Casual Mini Dre...   \n",
       "998  #ad #gifted Is the heat making your #eczema or...   \n",
       "999  Soft Glam with @keri.couture featuring faves f...   \n",
       "\n",
       "                          date           country  replyCount  retweetCount  \\\n",
       "0    2022-08-26 11:35:12+00:00         Argentina           0             0   \n",
       "1    2022-07-27 14:24:19+00:00  Papua New Guinea           0             3   \n",
       "2    2022-06-15 17:50:48+00:00         Argentina           0             0   \n",
       "3    2022-07-30 14:44:50+00:00         Argentina           0             0   \n",
       "4    2022-07-06 20:02:51+00:00         Argentina           0             0   \n",
       "..                         ...               ...         ...           ...   \n",
       "995  2022-08-30 18:05:26+00:00         Argentina           0             0   \n",
       "996  2022-08-25 19:30:32+00:00         Argentina           0             0   \n",
       "997  2022-08-30 17:17:41+00:00         Argentina           0             0   \n",
       "998  2022-08-29 14:07:31+00:00         Argentina           0             0   \n",
       "999  2022-08-20 00:39:15+00:00         Argentina           0             1   \n",
       "\n",
       "     likeCount                                                url  \\\n",
       "0            0  https://twitter.com/wintersgordon/status/15631...   \n",
       "1            2  https://twitter.com/TheTressXpress/status/1552...   \n",
       "2            0  https://twitter.com/Style_Sage/status/15371305...   \n",
       "3            0  https://twitter.com/BeautyLashed/status/155339...   \n",
       "4            1  https://twitter.com/tecyl1971/status/154477389...   \n",
       "..         ...                                                ...   \n",
       "995          0  https://twitter.com/NaturenovaH/status/1564675...   \n",
       "996          1  https://twitter.com/50PlusNow/status/156288515...   \n",
       "997          1  https://twitter.com/yankeeshoppe/status/156466...   \n",
       "998          1  https://twitter.com/ReviewStudioUK1/status/156...   \n",
       "999          0  https://twitter.com/shadesbyshellz/status/1560...   \n",
       "\n",
       "                                              hashtags  \\\n",
       "0    ['contour', 'contouringmakeup', 'countouring',...   \n",
       "1      ['popup', 'business', 'hairproducts', 'summer']   \n",
       "2                 ['beauty', 'beautytrends', 'makeup']   \n",
       "3    ['makeuptransformation', 'makeuptutorial', 'ma...   \n",
       "4    ['foreverskincare', 'dailyskincare', 'tecylalo...   \n",
       "..                                                 ...   \n",
       "995  ['naturenova', 'naturenovaherbals', 'parabenfr...   \n",
       "996  ['skincare', 'facecare', 'beauty', 'dermatolog...   \n",
       "997                        ['makeup', 'likeforfollow']   \n",
       "998  ['ad', 'gifted', 'eczema', 'psoriasis', 'daily...   \n",
       "999  ['sbsbabe', 'sbs', 'shadesbyshellz', 'dressyou...   \n",
       "\n",
       "                                             processed  \\\n",
       "0    still try to master that contour a mistake tha...   \n",
       "1    our first pop up of 2022 partying_face clippin...   \n",
       "2    our june beauty report be live and here be som...   \n",
       "3    camera definitely not shy star strike absolute...   \n",
       "4    the sony trade_mark daily sincere system deliv...   \n",
       "..                                                 ...   \n",
       "995  check_mark_button provide a radiant glow check...   \n",
       "996  do you wash your face before or after you show...   \n",
       "997                          women s casual mini dress   \n",
       "998  be the heat make your or worse will south and ...   \n",
       "999  soft glam with feature face from the BS Collec...   \n",
       "\n",
       "                                    cleantext_no_spell  \\\n",
       "0    still try to master that contour a mistake tha...   \n",
       "1    our first pop up of 2022 partying_face clippin...   \n",
       "2    our june beauty report be live and here be som...   \n",
       "3    camera definitely not shy star strike absolute...   \n",
       "4    the sony trade_mark daily sincere system deliv...   \n",
       "..                                                 ...   \n",
       "995  check_mark_button provide a radiant glow check...   \n",
       "996  do you wash your face before or after you show...   \n",
       "997                          women s casual mini dress   \n",
       "998  be the heat make your or worse will south and ...   \n",
       "999  soft glam with feature face from the BS Collec...   \n",
       "\n",
       "                           cleantext_no_spell_no_lemma  \n",
       "0    still try to master that contour a mistake tha...  \n",
       "1    our first pop up of 2022 partying_face clippin...  \n",
       "2    our june beauty report be live and here be som...  \n",
       "3    camera definitely not shy star strike absolute...  \n",
       "4    the sony trade_mark daily sincere system deliv...  \n",
       "..                                                 ...  \n",
       "995  check_mark_button provide a radiant glow check...  \n",
       "996  do you wash your face before or after you show...  \n",
       "997                          women s casual mini dress  \n",
       "998  be the heat make your or worse will south and ...  \n",
       "999  soft glam with feature face from the BS Collec...  \n",
       "\n",
       "[1000 rows x 15 columns]"
      ]
     },
     "execution_count": 188,
     "metadata": {},
     "output_type": "execute_result"
    }
   ],
   "source": [
    "df['processed']=df['cleantext_no_spell_no_lemma']\n",
    "df"
   ]
  },
  {
   "cell_type": "code",
   "execution_count": 189,
   "id": "57e6fc57",
   "metadata": {},
   "outputs": [
    {
     "data": {
      "text/html": [
       "\n",
       "  <style>\n",
       "    pre {\n",
       "        white-space: pre-wrap;\n",
       "    }\n",
       "  </style>\n",
       "  "
      ],
      "text/plain": [
       "<IPython.core.display.HTML object>"
      ]
     },
     "metadata": {},
     "output_type": "display_data"
    },
    {
     "data": {
      "text/html": [
       "\n",
       "  <style>\n",
       "    pre {\n",
       "        white-space: pre-wrap;\n",
       "    }\n",
       "  </style>\n",
       "  "
      ],
      "text/plain": [
       "<IPython.core.display.HTML object>"
      ]
     },
     "metadata": {},
     "output_type": "display_data"
    }
   ],
   "source": [
    "df.to_csv(\"processed_train.csv\", encoding = \"utf-8-sig\", index=False)"
   ]
  },
  {
   "cell_type": "code",
   "execution_count": null,
   "id": "bf61795c",
   "metadata": {},
   "outputs": [],
   "source": []
  }
 ],
 "metadata": {
  "kernelspec": {
   "display_name": "Python 3 (ipykernel)",
   "language": "python",
   "name": "python3"
  },
  "language_info": {
   "codemirror_mode": {
    "name": "ipython",
    "version": 3
   },
   "file_extension": ".py",
   "mimetype": "text/x-python",
   "name": "python",
   "nbconvert_exporter": "python",
   "pygments_lexer": "ipython3",
   "version": "3.8.13"
  }
 },
 "nbformat": 4,
 "nbformat_minor": 5
}
