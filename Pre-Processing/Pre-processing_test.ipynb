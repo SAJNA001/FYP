{
 "cells": [
  {
   "cell_type": "code",
   "execution_count": 48,
   "id": "33494083",
   "metadata": {},
   "outputs": [
    {
     "data": {
      "text/html": [
       "\n",
       "  <style>\n",
       "    pre {\n",
       "        white-space: pre-wrap;\n",
       "    }\n",
       "  </style>\n",
       "  "
      ],
      "text/plain": [
       "<IPython.core.display.HTML object>"
      ]
     },
     "metadata": {},
     "output_type": "display_data"
    }
   ],
   "source": [
    "import pandas as pd\n",
    "df=pd.read_csv('/Users/macbookpro/fyp_test.csv')"
   ]
  },
  {
   "cell_type": "code",
   "execution_count": 49,
   "id": "0a58e3c6",
   "metadata": {},
   "outputs": [
    {
     "data": {
      "text/html": [
       "\n",
       "  <style>\n",
       "    pre {\n",
       "        white-space: pre-wrap;\n",
       "    }\n",
       "  </style>\n",
       "  "
      ],
      "text/plain": [
       "<IPython.core.display.HTML object>"
      ]
     },
     "metadata": {},
     "output_type": "display_data"
    },
    {
     "data": {
      "text/html": [
       "<div>\n",
       "<style scoped>\n",
       "    .dataframe tbody tr th:only-of-type {\n",
       "        vertical-align: middle;\n",
       "    }\n",
       "\n",
       "    .dataframe tbody tr th {\n",
       "        vertical-align: top;\n",
       "    }\n",
       "\n",
       "    .dataframe thead th {\n",
       "        text-align: right;\n",
       "    }\n",
       "</style>\n",
       "<table border=\"1\" class=\"dataframe\">\n",
       "  <thead>\n",
       "    <tr style=\"text-align: right;\">\n",
       "      <th></th>\n",
       "      <th>sentiment</th>\n",
       "      <th>username</th>\n",
       "      <th>verified</th>\n",
       "      <th>followersCount</th>\n",
       "      <th>content</th>\n",
       "      <th>date</th>\n",
       "      <th>country</th>\n",
       "      <th>replyCount</th>\n",
       "      <th>retweetCount</th>\n",
       "      <th>likeCount</th>\n",
       "      <th>url</th>\n",
       "      <th>hashtags</th>\n",
       "    </tr>\n",
       "  </thead>\n",
       "  <tbody>\n",
       "    <tr>\n",
       "      <th>0</th>\n",
       "      <td>NaN</td>\n",
       "      <td>TryNotImages</td>\n",
       "      <td>False</td>\n",
       "      <td>180</td>\n",
       "      <td>\"Summer Summer Summertime. Time to sit back an...</td>\n",
       "      <td>2022-07-03 01:33:25+00:00</td>\n",
       "      <td>Mexico</td>\n",
       "      <td>0</td>\n",
       "      <td>0</td>\n",
       "      <td>0</td>\n",
       "      <td>https://twitter.com/TryNotImages/status/154340...</td>\n",
       "      <td>['TryNotImages', 'beauty', 'sunset', 'winstons...</td>\n",
       "    </tr>\n",
       "    <tr>\n",
       "      <th>1</th>\n",
       "      <td>NaN</td>\n",
       "      <td>arar_group</td>\n",
       "      <td>False</td>\n",
       "      <td>33</td>\n",
       "      <td>When your hair is in good shape, it undoubtedl...</td>\n",
       "      <td>2022-08-23 04:59:34+00:00</td>\n",
       "      <td>Argentina</td>\n",
       "      <td>0</td>\n",
       "      <td>0</td>\n",
       "      <td>0</td>\n",
       "      <td>https://twitter.com/arar_group/status/15619411...</td>\n",
       "      <td>['ArarGroup', 'ArarServices', 'ArarInnovation'...</td>\n",
       "    </tr>\n",
       "    <tr>\n",
       "      <th>2</th>\n",
       "      <td>NaN</td>\n",
       "      <td>HBincharge</td>\n",
       "      <td>False</td>\n",
       "      <td>3933</td>\n",
       "      <td>Walk you like a dog… #makeuptransformation #ma...</td>\n",
       "      <td>2022-07-29 06:29:21+00:00</td>\n",
       "      <td>Argentina</td>\n",
       "      <td>0</td>\n",
       "      <td>0</td>\n",
       "      <td>0</td>\n",
       "      <td>https://twitter.com/HBincharge/status/15529040...</td>\n",
       "      <td>['makeuptransformation', 'makeuptrends', 'make...</td>\n",
       "    </tr>\n",
       "    <tr>\n",
       "      <th>3</th>\n",
       "      <td>NaN</td>\n",
       "      <td>CathWarburton</td>\n",
       "      <td>False</td>\n",
       "      <td>44</td>\n",
       "      <td>It's pay day, so go on and treat yourself – yo...</td>\n",
       "      <td>2022-08-30 18:12:13+00:00</td>\n",
       "      <td>Argentina</td>\n",
       "      <td>0</td>\n",
       "      <td>0</td>\n",
       "      <td>0</td>\n",
       "      <td>https://twitter.com/CathWarburton/status/15646...</td>\n",
       "      <td>['Avon', 'Beauty', 'AvonBeauty', 'MakeUp', 'Av...</td>\n",
       "    </tr>\n",
       "    <tr>\n",
       "      <th>4</th>\n",
       "      <td>NaN</td>\n",
       "      <td>MAHJAHAJH</td>\n",
       "      <td>False</td>\n",
       "      <td>22</td>\n",
       "      <td>Here are some tips of what skincare range migh...</td>\n",
       "      <td>2022-08-30 11:40:18+00:00</td>\n",
       "      <td>Argentina</td>\n",
       "      <td>0</td>\n",
       "      <td>0</td>\n",
       "      <td>0</td>\n",
       "      <td>https://twitter.com/MAHJAHAJH/status/156457875...</td>\n",
       "      <td>['SkincareTips', 'Moisturise']</td>\n",
       "    </tr>\n",
       "    <tr>\n",
       "      <th>...</th>\n",
       "      <td>...</td>\n",
       "      <td>...</td>\n",
       "      <td>...</td>\n",
       "      <td>...</td>\n",
       "      <td>...</td>\n",
       "      <td>...</td>\n",
       "      <td>...</td>\n",
       "      <td>...</td>\n",
       "      <td>...</td>\n",
       "      <td>...</td>\n",
       "      <td>...</td>\n",
       "      <td>...</td>\n",
       "    </tr>\n",
       "    <tr>\n",
       "      <th>715</th>\n",
       "      <td>NaN</td>\n",
       "      <td>RanchEmu</td>\n",
       "      <td>False</td>\n",
       "      <td>149</td>\n",
       "      <td>You only have TWO more days to save 15% on the...</td>\n",
       "      <td>2022-08-30 13:59:48+00:00</td>\n",
       "      <td>Argentina</td>\n",
       "      <td>0</td>\n",
       "      <td>3</td>\n",
       "      <td>11</td>\n",
       "      <td>https://twitter.com/RanchEmu/status/1564613862...</td>\n",
       "      <td>['montanaemuranch', 'emutrients', 'EMUGency', ...</td>\n",
       "    </tr>\n",
       "    <tr>\n",
       "      <th>716</th>\n",
       "      <td>NaN</td>\n",
       "      <td>Agnes_Avon</td>\n",
       "      <td>False</td>\n",
       "      <td>32</td>\n",
       "      <td>#powerstay💄 Liquid Stain\\nnew shades 👉  Foreve...</td>\n",
       "      <td>2022-08-30 10:28:35+00:00</td>\n",
       "      <td>Argentina</td>\n",
       "      <td>0</td>\n",
       "      <td>0</td>\n",
       "      <td>0</td>\n",
       "      <td>https://twitter.com/Agnes_Avon/status/15645607...</td>\n",
       "      <td>['powerstay', 'makeup', 'make', 'makeupaddict'...</td>\n",
       "    </tr>\n",
       "    <tr>\n",
       "      <th>717</th>\n",
       "      <td>NaN</td>\n",
       "      <td>bspokeadvantage</td>\n",
       "      <td>False</td>\n",
       "      <td>1700</td>\n",
       "      <td>Sephora is rumoured to be returning to the UK ...</td>\n",
       "      <td>2022-08-30 08:17:53+00:00</td>\n",
       "      <td>Argentina</td>\n",
       "      <td>0</td>\n",
       "      <td>0</td>\n",
       "      <td>0</td>\n",
       "      <td>https://twitter.com/bspokeadvantage/status/156...</td>\n",
       "      <td>['beauty', 'skincare', 'sephora', 'london', 'c...</td>\n",
       "    </tr>\n",
       "    <tr>\n",
       "      <th>718</th>\n",
       "      <td>NaN</td>\n",
       "      <td>ssmith7839</td>\n",
       "      <td>False</td>\n",
       "      <td>7</td>\n",
       "      <td>Live Shopping September 1 @ 8PM ET get a sneak...</td>\n",
       "      <td>2022-08-30 17:10:41+00:00</td>\n",
       "      <td>Argentina</td>\n",
       "      <td>0</td>\n",
       "      <td>0</td>\n",
       "      <td>2</td>\n",
       "      <td>https://twitter.com/ssmith7839/status/15646618...</td>\n",
       "      <td>['avon', 'avonrep', 'liveshopping', 'specialof...</td>\n",
       "    </tr>\n",
       "    <tr>\n",
       "      <th>719</th>\n",
       "      <td>NaN</td>\n",
       "      <td>whatisbestnow</td>\n",
       "      <td>False</td>\n",
       "      <td>250</td>\n",
       "      <td>What's #Best on https://t.co/NxJm1aMV2j ?\\nShi...</td>\n",
       "      <td>2022-07-22 18:27:31+00:00</td>\n",
       "      <td>Argentina</td>\n",
       "      <td>0</td>\n",
       "      <td>0</td>\n",
       "      <td>1</td>\n",
       "      <td>https://twitter.com/whatisbestnow/status/15505...</td>\n",
       "      <td>['Best', 'beauty', 'bobbibrowncosmetics', 'bob...</td>\n",
       "    </tr>\n",
       "  </tbody>\n",
       "</table>\n",
       "<p>720 rows × 12 columns</p>\n",
       "</div>"
      ],
      "text/plain": [
       "     sentiment         username  verified  followersCount  \\\n",
       "0          NaN     TryNotImages     False             180   \n",
       "1          NaN       arar_group     False              33   \n",
       "2          NaN       HBincharge     False            3933   \n",
       "3          NaN    CathWarburton     False              44   \n",
       "4          NaN        MAHJAHAJH     False              22   \n",
       "..         ...              ...       ...             ...   \n",
       "715        NaN         RanchEmu     False             149   \n",
       "716        NaN       Agnes_Avon     False              32   \n",
       "717        NaN  bspokeadvantage     False            1700   \n",
       "718        NaN       ssmith7839     False               7   \n",
       "719        NaN    whatisbestnow     False             250   \n",
       "\n",
       "                                               content  \\\n",
       "0    \"Summer Summer Summertime. Time to sit back an...   \n",
       "1    When your hair is in good shape, it undoubtedl...   \n",
       "2    Walk you like a dog… #makeuptransformation #ma...   \n",
       "3    It's pay day, so go on and treat yourself – yo...   \n",
       "4    Here are some tips of what skincare range migh...   \n",
       "..                                                 ...   \n",
       "715  You only have TWO more days to save 15% on the...   \n",
       "716  #powerstay💄 Liquid Stain\\nnew shades 👉  Foreve...   \n",
       "717  Sephora is rumoured to be returning to the UK ...   \n",
       "718  Live Shopping September 1 @ 8PM ET get a sneak...   \n",
       "719  What's #Best on https://t.co/NxJm1aMV2j ?\\nShi...   \n",
       "\n",
       "                          date    country  replyCount  retweetCount  \\\n",
       "0    2022-07-03 01:33:25+00:00     Mexico           0             0   \n",
       "1    2022-08-23 04:59:34+00:00  Argentina           0             0   \n",
       "2    2022-07-29 06:29:21+00:00  Argentina           0             0   \n",
       "3    2022-08-30 18:12:13+00:00  Argentina           0             0   \n",
       "4    2022-08-30 11:40:18+00:00  Argentina           0             0   \n",
       "..                         ...        ...         ...           ...   \n",
       "715  2022-08-30 13:59:48+00:00  Argentina           0             3   \n",
       "716  2022-08-30 10:28:35+00:00  Argentina           0             0   \n",
       "717  2022-08-30 08:17:53+00:00  Argentina           0             0   \n",
       "718  2022-08-30 17:10:41+00:00  Argentina           0             0   \n",
       "719  2022-07-22 18:27:31+00:00  Argentina           0             0   \n",
       "\n",
       "     likeCount                                                url  \\\n",
       "0            0  https://twitter.com/TryNotImages/status/154340...   \n",
       "1            0  https://twitter.com/arar_group/status/15619411...   \n",
       "2            0  https://twitter.com/HBincharge/status/15529040...   \n",
       "3            0  https://twitter.com/CathWarburton/status/15646...   \n",
       "4            0  https://twitter.com/MAHJAHAJH/status/156457875...   \n",
       "..         ...                                                ...   \n",
       "715         11  https://twitter.com/RanchEmu/status/1564613862...   \n",
       "716          0  https://twitter.com/Agnes_Avon/status/15645607...   \n",
       "717          0  https://twitter.com/bspokeadvantage/status/156...   \n",
       "718          2  https://twitter.com/ssmith7839/status/15646618...   \n",
       "719          1  https://twitter.com/whatisbestnow/status/15505...   \n",
       "\n",
       "                                              hashtags  \n",
       "0    ['TryNotImages', 'beauty', 'sunset', 'winstons...  \n",
       "1    ['ArarGroup', 'ArarServices', 'ArarInnovation'...  \n",
       "2    ['makeuptransformation', 'makeuptrends', 'make...  \n",
       "3    ['Avon', 'Beauty', 'AvonBeauty', 'MakeUp', 'Av...  \n",
       "4                       ['SkincareTips', 'Moisturise']  \n",
       "..                                                 ...  \n",
       "715  ['montanaemuranch', 'emutrients', 'EMUGency', ...  \n",
       "716  ['powerstay', 'makeup', 'make', 'makeupaddict'...  \n",
       "717  ['beauty', 'skincare', 'sephora', 'london', 'c...  \n",
       "718  ['avon', 'avonrep', 'liveshopping', 'specialof...  \n",
       "719  ['Best', 'beauty', 'bobbibrowncosmetics', 'bob...  \n",
       "\n",
       "[720 rows x 12 columns]"
      ]
     },
     "execution_count": 49,
     "metadata": {},
     "output_type": "execute_result"
    }
   ],
   "source": [
    "df"
   ]
  },
  {
   "cell_type": "code",
   "execution_count": 50,
   "id": "c11f84d4",
   "metadata": {},
   "outputs": [
    {
     "data": {
      "text/html": [
       "\n",
       "  <style>\n",
       "    pre {\n",
       "        white-space: pre-wrap;\n",
       "    }\n",
       "  </style>\n",
       "  "
      ],
      "text/plain": [
       "<IPython.core.display.HTML object>"
      ]
     },
     "metadata": {},
     "output_type": "display_data"
    },
    {
     "data": {
      "text/plain": [
       "'\"Summer Summer Summertime. Time to sit back and unwind\"\\n\\nmodel: Monique \\n------\\nCamera: Canon EOS R5\\nLens: Tamron 35mm f1.4\\nLight: Natural light + Godox AD300Pro w/34in Glow softbox \\n------ \\n#TryNotImages #beauty #sunset #winstonsalem #summertime #sunglasses #melaninmagic https://t.co/J1lIprdoQy'"
      ]
     },
     "execution_count": 50,
     "metadata": {},
     "output_type": "execute_result"
    }
   ],
   "source": [
    "df.iloc[0]['content']"
   ]
  },
  {
   "cell_type": "code",
   "execution_count": 51,
   "id": "04b59be1",
   "metadata": {},
   "outputs": [
    {
     "data": {
      "text/html": [
       "\n",
       "  <style>\n",
       "    pre {\n",
       "        white-space: pre-wrap;\n",
       "    }\n",
       "  </style>\n",
       "  "
      ],
      "text/plain": [
       "<IPython.core.display.HTML object>"
      ]
     },
     "metadata": {},
     "output_type": "display_data"
    },
    {
     "data": {
      "text/plain": [
       "0      \"Summer Summer Summertime. Time to sit back an...\n",
       "1      When your hair is in good shape, it undoubtedl...\n",
       "2      Walk you like a dog… #makeuptransformation #ma...\n",
       "3      It's pay day, so go on and treat yourself – yo...\n",
       "4      Here are some tips of what skincare range migh...\n",
       "                             ...                        \n",
       "715    You only have TWO more days to save 15% on the...\n",
       "716    #powerstay💄 Liquid Stain\\nnew shades 👉  Foreve...\n",
       "717    Sephora is rumoured to be returning to the UK ...\n",
       "718    Live Shopping September 1 @ 8PM ET get a sneak...\n",
       "719    What's #Best on https://t.co/NxJm1aMV2j ?\\nShi...\n",
       "Name: content, Length: 720, dtype: object"
      ]
     },
     "execution_count": 51,
     "metadata": {},
     "output_type": "execute_result"
    }
   ],
   "source": [
    "df['content']"
   ]
  },
  {
   "cell_type": "code",
   "execution_count": 52,
   "id": "1adf8dbe",
   "metadata": {},
   "outputs": [
    {
     "data": {
      "text/html": [
       "\n",
       "  <style>\n",
       "    pre {\n",
       "        white-space: pre-wrap;\n",
       "    }\n",
       "  </style>\n",
       "  "
      ],
      "text/plain": [
       "<IPython.core.display.HTML object>"
      ]
     },
     "metadata": {},
     "output_type": "display_data"
    },
    {
     "name": "stdout",
     "output_type": "stream",
     "text": [
      "Requirement already satisfied: emot in ./opt/anaconda3/lib/python3.8/site-packages (3.1)\r\n"
     ]
    }
   ],
   "source": [
    "!pip install emot --upgrade"
   ]
  },
  {
   "cell_type": "code",
   "execution_count": 53,
   "id": "3ec3daee",
   "metadata": {},
   "outputs": [
    {
     "data": {
      "text/html": [
       "\n",
       "  <style>\n",
       "    pre {\n",
       "        white-space: pre-wrap;\n",
       "    }\n",
       "  </style>\n",
       "  "
      ],
      "text/plain": [
       "<IPython.core.display.HTML object>"
      ]
     },
     "metadata": {},
     "output_type": "display_data"
    }
   ],
   "source": [
    "from emot.emo_unicode import UNICODE_EMOJI,EMOTICONS_EMO"
   ]
  },
  {
   "cell_type": "code",
   "execution_count": 54,
   "id": "5a439430",
   "metadata": {},
   "outputs": [
    {
     "data": {
      "text/html": [
       "\n",
       "  <style>\n",
       "    pre {\n",
       "        white-space: pre-wrap;\n",
       "    }\n",
       "  </style>\n",
       "  "
      ],
      "text/plain": [
       "<IPython.core.display.HTML object>"
      ]
     },
     "metadata": {},
     "output_type": "display_data"
    }
   ],
   "source": [
    "from emot.emo_unicode import UNICODE_EMOJI,EMOTICONS_EMO\n",
    "# Converting emojis to words\n",
    "def convert_emojis(text):\n",
    "    for emot in UNICODE_EMOJI:\n",
    "        text = text.replace(emot, \"_\".join(UNICODE_EMOJI[emot].replace(\",\",\"\").replace(\":\",\"\").split()))\n",
    "        return text\n",
    "# Converting emoticons to words    \n",
    "def convert_emoticons(text):\n",
    "    for emot in EMOTICONS_EMO:\n",
    "        text = re.sub(u'\\('+emot+'\\)', \"_\".join(EMOTICONS_EMO[emot].replace(\",\",\"\").split()), text)\n",
    "        return text"
   ]
  },
  {
   "cell_type": "code",
   "execution_count": 55,
   "id": "47ae1822",
   "metadata": {},
   "outputs": [
    {
     "data": {
      "text/html": [
       "\n",
       "  <style>\n",
       "    pre {\n",
       "        white-space: pre-wrap;\n",
       "    }\n",
       "  </style>\n",
       "  "
      ],
      "text/plain": [
       "<IPython.core.display.HTML object>"
      ]
     },
     "metadata": {},
     "output_type": "display_data"
    }
   ],
   "source": [
    "#for now replaced emojis and emoticons instead of removing them\n",
    "def remove_emoticons(text):\n",
    "    emoticon_pattern = re.compile(u'(' + u'|'.join(k for k in EMOTICONS) + u')')\n",
    "    return emoticon_pattern.sub(r'', text)"
   ]
  },
  {
   "cell_type": "code",
   "execution_count": 56,
   "id": "138d0ac5",
   "metadata": {},
   "outputs": [
    {
     "data": {
      "text/html": [
       "\n",
       "  <style>\n",
       "    pre {\n",
       "        white-space: pre-wrap;\n",
       "    }\n",
       "  </style>\n",
       "  "
      ],
      "text/plain": [
       "<IPython.core.display.HTML object>"
      ]
     },
     "metadata": {},
     "output_type": "display_data"
    },
    {
     "name": "stdout",
     "output_type": "stream",
     "text": [
      "Requirement already satisfied: emoji in ./opt/anaconda3/lib/python3.8/site-packages (2.0.0)\r\n"
     ]
    }
   ],
   "source": [
    "!pip install emoji"
   ]
  },
  {
   "cell_type": "code",
   "execution_count": 57,
   "id": "df062a78",
   "metadata": {},
   "outputs": [
    {
     "data": {
      "text/html": [
       "\n",
       "  <style>\n",
       "    pre {\n",
       "        white-space: pre-wrap;\n",
       "    }\n",
       "  </style>\n",
       "  "
      ],
      "text/plain": [
       "<IPython.core.display.HTML object>"
      ]
     },
     "metadata": {},
     "output_type": "display_data"
    }
   ],
   "source": [
    "import emoji"
   ]
  },
  {
   "cell_type": "code",
   "execution_count": 58,
   "id": "80b6a07e",
   "metadata": {},
   "outputs": [
    {
     "data": {
      "text/html": [
       "\n",
       "  <style>\n",
       "    pre {\n",
       "        white-space: pre-wrap;\n",
       "    }\n",
       "  </style>\n",
       "  "
      ],
      "text/plain": [
       "<IPython.core.display.HTML object>"
      ]
     },
     "metadata": {},
     "output_type": "display_data"
    }
   ],
   "source": [
    "def load_dict_smileys():\n",
    "    \n",
    "    return {\n",
    "        \":‑)\":\"smiley\",\n",
    "        \":-]\":\"smiley\",\n",
    "        \":-3\":\"smiley\",\n",
    "        \":->\":\"smiley\",\n",
    "        \"8-)\":\"smiley\",\n",
    "        \":-}\":\"smiley\",\n",
    "        \":)\":\"smiley\",\n",
    "        \":]\":\"smiley\",\n",
    "        \":3\":\"smiley\",\n",
    "        \":>\":\"smiley\",\n",
    "        \"8)\":\"smiley\",\n",
    "        \":}\":\"smiley\",\n",
    "        \":o)\":\"smiley\",\n",
    "        \":c)\":\"smiley\",\n",
    "        \":^)\":\"smiley\",\n",
    "        \"=]\":\"smiley\",\n",
    "        \"=)\":\"smiley\",\n",
    "        \":-))\":\"smiley\",\n",
    "        \":‑D\":\"smiley\",\n",
    "        \"8‑D\":\"smiley\",\n",
    "        \"x‑D\":\"smiley\",\n",
    "        \"X‑D\":\"smiley\",\n",
    "        \":D\":\"smiley\",\n",
    "        \"8D\":\"smiley\",\n",
    "        \"xD\":\"smiley\",\n",
    "        \"XD\":\"smiley\",\n",
    "        \":‑(\":\"sad\",\n",
    "        \":‑c\":\"sad\",\n",
    "        \":‑<\":\"sad\",\n",
    "        \":‑[\":\"sad\",\n",
    "        \":(\":\"sad\",\n",
    "        \":c\":\"sad\",\n",
    "        \":<\":\"sad\",\n",
    "        \":[\":\"sad\",\n",
    "        \":-||\":\"sad\",\n",
    "        \">:[\":\"sad\",\n",
    "        \":{\":\"sad\",\n",
    "        \":@\":\"sad\",\n",
    "        \">:(\":\"sad\",\n",
    "        \":'‑(\":\"sad\",\n",
    "        \":'(\":\"sad\",\n",
    "        \":‑P\":\"playful\",\n",
    "        \"X‑P\":\"playful\",\n",
    "        \"x‑p\":\"playful\",\n",
    "        \":‑p\":\"playful\",\n",
    "        \":‑Þ\":\"playful\",\n",
    "        \":‑þ\":\"playful\",\n",
    "        \":‑b\":\"playful\",\n",
    "        \":P\":\"playful\",\n",
    "        \"XP\":\"playful\",\n",
    "        \"xp\":\"playful\",\n",
    "        \":p\":\"playful\",\n",
    "        \":Þ\":\"playful\",\n",
    "        \":þ\":\"playful\",\n",
    "        \":b\":\"playful\",\n",
    "        \"<3\":\"love\"\n",
    "        }\n"
   ]
  },
  {
   "cell_type": "code",
   "execution_count": 59,
   "id": "8b569745",
   "metadata": {},
   "outputs": [
    {
     "data": {
      "text/html": [
       "\n",
       "  <style>\n",
       "    pre {\n",
       "        white-space: pre-wrap;\n",
       "    }\n",
       "  </style>\n",
       "  "
      ],
      "text/plain": [
       "<IPython.core.display.HTML object>"
      ]
     },
     "metadata": {},
     "output_type": "display_data"
    },
    {
     "name": "stdout",
     "output_type": "stream",
     "text": [
      "Requirement already satisfied: unidecode in ./opt/anaconda3/lib/python3.8/site-packages (1.2.0)\r\n"
     ]
    }
   ],
   "source": [
    "!pip install unidecode\n"
   ]
  },
  {
   "cell_type": "code",
   "execution_count": 60,
   "id": "22dbadb9",
   "metadata": {},
   "outputs": [
    {
     "data": {
      "text/html": [
       "\n",
       "  <style>\n",
       "    pre {\n",
       "        white-space: pre-wrap;\n",
       "    }\n",
       "  </style>\n",
       "  "
      ],
      "text/plain": [
       "<IPython.core.display.HTML object>"
      ]
     },
     "metadata": {},
     "output_type": "display_data"
    }
   ],
   "source": [
    "import unidecode\n",
    "def accented_characters_removal(text):\n",
    "    # this is a docstring\n",
    "    \"\"\"\n",
    "    The function will remove accented characters from the \n",
    "    text contained within the Dataset.\n",
    "       \n",
    "    arguments:\n",
    "        input_text: \"text\" of type \"String\". \n",
    "                    \n",
    "    return:\n",
    "        value: \"text\" with removed accented characters.\n",
    "        \n",
    "    Example:\n",
    "    Input : Málaga, àéêöhello\n",
    "    Output : Malaga, aeeohello    \n",
    "        \n",
    "    \"\"\"\n",
    "    # Remove accented characters from text using unidecode.\n",
    "    # Unidecode() - It takes unicode data & tries to represent it to ASCII characters. \n",
    "    text = unidecode.unidecode(text)\n",
    "    return text"
   ]
  },
  {
   "cell_type": "code",
   "execution_count": 61,
   "id": "20aa6516",
   "metadata": {},
   "outputs": [
    {
     "data": {
      "text/html": [
       "\n",
       "  <style>\n",
       "    pre {\n",
       "        white-space: pre-wrap;\n",
       "    }\n",
       "  </style>\n",
       "  "
      ],
      "text/plain": [
       "<IPython.core.display.HTML object>"
      ]
     },
     "metadata": {},
     "output_type": "display_data"
    },
    {
     "name": "stdout",
     "output_type": "stream",
     "text": [
      "Requirement already satisfied: autocorrect in ./opt/anaconda3/lib/python3.8/site-packages (2.6.1)\r\n"
     ]
    }
   ],
   "source": [
    "!pip install autocorrect\n"
   ]
  },
  {
   "cell_type": "code",
   "execution_count": 62,
   "id": "fe5f3215",
   "metadata": {},
   "outputs": [
    {
     "data": {
      "text/html": [
       "\n",
       "  <style>\n",
       "    pre {\n",
       "        white-space: pre-wrap;\n",
       "    }\n",
       "  </style>\n",
       "  "
      ],
      "text/plain": [
       "<IPython.core.display.HTML object>"
      ]
     },
     "metadata": {},
     "output_type": "display_data"
    }
   ],
   "source": [
    "from nltk.tokenize import word_tokenize \n",
    "from nltk.stem import WordNetLemmatizer \n",
    "from autocorrect import Speller"
   ]
  },
  {
   "cell_type": "code",
   "execution_count": 63,
   "id": "8b44e23a",
   "metadata": {},
   "outputs": [
    {
     "data": {
      "text/html": [
       "\n",
       "  <style>\n",
       "    pre {\n",
       "        white-space: pre-wrap;\n",
       "    }\n",
       "  </style>\n",
       "  "
      ],
      "text/plain": [
       "<IPython.core.display.HTML object>"
      ]
     },
     "metadata": {},
     "output_type": "display_data"
    }
   ],
   "source": [
    "# The code for spelling corrections\n",
    "def spelling_correction(text):\n",
    "    ''' \n",
    "    This function will correct spellings.\n",
    "    \n",
    "    arguments:\n",
    "         input_text: \"text\" of type \"String\".\n",
    "         \n",
    "    return:\n",
    "        value: Text after corrected spellings.\n",
    "        \n",
    "    Example: \n",
    "    Input : This is Oberois from Dlhi who came heree to studdy.\n",
    "    Output : This is Oberoi from Delhi who came here to study.\n",
    "      \n",
    "    \n",
    "    '''\n",
    "    # Check for spellings in English language\n",
    "    spell = Speller(lang='en')\n",
    "    Corrected_text = spell(text)\n",
    "    return Corrected_text"
   ]
  },
  {
   "cell_type": "code",
   "execution_count": 64,
   "id": "b55fa799",
   "metadata": {},
   "outputs": [
    {
     "data": {
      "text/html": [
       "\n",
       "  <style>\n",
       "    pre {\n",
       "        white-space: pre-wrap;\n",
       "    }\n",
       "  </style>\n",
       "  "
      ],
      "text/plain": [
       "<IPython.core.display.HTML object>"
      ]
     },
     "metadata": {},
     "output_type": "display_data"
    }
   ],
   "source": [
    "def clean_ascii(text):\n",
    "        # function to remove non-ASCII chars from data\n",
    "        return ''.join(i for i in text if ord(i) < 128)"
   ]
  },
  {
   "cell_type": "code",
   "execution_count": 65,
   "id": "f968a4ee",
   "metadata": {},
   "outputs": [
    {
     "data": {
      "text/html": [
       "\n",
       "  <style>\n",
       "    pre {\n",
       "        white-space: pre-wrap;\n",
       "    }\n",
       "  </style>\n",
       "  "
      ],
      "text/plain": [
       "<IPython.core.display.HTML object>"
      ]
     },
     "metadata": {},
     "output_type": "display_data"
    }
   ],
   "source": [
    "import re\n",
    "# function to remove numbers\n",
    "def remove_numbers(text):\n",
    "    # define the pattern to keep\n",
    "    pattern = r'[^a-zA-z.,!?/:;\\\"\\'\\s]' \n",
    "    return re.sub(pattern, '', text)"
   ]
  },
  {
   "cell_type": "code",
   "execution_count": 66,
   "id": "89d8258c",
   "metadata": {},
   "outputs": [
    {
     "data": {
      "text/html": [
       "\n",
       "  <style>\n",
       "    pre {\n",
       "        white-space: pre-wrap;\n",
       "    }\n",
       "  </style>\n",
       "  "
      ],
      "text/plain": [
       "<IPython.core.display.HTML object>"
      ]
     },
     "metadata": {},
     "output_type": "display_data"
    },
    {
     "data": {
      "text/plain": [
       "['Requirement already satisfied: contractions in ./opt/anaconda3/lib/python3.8/site-packages (0.1.72)',\n",
       " 'Requirement already satisfied: textsearch>=0.0.21 in ./opt/anaconda3/lib/python3.8/site-packages (from contractions) (0.0.24)',\n",
       " 'Requirement already satisfied: pyahocorasick in ./opt/anaconda3/lib/python3.8/site-packages (from textsearch>=0.0.21->contractions) (1.4.4)',\n",
       " 'Requirement already satisfied: anyascii in ./opt/anaconda3/lib/python3.8/site-packages (from textsearch>=0.0.21->contractions) (0.3.1)']"
      ]
     },
     "execution_count": 66,
     "metadata": {},
     "output_type": "execute_result"
    }
   ],
   "source": [
    "!!pip install contractions"
   ]
  },
  {
   "cell_type": "code",
   "execution_count": 67,
   "id": "cec803e9",
   "metadata": {},
   "outputs": [
    {
     "data": {
      "text/html": [
       "\n",
       "  <style>\n",
       "    pre {\n",
       "        white-space: pre-wrap;\n",
       "    }\n",
       "  </style>\n",
       "  "
      ],
      "text/plain": [
       "<IPython.core.display.HTML object>"
      ]
     },
     "metadata": {},
     "output_type": "display_data"
    }
   ],
   "source": [
    "import contractions\n",
    "def expand_contractions(text):\n",
    "  return contractions.fix(text)"
   ]
  },
  {
   "cell_type": "code",
   "execution_count": 68,
   "id": "f212e441",
   "metadata": {},
   "outputs": [
    {
     "data": {
      "text/html": [
       "\n",
       "  <style>\n",
       "    pre {\n",
       "        white-space: pre-wrap;\n",
       "    }\n",
       "  </style>\n",
       "  "
      ],
      "text/plain": [
       "<IPython.core.display.HTML object>"
      ]
     },
     "metadata": {},
     "output_type": "display_data"
    }
   ],
   "source": [
    "import nltk\n",
    "w_tokenizer = nltk.tokenize.WhitespaceTokenizer()\n",
    "lemmatizer = nltk.stem.WordNetLemmatizer()\n",
    "def lemmatization(text):\n",
    "    \"\"\"This function converts word to their root words \n",
    "       without explicitely cut down as done in stemming.\n",
    "    \n",
    "    arguments:\n",
    "         input_text: \"text\" of type \"String\".\n",
    "         \n",
    "    return:\n",
    "        value: Text having root words only, no tense form, no plural forms\n",
    "        \n",
    "    Example: \n",
    "    Input : text reduced \n",
    "    Output :  text reduce\n",
    "    \n",
    "   \"\"\"\n",
    "    # Converting words to their root forms\n",
    "    \n",
    "    lemma = [lemmatizer.lemmatize(w,'v') for w in w_tokenizer.tokenize(text)]\n",
    "    return lemma"
   ]
  },
  {
   "cell_type": "code",
   "execution_count": 69,
   "id": "db0f8d2a",
   "metadata": {},
   "outputs": [
    {
     "data": {
      "text/html": [
       "\n",
       "  <style>\n",
       "    pre {\n",
       "        white-space: pre-wrap;\n",
       "    }\n",
       "  </style>\n",
       "  "
      ],
      "text/plain": [
       "<IPython.core.display.HTML object>"
      ]
     },
     "metadata": {},
     "output_type": "display_data"
    },
    {
     "name": "stderr",
     "output_type": "stream",
     "text": [
      "[nltk_data] Downloading package wordnet to\n",
      "[nltk_data]     /Users/macbookpro/nltk_data...\n",
      "[nltk_data]   Package wordnet is already up-to-date!\n"
     ]
    },
    {
     "data": {
      "text/plain": [
       "True"
      ]
     },
     "execution_count": 69,
     "metadata": {},
     "output_type": "execute_result"
    }
   ],
   "source": [
    "nltk.download('wordnet')\n"
   ]
  },
  {
   "cell_type": "code",
   "execution_count": 70,
   "id": "98965e02",
   "metadata": {},
   "outputs": [
    {
     "data": {
      "text/html": [
       "\n",
       "  <style>\n",
       "    pre {\n",
       "        white-space: pre-wrap;\n",
       "    }\n",
       "  </style>\n",
       "  "
      ],
      "text/plain": [
       "<IPython.core.display.HTML object>"
      ]
     },
     "metadata": {},
     "output_type": "display_data"
    }
   ],
   "source": [
    "from nltk.corpus import stopwords\n"
   ]
  },
  {
   "cell_type": "code",
   "execution_count": 71,
   "id": "797608eb",
   "metadata": {},
   "outputs": [
    {
     "data": {
      "text/html": [
       "\n",
       "  <style>\n",
       "    pre {\n",
       "        white-space: pre-wrap;\n",
       "    }\n",
       "  </style>\n",
       "  "
      ],
      "text/plain": [
       "<IPython.core.display.HTML object>"
      ]
     },
     "metadata": {},
     "output_type": "display_data"
    },
    {
     "name": "stderr",
     "output_type": "stream",
     "text": [
      "[nltk_data] Downloading package stopwords to\n",
      "[nltk_data]     /Users/macbookpro/nltk_data...\n",
      "[nltk_data]   Package stopwords is already up-to-date!\n"
     ]
    }
   ],
   "source": [
    "nltk.download('stopwords')\n",
    "stop_words = set(stopwords.words('english'))"
   ]
  },
  {
   "cell_type": "code",
   "execution_count": 72,
   "id": "43d0496c",
   "metadata": {},
   "outputs": [
    {
     "data": {
      "text/html": [
       "\n",
       "  <style>\n",
       "    pre {\n",
       "        white-space: pre-wrap;\n",
       "    }\n",
       "  </style>\n",
       "  "
      ],
      "text/plain": [
       "<IPython.core.display.HTML object>"
      ]
     },
     "metadata": {},
     "output_type": "display_data"
    }
   ],
   "source": [
    "def tweet_to_words(tweet):\n",
    "    text = tweet.lower()\n",
    "   \n",
    "    # Code to remove the Hashtags from the text\n",
    "    text=re.sub(r'\\B#\\S+','',text)\n",
    "\n",
    "    # print(text)\n",
    "    # Code to remove the links from the text\n",
    "    text=re.sub(r\"http\\S+\", \"\",text)\n",
    "    text=re.sub(r\"\\ [A-Za-z]*\\.com\", \" \",text)\n",
    "    # Code to substitute the multiple spaces with single spaces\n",
    "    text=re.sub(r'\\s+', ' ', text, flags=re.I)\n",
    "    # Remove the twitter handlers\n",
    "    text=re.sub('@[^\\s]+','',text)\n",
    "    # print(text)\n",
    "\n",
    "    # text=convert_emoticons(text)\n",
    "    SMILEY = load_dict_smileys()  \n",
    "    words = text.split()\n",
    "    reformed = [SMILEY[word] if word in SMILEY else word for word in words]\n",
    "    text = \" \".join(reformed)\n",
    "\n",
    "    # text=convert_emojis(text)\n",
    "    #can check which version is better\n",
    "    text = emoji.demojize(text)\n",
    "    # print(text)\n",
    "    text=accented_characters_removal(text)\n",
    "    text=expand_contractions(text)\n",
    "\n",
    "    # Code to remove the Special characters from the text \n",
    "    text=' '.join(re.findall(r'\\w+', text))\n",
    "    # text=remove_numbers(text)\n",
    "\n",
    "    # print(text)\n",
    "    text=spelling_correction(text)\n",
    "    text=lemmatization(text)\n",
    "    # text=clean_ascii(text)\n",
    "\n",
    "\n",
    "    return text\n",
    "\n",
    "\n",
    "    \n",
    "\n",
    "    # tokenize"
   ]
  },
  {
   "cell_type": "code",
   "execution_count": 73,
   "id": "6f9026ee",
   "metadata": {},
   "outputs": [
    {
     "data": {
      "text/html": [
       "\n",
       "  <style>\n",
       "    pre {\n",
       "        white-space: pre-wrap;\n",
       "    }\n",
       "  </style>\n",
       "  "
      ],
      "text/plain": [
       "<IPython.core.display.HTML object>"
      ]
     },
     "metadata": {},
     "output_type": "display_data"
    }
   ],
   "source": [
    "def tweet_to_words(tweet):\n",
    "    text = tweet.lower()\n",
    "   \n",
    "    # Code to remove the Hashtags from the text\n",
    "    text=re.sub(r'\\B#\\S+','',text)\n",
    "\n",
    "    # print(text)\n",
    "    # Code to remove the links from the text\n",
    "    text=re.sub(r\"http\\S+\", \"\",text)\n",
    "    text=re.sub(r\"\\ [A-Za-z]*\\.com\", \" \",text)\n",
    "    # Code to substitute the multiple spaces with single spaces\n",
    "    text=re.sub(r'\\s+', ' ', text, flags=re.I)\n",
    "    # Remove the twitter handlers\n",
    "    text=re.sub('@[^\\s]+','',text)\n",
    "  \n",
    "    SMILEY = load_dict_smileys()  \n",
    "    words = text.split()\n",
    "    reformed = [SMILEY[word] if word in SMILEY else word for word in words]\n",
    "    text = \" \".join(reformed)\n",
    " \n",
    "    text = emoji.demojize(text)\n",
    "    text=accented_characters_removal(text)\n",
    "    text=expand_contractions(text)\n",
    "\n",
    "    # Code to remove the Special characters from the text \n",
    "    text=' '.join(re.findall(r'\\w+', text))\n",
    "  \n",
    "\n",
    "   \n",
    "    text=spelling_correction(text)\n",
    "    text=lemmatization(text)\n",
    "    \n",
    "\n",
    "    return text\n",
    "\n",
    "\n",
    "    \n",
    "\n",
    "    # tokenize\n",
    "    # words = text.split()\n"
   ]
  },
  {
   "cell_type": "code",
   "execution_count": 74,
   "id": "01079cb7",
   "metadata": {},
   "outputs": [
    {
     "data": {
      "text/html": [
       "\n",
       "  <style>\n",
       "    pre {\n",
       "        white-space: pre-wrap;\n",
       "    }\n",
       "  </style>\n",
       "  "
      ],
      "text/plain": [
       "<IPython.core.display.HTML object>"
      ]
     },
     "metadata": {},
     "output_type": "display_data"
    },
    {
     "name": "stdout",
     "output_type": "stream",
     "text": [
      "['still', 'try', 'to', 'master', 'that', 'contour', 'a', 'mistake', 'that', 'many', 'make', 'be', 'to', 'opt', 'for', 'a', 'sparky', 'bronze', 'but', 'it', 'be', 'usually', 'best', 'to', 'use', 'a', 'matte', 'bronze', 'and', 'save', 'the', 'glow', 'for', 'your', 'highlight', 'spark']\n"
     ]
    }
   ],
   "source": [
    "print(tweet_to_words(\"Still trying to master that contour? A mistake that many make is to opt for a sparkly bronzer, but it is usually best to use a matte bronzer and save the glow for your highlight! ✨\\nhttps://t.co/JupqCJAXMk\\n #contour #contouringmakeup #countouring #MakeUpTips\"))"
   ]
  },
  {
   "cell_type": "code",
   "execution_count": 75,
   "id": "7ec07264",
   "metadata": {},
   "outputs": [
    {
     "data": {
      "text/html": [
       "\n",
       "  <style>\n",
       "    pre {\n",
       "        white-space: pre-wrap;\n",
       "    }\n",
       "  </style>\n",
       "  "
      ],
      "text/plain": [
       "<IPython.core.display.HTML object>"
      ]
     },
     "metadata": {},
     "output_type": "display_data"
    },
    {
     "name": "stderr",
     "output_type": "stream",
     "text": [
      "[nltk_data] Downloading package omw-1.4 to\n",
      "[nltk_data]     /Users/macbookpro/nltk_data...\n",
      "[nltk_data]   Package omw-1.4 is already up-to-date!\n"
     ]
    },
    {
     "data": {
      "text/plain": [
       "True"
      ]
     },
     "execution_count": 75,
     "metadata": {},
     "output_type": "execute_result"
    }
   ],
   "source": [
    "import nltk\n",
    "nltk.download('omw-1.4')"
   ]
  },
  {
   "cell_type": "code",
   "execution_count": 76,
   "id": "510dbbc9",
   "metadata": {},
   "outputs": [
    {
     "data": {
      "text/html": [
       "\n",
       "  <style>\n",
       "    pre {\n",
       "        white-space: pre-wrap;\n",
       "    }\n",
       "  </style>\n",
       "  "
      ],
      "text/plain": [
       "<IPython.core.display.HTML object>"
      ]
     },
     "metadata": {},
     "output_type": "display_data"
    },
    {
     "name": "stdout",
     "output_type": "stream",
     "text": [
      "['still', 'try', 'to', 'master', 'that', 'contour', 'a', 'mistake', 'that', 'many', 'make', 'be', 'to', 'opt', 'for', 'a', 'sparky', 'bronze', 'but', 'it', 'be', 'usually', 'best', 'to', 'use', 'a', 'matte', 'bronze', 'and', 'save', 'the', 'glow', 'for', 'your', 'highlight', 'spark']\n"
     ]
    }
   ],
   "source": [
    "print(tweet_to_words(\"Still trying to master that contour? A mistake that many make is to opt for a sparkly bronzer, but it is usually best to use a matte bronzer and save the glow for your highlight! ✨\\nhttps://t.co/JupqCJAXMk\\n #contour #contouringmakeup #countouring #MakeUpTips\"))"
   ]
  },
  {
   "cell_type": "code",
   "execution_count": 77,
   "id": "4dd367ad",
   "metadata": {},
   "outputs": [
    {
     "data": {
      "text/html": [
       "\n",
       "  <style>\n",
       "    pre {\n",
       "        white-space: pre-wrap;\n",
       "    }\n",
       "  </style>\n",
       "  "
      ],
      "text/plain": [
       "<IPython.core.display.HTML object>"
      ]
     },
     "metadata": {},
     "output_type": "display_data"
    }
   ],
   "source": [
    "from IPython.display import HTML, display\n",
    "\n",
    "def set_css():\n",
    "  display(HTML('''\n",
    "  <style>\n",
    "    pre {\n",
    "        white-space: pre-wrap;\n",
    "    }\n",
    "  </style>\n",
    "  '''))\n",
    "get_ipython().events.register('pre_run_cell', set_css)"
   ]
  },
  {
   "cell_type": "code",
   "execution_count": 78,
   "id": "8641fc41",
   "metadata": {},
   "outputs": [
    {
     "data": {
      "text/html": [
       "\n",
       "  <style>\n",
       "    pre {\n",
       "        white-space: pre-wrap;\n",
       "    }\n",
       "  </style>\n",
       "  "
      ],
      "text/plain": [
       "<IPython.core.display.HTML object>"
      ]
     },
     "metadata": {},
     "output_type": "display_data"
    },
    {
     "data": {
      "text/html": [
       "\n",
       "  <style>\n",
       "    pre {\n",
       "        white-space: pre-wrap;\n",
       "    }\n",
       "  </style>\n",
       "  "
      ],
      "text/plain": [
       "<IPython.core.display.HTML object>"
      ]
     },
     "metadata": {},
     "output_type": "display_data"
    },
    {
     "data": {
      "text/plain": [
       "'When your hair is in good shape, it undoubtedly looks better, and the chances of that happening are far less likely— or at least less frequent.\\n#ArarGroup #ArarServices #ArarInnovation #MEPLANET+ #hairproducts #haircare #hair #naturalhair #hairgoals #healthyhair #hairstyles https://t.co/YNfOHpfzUu'"
      ]
     },
     "execution_count": 78,
     "metadata": {},
     "output_type": "execute_result"
    }
   ],
   "source": [
    "df.iloc[1]['content']\n"
   ]
  },
  {
   "cell_type": "code",
   "execution_count": 79,
   "id": "4493ac63",
   "metadata": {},
   "outputs": [
    {
     "data": {
      "text/html": [
       "\n",
       "  <style>\n",
       "    pre {\n",
       "        white-space: pre-wrap;\n",
       "    }\n",
       "  </style>\n",
       "  "
      ],
      "text/plain": [
       "<IPython.core.display.HTML object>"
      ]
     },
     "metadata": {},
     "output_type": "display_data"
    },
    {
     "data": {
      "text/html": [
       "\n",
       "  <style>\n",
       "    pre {\n",
       "        white-space: pre-wrap;\n",
       "    }\n",
       "  </style>\n",
       "  "
      ],
      "text/plain": [
       "<IPython.core.display.HTML object>"
      ]
     },
     "metadata": {},
     "output_type": "display_data"
    },
    {
     "name": "stdout",
     "output_type": "stream",
     "text": [
      "['when', 'your', 'hair', 'be', 'in', 'good', 'shape', 'it', 'undoubtedly', 'look', 'better', 'and', 'the', 'chance', 'of', 'that', 'happen', 'be', 'far', 'less', 'likely', 'or', 'at', 'least', 'less', 'frequent']\n"
     ]
    }
   ],
   "source": [
    "print(tweet_to_words(df.iloc[1]['content']))"
   ]
  },
  {
   "cell_type": "code",
   "execution_count": 80,
   "id": "d692d53b",
   "metadata": {},
   "outputs": [
    {
     "data": {
      "text/html": [
       "\n",
       "  <style>\n",
       "    pre {\n",
       "        white-space: pre-wrap;\n",
       "    }\n",
       "  </style>\n",
       "  "
      ],
      "text/plain": [
       "<IPython.core.display.HTML object>"
      ]
     },
     "metadata": {},
     "output_type": "display_data"
    },
    {
     "data": {
      "text/html": [
       "\n",
       "  <style>\n",
       "    pre {\n",
       "        white-space: pre-wrap;\n",
       "    }\n",
       "  </style>\n",
       "  "
      ],
      "text/plain": [
       "<IPython.core.display.HTML object>"
      ]
     },
     "metadata": {},
     "output_type": "display_data"
    },
    {
     "data": {
      "text/html": [
       "<div>\n",
       "<style scoped>\n",
       "    .dataframe tbody tr th:only-of-type {\n",
       "        vertical-align: middle;\n",
       "    }\n",
       "\n",
       "    .dataframe tbody tr th {\n",
       "        vertical-align: top;\n",
       "    }\n",
       "\n",
       "    .dataframe thead th {\n",
       "        text-align: right;\n",
       "    }\n",
       "</style>\n",
       "<table border=\"1\" class=\"dataframe\">\n",
       "  <thead>\n",
       "    <tr style=\"text-align: right;\">\n",
       "      <th></th>\n",
       "      <th>sentiment</th>\n",
       "      <th>username</th>\n",
       "      <th>verified</th>\n",
       "      <th>followersCount</th>\n",
       "      <th>content</th>\n",
       "      <th>date</th>\n",
       "      <th>country</th>\n",
       "      <th>replyCount</th>\n",
       "      <th>retweetCount</th>\n",
       "      <th>likeCount</th>\n",
       "      <th>url</th>\n",
       "      <th>hashtags</th>\n",
       "    </tr>\n",
       "  </thead>\n",
       "  <tbody>\n",
       "    <tr>\n",
       "      <th>0</th>\n",
       "      <td>NaN</td>\n",
       "      <td>TryNotImages</td>\n",
       "      <td>False</td>\n",
       "      <td>180</td>\n",
       "      <td>\"Summer Summer Summertime. Time to sit back an...</td>\n",
       "      <td>2022-07-03 01:33:25+00:00</td>\n",
       "      <td>Mexico</td>\n",
       "      <td>0</td>\n",
       "      <td>0</td>\n",
       "      <td>0</td>\n",
       "      <td>https://twitter.com/TryNotImages/status/154340...</td>\n",
       "      <td>['TryNotImages', 'beauty', 'sunset', 'winstons...</td>\n",
       "    </tr>\n",
       "    <tr>\n",
       "      <th>1</th>\n",
       "      <td>NaN</td>\n",
       "      <td>arar_group</td>\n",
       "      <td>False</td>\n",
       "      <td>33</td>\n",
       "      <td>When your hair is in good shape, it undoubtedl...</td>\n",
       "      <td>2022-08-23 04:59:34+00:00</td>\n",
       "      <td>Argentina</td>\n",
       "      <td>0</td>\n",
       "      <td>0</td>\n",
       "      <td>0</td>\n",
       "      <td>https://twitter.com/arar_group/status/15619411...</td>\n",
       "      <td>['ArarGroup', 'ArarServices', 'ArarInnovation'...</td>\n",
       "    </tr>\n",
       "    <tr>\n",
       "      <th>2</th>\n",
       "      <td>NaN</td>\n",
       "      <td>HBincharge</td>\n",
       "      <td>False</td>\n",
       "      <td>3933</td>\n",
       "      <td>Walk you like a dog… #makeuptransformation #ma...</td>\n",
       "      <td>2022-07-29 06:29:21+00:00</td>\n",
       "      <td>Argentina</td>\n",
       "      <td>0</td>\n",
       "      <td>0</td>\n",
       "      <td>0</td>\n",
       "      <td>https://twitter.com/HBincharge/status/15529040...</td>\n",
       "      <td>['makeuptransformation', 'makeuptrends', 'make...</td>\n",
       "    </tr>\n",
       "    <tr>\n",
       "      <th>3</th>\n",
       "      <td>NaN</td>\n",
       "      <td>CathWarburton</td>\n",
       "      <td>False</td>\n",
       "      <td>44</td>\n",
       "      <td>It's pay day, so go on and treat yourself – yo...</td>\n",
       "      <td>2022-08-30 18:12:13+00:00</td>\n",
       "      <td>Argentina</td>\n",
       "      <td>0</td>\n",
       "      <td>0</td>\n",
       "      <td>0</td>\n",
       "      <td>https://twitter.com/CathWarburton/status/15646...</td>\n",
       "      <td>['Avon', 'Beauty', 'AvonBeauty', 'MakeUp', 'Av...</td>\n",
       "    </tr>\n",
       "    <tr>\n",
       "      <th>4</th>\n",
       "      <td>NaN</td>\n",
       "      <td>MAHJAHAJH</td>\n",
       "      <td>False</td>\n",
       "      <td>22</td>\n",
       "      <td>Here are some tips of what skincare range migh...</td>\n",
       "      <td>2022-08-30 11:40:18+00:00</td>\n",
       "      <td>Argentina</td>\n",
       "      <td>0</td>\n",
       "      <td>0</td>\n",
       "      <td>0</td>\n",
       "      <td>https://twitter.com/MAHJAHAJH/status/156457875...</td>\n",
       "      <td>['SkincareTips', 'Moisturise']</td>\n",
       "    </tr>\n",
       "  </tbody>\n",
       "</table>\n",
       "</div>"
      ],
      "text/plain": [
       "   sentiment       username  verified  followersCount  \\\n",
       "0        NaN   TryNotImages     False             180   \n",
       "1        NaN     arar_group     False              33   \n",
       "2        NaN     HBincharge     False            3933   \n",
       "3        NaN  CathWarburton     False              44   \n",
       "4        NaN      MAHJAHAJH     False              22   \n",
       "\n",
       "                                             content  \\\n",
       "0  \"Summer Summer Summertime. Time to sit back an...   \n",
       "1  When your hair is in good shape, it undoubtedl...   \n",
       "2  Walk you like a dog… #makeuptransformation #ma...   \n",
       "3  It's pay day, so go on and treat yourself – yo...   \n",
       "4  Here are some tips of what skincare range migh...   \n",
       "\n",
       "                        date    country  replyCount  retweetCount  likeCount  \\\n",
       "0  2022-07-03 01:33:25+00:00     Mexico           0             0          0   \n",
       "1  2022-08-23 04:59:34+00:00  Argentina           0             0          0   \n",
       "2  2022-07-29 06:29:21+00:00  Argentina           0             0          0   \n",
       "3  2022-08-30 18:12:13+00:00  Argentina           0             0          0   \n",
       "4  2022-08-30 11:40:18+00:00  Argentina           0             0          0   \n",
       "\n",
       "                                                 url  \\\n",
       "0  https://twitter.com/TryNotImages/status/154340...   \n",
       "1  https://twitter.com/arar_group/status/15619411...   \n",
       "2  https://twitter.com/HBincharge/status/15529040...   \n",
       "3  https://twitter.com/CathWarburton/status/15646...   \n",
       "4  https://twitter.com/MAHJAHAJH/status/156457875...   \n",
       "\n",
       "                                            hashtags  \n",
       "0  ['TryNotImages', 'beauty', 'sunset', 'winstons...  \n",
       "1  ['ArarGroup', 'ArarServices', 'ArarInnovation'...  \n",
       "2  ['makeuptransformation', 'makeuptrends', 'make...  \n",
       "3  ['Avon', 'Beauty', 'AvonBeauty', 'MakeUp', 'Av...  \n",
       "4                     ['SkincareTips', 'Moisturise']  "
      ]
     },
     "execution_count": 80,
     "metadata": {},
     "output_type": "execute_result"
    }
   ],
   "source": [
    "df.head()\n"
   ]
  },
  {
   "cell_type": "code",
   "execution_count": 81,
   "id": "86f6bd50",
   "metadata": {},
   "outputs": [
    {
     "data": {
      "text/html": [
       "\n",
       "  <style>\n",
       "    pre {\n",
       "        white-space: pre-wrap;\n",
       "    }\n",
       "  </style>\n",
       "  "
      ],
      "text/plain": [
       "<IPython.core.display.HTML object>"
      ]
     },
     "metadata": {},
     "output_type": "display_data"
    },
    {
     "data": {
      "text/html": [
       "\n",
       "  <style>\n",
       "    pre {\n",
       "        white-space: pre-wrap;\n",
       "    }\n",
       "  </style>\n",
       "  "
      ],
      "text/plain": [
       "<IPython.core.display.HTML object>"
      ]
     },
     "metadata": {},
     "output_type": "display_data"
    }
   ],
   "source": [
    "testing=df.iloc[0]['content']"
   ]
  },
  {
   "cell_type": "code",
   "execution_count": 82,
   "id": "649f5aa7",
   "metadata": {},
   "outputs": [
    {
     "data": {
      "text/html": [
       "\n",
       "  <style>\n",
       "    pre {\n",
       "        white-space: pre-wrap;\n",
       "    }\n",
       "  </style>\n",
       "  "
      ],
      "text/plain": [
       "<IPython.core.display.HTML object>"
      ]
     },
     "metadata": {},
     "output_type": "display_data"
    },
    {
     "data": {
      "text/html": [
       "\n",
       "  <style>\n",
       "    pre {\n",
       "        white-space: pre-wrap;\n",
       "    }\n",
       "  </style>\n",
       "  "
      ],
      "text/plain": [
       "<IPython.core.display.HTML object>"
      ]
     },
     "metadata": {},
     "output_type": "display_data"
    },
    {
     "data": {
      "text/plain": [
       "'\"Summer Summer Summertime. Time to sit back and unwind\"\\n\\nmodel: Monique \\n------\\nCamera: Canon EOS R5\\nLens: Tamron 35mm f1.4\\nLight: Natural light + Godox AD300Pro w/34in Glow softbox \\n------ \\n#TryNotImages #beauty #sunset #winstonsalem #summertime #sunglasses #melaninmagic https://t.co/J1lIprdoQy'"
      ]
     },
     "execution_count": 82,
     "metadata": {},
     "output_type": "execute_result"
    }
   ],
   "source": [
    "testing"
   ]
  },
  {
   "cell_type": "code",
   "execution_count": 83,
   "id": "5aa2f636",
   "metadata": {},
   "outputs": [
    {
     "data": {
      "text/html": [
       "\n",
       "  <style>\n",
       "    pre {\n",
       "        white-space: pre-wrap;\n",
       "    }\n",
       "  </style>\n",
       "  "
      ],
      "text/plain": [
       "<IPython.core.display.HTML object>"
      ]
     },
     "metadata": {},
     "output_type": "display_data"
    },
    {
     "data": {
      "text/html": [
       "\n",
       "  <style>\n",
       "    pre {\n",
       "        white-space: pre-wrap;\n",
       "    }\n",
       "  </style>\n",
       "  "
      ],
      "text/plain": [
       "<IPython.core.display.HTML object>"
      ]
     },
     "metadata": {},
     "output_type": "display_data"
    }
   ],
   "source": [
    "testing_output=tweet_to_words(testing)"
   ]
  },
  {
   "cell_type": "code",
   "execution_count": 84,
   "id": "51676feb",
   "metadata": {},
   "outputs": [
    {
     "data": {
      "text/html": [
       "\n",
       "  <style>\n",
       "    pre {\n",
       "        white-space: pre-wrap;\n",
       "    }\n",
       "  </style>\n",
       "  "
      ],
      "text/plain": [
       "<IPython.core.display.HTML object>"
      ]
     },
     "metadata": {},
     "output_type": "display_data"
    },
    {
     "data": {
      "text/html": [
       "\n",
       "  <style>\n",
       "    pre {\n",
       "        white-space: pre-wrap;\n",
       "    }\n",
       "  </style>\n",
       "  "
      ],
      "text/plain": [
       "<IPython.core.display.HTML object>"
      ]
     },
     "metadata": {},
     "output_type": "display_data"
    },
    {
     "data": {
      "text/plain": [
       "['summer',\n",
       " 'summer',\n",
       " 'summertime',\n",
       " 'time',\n",
       " 'to',\n",
       " 'sit',\n",
       " 'back',\n",
       " 'and',\n",
       " 'wind',\n",
       " 'model',\n",
       " 'ronique',\n",
       " 'camera',\n",
       " 'canon',\n",
       " 'eos',\n",
       " 'r5',\n",
       " 'lens',\n",
       " 'taxon',\n",
       " '35mm',\n",
       " 'f1',\n",
       " '4',\n",
       " 'light',\n",
       " 'natural',\n",
       " 'light',\n",
       " 'good',\n",
       " 'ad300pro',\n",
       " 'w',\n",
       " '34in',\n",
       " 'glow',\n",
       " 'soapbox']"
      ]
     },
     "execution_count": 84,
     "metadata": {},
     "output_type": "execute_result"
    }
   ],
   "source": [
    "testing_output"
   ]
  },
  {
   "cell_type": "code",
   "execution_count": 85,
   "id": "21ef6a7d",
   "metadata": {},
   "outputs": [
    {
     "data": {
      "text/html": [
       "\n",
       "  <style>\n",
       "    pre {\n",
       "        white-space: pre-wrap;\n",
       "    }\n",
       "  </style>\n",
       "  "
      ],
      "text/plain": [
       "<IPython.core.display.HTML object>"
      ]
     },
     "metadata": {},
     "output_type": "display_data"
    },
    {
     "data": {
      "text/html": [
       "\n",
       "  <style>\n",
       "    pre {\n",
       "        white-space: pre-wrap;\n",
       "    }\n",
       "  </style>\n",
       "  "
      ],
      "text/plain": [
       "<IPython.core.display.HTML object>"
      ]
     },
     "metadata": {},
     "output_type": "display_data"
    }
   ],
   "source": [
    "testing1=' y\\'all Still trying to master that contour? A mistake that many make is to opt for a sparkly bronzer, but it is usually best to use a matte bronzer and save the glow for your highlight! ✨\\nhttps://t.co/JupqCJAXMk\\n #contour #contouringmakeup #countouring #MakeUpTips https://t.co/gjqjt8FPyp'\n"
   ]
  },
  {
   "cell_type": "code",
   "execution_count": 86,
   "id": "da7622f2",
   "metadata": {},
   "outputs": [
    {
     "data": {
      "text/html": [
       "\n",
       "  <style>\n",
       "    pre {\n",
       "        white-space: pre-wrap;\n",
       "    }\n",
       "  </style>\n",
       "  "
      ],
      "text/plain": [
       "<IPython.core.display.HTML object>"
      ]
     },
     "metadata": {},
     "output_type": "display_data"
    },
    {
     "data": {
      "text/html": [
       "\n",
       "  <style>\n",
       "    pre {\n",
       "        white-space: pre-wrap;\n",
       "    }\n",
       "  </style>\n",
       "  "
      ],
      "text/plain": [
       "<IPython.core.display.HTML object>"
      ]
     },
     "metadata": {},
     "output_type": "display_data"
    }
   ],
   "source": [
    "testing_output=tweet_to_words(testing1)\n"
   ]
  },
  {
   "cell_type": "code",
   "execution_count": 87,
   "id": "5f082743",
   "metadata": {},
   "outputs": [
    {
     "data": {
      "text/html": [
       "\n",
       "  <style>\n",
       "    pre {\n",
       "        white-space: pre-wrap;\n",
       "    }\n",
       "  </style>\n",
       "  "
      ],
      "text/plain": [
       "<IPython.core.display.HTML object>"
      ]
     },
     "metadata": {},
     "output_type": "display_data"
    },
    {
     "data": {
      "text/html": [
       "\n",
       "  <style>\n",
       "    pre {\n",
       "        white-space: pre-wrap;\n",
       "    }\n",
       "  </style>\n",
       "  "
      ],
      "text/plain": [
       "<IPython.core.display.HTML object>"
      ]
     },
     "metadata": {},
     "output_type": "display_data"
    },
    {
     "name": "stdout",
     "output_type": "stream",
     "text": [
      "He is :loudly_crying_face:\n"
     ]
    }
   ],
   "source": [
    "testing2='He is 😭'\n",
    "print(emoji.demojize(testing2))"
   ]
  },
  {
   "cell_type": "code",
   "execution_count": 88,
   "id": "63fb0006",
   "metadata": {},
   "outputs": [
    {
     "data": {
      "text/html": [
       "\n",
       "  <style>\n",
       "    pre {\n",
       "        white-space: pre-wrap;\n",
       "    }\n",
       "  </style>\n",
       "  "
      ],
      "text/plain": [
       "<IPython.core.display.HTML object>"
      ]
     },
     "metadata": {},
     "output_type": "display_data"
    },
    {
     "data": {
      "text/html": [
       "\n",
       "  <style>\n",
       "    pre {\n",
       "        white-space: pre-wrap;\n",
       "    }\n",
       "  </style>\n",
       "  "
      ],
      "text/plain": [
       "<IPython.core.display.HTML object>"
      ]
     },
     "metadata": {},
     "output_type": "display_data"
    }
   ],
   "source": [
    "testing_output=tweet_to_words(testing2)\n"
   ]
  },
  {
   "cell_type": "code",
   "execution_count": 89,
   "id": "c21ebf34",
   "metadata": {},
   "outputs": [
    {
     "data": {
      "text/html": [
       "\n",
       "  <style>\n",
       "    pre {\n",
       "        white-space: pre-wrap;\n",
       "    }\n",
       "  </style>\n",
       "  "
      ],
      "text/plain": [
       "<IPython.core.display.HTML object>"
      ]
     },
     "metadata": {},
     "output_type": "display_data"
    },
    {
     "data": {
      "text/html": [
       "\n",
       "  <style>\n",
       "    pre {\n",
       "        white-space: pre-wrap;\n",
       "    }\n",
       "  </style>\n",
       "  "
      ],
      "text/plain": [
       "<IPython.core.display.HTML object>"
      ]
     },
     "metadata": {},
     "output_type": "display_data"
    }
   ],
   "source": [
    "df['processed']=df['content']\n"
   ]
  },
  {
   "cell_type": "code",
   "execution_count": 90,
   "id": "341654bd",
   "metadata": {},
   "outputs": [
    {
     "data": {
      "text/html": [
       "\n",
       "  <style>\n",
       "    pre {\n",
       "        white-space: pre-wrap;\n",
       "    }\n",
       "  </style>\n",
       "  "
      ],
      "text/plain": [
       "<IPython.core.display.HTML object>"
      ]
     },
     "metadata": {},
     "output_type": "display_data"
    },
    {
     "data": {
      "text/html": [
       "\n",
       "  <style>\n",
       "    pre {\n",
       "        white-space: pre-wrap;\n",
       "    }\n",
       "  </style>\n",
       "  "
      ],
      "text/plain": [
       "<IPython.core.display.HTML object>"
      ]
     },
     "metadata": {},
     "output_type": "display_data"
    }
   ],
   "source": [
    "import tqdm\n"
   ]
  },
  {
   "cell_type": "code",
   "execution_count": 91,
   "id": "30037ffe",
   "metadata": {},
   "outputs": [
    {
     "data": {
      "text/html": [
       "\n",
       "  <style>\n",
       "    pre {\n",
       "        white-space: pre-wrap;\n",
       "    }\n",
       "  </style>\n",
       "  "
      ],
      "text/plain": [
       "<IPython.core.display.HTML object>"
      ]
     },
     "metadata": {},
     "output_type": "display_data"
    },
    {
     "data": {
      "text/html": [
       "\n",
       "  <style>\n",
       "    pre {\n",
       "        white-space: pre-wrap;\n",
       "    }\n",
       "  </style>\n",
       "  "
      ],
      "text/plain": [
       "<IPython.core.display.HTML object>"
      ]
     },
     "metadata": {},
     "output_type": "display_data"
    },
    {
     "name": "stdout",
     "output_type": "stream",
     "text": [
      "500\n"
     ]
    },
    {
     "data": {
      "text/html": [
       "<div>\n",
       "<style scoped>\n",
       "    .dataframe tbody tr th:only-of-type {\n",
       "        vertical-align: middle;\n",
       "    }\n",
       "\n",
       "    .dataframe tbody tr th {\n",
       "        vertical-align: top;\n",
       "    }\n",
       "\n",
       "    .dataframe thead th {\n",
       "        text-align: right;\n",
       "    }\n",
       "</style>\n",
       "<table border=\"1\" class=\"dataframe\">\n",
       "  <thead>\n",
       "    <tr style=\"text-align: right;\">\n",
       "      <th></th>\n",
       "      <th>sentiment</th>\n",
       "      <th>username</th>\n",
       "      <th>verified</th>\n",
       "      <th>followersCount</th>\n",
       "      <th>content</th>\n",
       "      <th>date</th>\n",
       "      <th>country</th>\n",
       "      <th>replyCount</th>\n",
       "      <th>retweetCount</th>\n",
       "      <th>likeCount</th>\n",
       "      <th>url</th>\n",
       "      <th>hashtags</th>\n",
       "      <th>processed</th>\n",
       "      <th>cleantext_no_spell</th>\n",
       "    </tr>\n",
       "  </thead>\n",
       "  <tbody>\n",
       "    <tr>\n",
       "      <th>0</th>\n",
       "      <td>NaN</td>\n",
       "      <td>TryNotImages</td>\n",
       "      <td>False</td>\n",
       "      <td>180</td>\n",
       "      <td>\"Summer Summer Summertime. Time to sit back an...</td>\n",
       "      <td>2022-07-03 01:33:25+00:00</td>\n",
       "      <td>Mexico</td>\n",
       "      <td>0</td>\n",
       "      <td>0</td>\n",
       "      <td>0</td>\n",
       "      <td>https://twitter.com/TryNotImages/status/154340...</td>\n",
       "      <td>['TryNotImages', 'beauty', 'sunset', 'winstons...</td>\n",
       "      <td>\"Summer Summer Summertime. Time to sit back an...</td>\n",
       "      <td>summer summer summertime time to sit back and ...</td>\n",
       "    </tr>\n",
       "    <tr>\n",
       "      <th>1</th>\n",
       "      <td>NaN</td>\n",
       "      <td>arar_group</td>\n",
       "      <td>False</td>\n",
       "      <td>33</td>\n",
       "      <td>When your hair is in good shape, it undoubtedl...</td>\n",
       "      <td>2022-08-23 04:59:34+00:00</td>\n",
       "      <td>Argentina</td>\n",
       "      <td>0</td>\n",
       "      <td>0</td>\n",
       "      <td>0</td>\n",
       "      <td>https://twitter.com/arar_group/status/15619411...</td>\n",
       "      <td>['ArarGroup', 'ArarServices', 'ArarInnovation'...</td>\n",
       "      <td>When your hair is in good shape, it undoubtedl...</td>\n",
       "      <td>when your hair be in good shape it undoubtedly...</td>\n",
       "    </tr>\n",
       "    <tr>\n",
       "      <th>2</th>\n",
       "      <td>NaN</td>\n",
       "      <td>HBincharge</td>\n",
       "      <td>False</td>\n",
       "      <td>3933</td>\n",
       "      <td>Walk you like a dog… #makeuptransformation #ma...</td>\n",
       "      <td>2022-07-29 06:29:21+00:00</td>\n",
       "      <td>Argentina</td>\n",
       "      <td>0</td>\n",
       "      <td>0</td>\n",
       "      <td>0</td>\n",
       "      <td>https://twitter.com/HBincharge/status/15529040...</td>\n",
       "      <td>['makeuptransformation', 'makeuptrends', 'make...</td>\n",
       "      <td>Walk you like a dog… #makeuptransformation #ma...</td>\n",
       "      <td>walk you like a dog via</td>\n",
       "    </tr>\n",
       "    <tr>\n",
       "      <th>3</th>\n",
       "      <td>NaN</td>\n",
       "      <td>CathWarburton</td>\n",
       "      <td>False</td>\n",
       "      <td>44</td>\n",
       "      <td>It's pay day, so go on and treat yourself – yo...</td>\n",
       "      <td>2022-08-30 18:12:13+00:00</td>\n",
       "      <td>Argentina</td>\n",
       "      <td>0</td>\n",
       "      <td>0</td>\n",
       "      <td>0</td>\n",
       "      <td>https://twitter.com/CathWarburton/status/15646...</td>\n",
       "      <td>['Avon', 'Beauty', 'AvonBeauty', 'MakeUp', 'Av...</td>\n",
       "      <td>It's pay day, so go on and treat yourself – yo...</td>\n",
       "      <td>it be pay day so go on and treat yourself you ...</td>\n",
       "    </tr>\n",
       "    <tr>\n",
       "      <th>4</th>\n",
       "      <td>NaN</td>\n",
       "      <td>MAHJAHAJH</td>\n",
       "      <td>False</td>\n",
       "      <td>22</td>\n",
       "      <td>Here are some tips of what skincare range migh...</td>\n",
       "      <td>2022-08-30 11:40:18+00:00</td>\n",
       "      <td>Argentina</td>\n",
       "      <td>0</td>\n",
       "      <td>0</td>\n",
       "      <td>0</td>\n",
       "      <td>https://twitter.com/MAHJAHAJH/status/156457875...</td>\n",
       "      <td>['SkincareTips', 'Moisturise']</td>\n",
       "      <td>Here are some tips of what skincare range migh...</td>\n",
       "      <td>here be some tip of what sincere range might w...</td>\n",
       "    </tr>\n",
       "    <tr>\n",
       "      <th>...</th>\n",
       "      <td>...</td>\n",
       "      <td>...</td>\n",
       "      <td>...</td>\n",
       "      <td>...</td>\n",
       "      <td>...</td>\n",
       "      <td>...</td>\n",
       "      <td>...</td>\n",
       "      <td>...</td>\n",
       "      <td>...</td>\n",
       "      <td>...</td>\n",
       "      <td>...</td>\n",
       "      <td>...</td>\n",
       "      <td>...</td>\n",
       "      <td>...</td>\n",
       "    </tr>\n",
       "    <tr>\n",
       "      <th>715</th>\n",
       "      <td>NaN</td>\n",
       "      <td>RanchEmu</td>\n",
       "      <td>False</td>\n",
       "      <td>149</td>\n",
       "      <td>You only have TWO more days to save 15% on the...</td>\n",
       "      <td>2022-08-30 13:59:48+00:00</td>\n",
       "      <td>Argentina</td>\n",
       "      <td>0</td>\n",
       "      <td>3</td>\n",
       "      <td>11</td>\n",
       "      <td>https://twitter.com/RanchEmu/status/1564613862...</td>\n",
       "      <td>['montanaemuranch', 'emutrients', 'EMUGency', ...</td>\n",
       "      <td>You only have TWO more days to save 15% on the...</td>\n",
       "      <td>you only have two more days to save 15 on thes...</td>\n",
       "    </tr>\n",
       "    <tr>\n",
       "      <th>716</th>\n",
       "      <td>NaN</td>\n",
       "      <td>Agnes_Avon</td>\n",
       "      <td>False</td>\n",
       "      <td>32</td>\n",
       "      <td>#powerstay💄 Liquid Stain\\nnew shades 👉  Foreve...</td>\n",
       "      <td>2022-08-30 10:28:35+00:00</td>\n",
       "      <td>Argentina</td>\n",
       "      <td>0</td>\n",
       "      <td>0</td>\n",
       "      <td>0</td>\n",
       "      <td>https://twitter.com/Agnes_Avon/status/15645607...</td>\n",
       "      <td>['powerstay', 'makeup', 'make', 'makeupaddict'...</td>\n",
       "      <td>#powerstay💄 Liquid Stain\\nnew shades 👉  Foreve...</td>\n",
       "      <td>liquid stain new shade backhand_index_pointing...</td>\n",
       "    </tr>\n",
       "    <tr>\n",
       "      <th>717</th>\n",
       "      <td>NaN</td>\n",
       "      <td>bspokeadvantage</td>\n",
       "      <td>False</td>\n",
       "      <td>1700</td>\n",
       "      <td>Sephora is rumoured to be returning to the UK ...</td>\n",
       "      <td>2022-08-30 08:17:53+00:00</td>\n",
       "      <td>Argentina</td>\n",
       "      <td>0</td>\n",
       "      <td>0</td>\n",
       "      <td>0</td>\n",
       "      <td>https://twitter.com/bspokeadvantage/status/156...</td>\n",
       "      <td>['beauty', 'skincare', 'sephora', 'london', 'c...</td>\n",
       "      <td>Sephora is rumoured to be returning to the UK ...</td>\n",
       "      <td>sephora be rumour to be return to the uk with ...</td>\n",
       "    </tr>\n",
       "    <tr>\n",
       "      <th>718</th>\n",
       "      <td>NaN</td>\n",
       "      <td>ssmith7839</td>\n",
       "      <td>False</td>\n",
       "      <td>7</td>\n",
       "      <td>Live Shopping September 1 @ 8PM ET get a sneak...</td>\n",
       "      <td>2022-08-30 17:10:41+00:00</td>\n",
       "      <td>Argentina</td>\n",
       "      <td>0</td>\n",
       "      <td>0</td>\n",
       "      <td>2</td>\n",
       "      <td>https://twitter.com/ssmith7839/status/15646618...</td>\n",
       "      <td>['avon', 'avonrep', 'liveshopping', 'specialof...</td>\n",
       "      <td>Live Shopping September 1 @ 8PM ET get a sneak...</td>\n",
       "      <td>live shop september 1 8pm et get a sneak previ...</td>\n",
       "    </tr>\n",
       "    <tr>\n",
       "      <th>719</th>\n",
       "      <td>NaN</td>\n",
       "      <td>whatisbestnow</td>\n",
       "      <td>False</td>\n",
       "      <td>250</td>\n",
       "      <td>What's #Best on https://t.co/NxJm1aMV2j ?\\nShi...</td>\n",
       "      <td>2022-07-22 18:27:31+00:00</td>\n",
       "      <td>Argentina</td>\n",
       "      <td>0</td>\n",
       "      <td>0</td>\n",
       "      <td>1</td>\n",
       "      <td>https://twitter.com/whatisbestnow/status/15505...</td>\n",
       "      <td>['Best', 'beauty', 'bobbibrowncosmetics', 'bob...</td>\n",
       "      <td>What's #Best on https://t.co/NxJm1aMV2j ?\\nShi...</td>\n",
       "      <td>what be on swimmer play 3 ways with melissa he...</td>\n",
       "    </tr>\n",
       "  </tbody>\n",
       "</table>\n",
       "<p>720 rows × 14 columns</p>\n",
       "</div>"
      ],
      "text/plain": [
       "     sentiment         username  verified  followersCount  \\\n",
       "0          NaN     TryNotImages     False             180   \n",
       "1          NaN       arar_group     False              33   \n",
       "2          NaN       HBincharge     False            3933   \n",
       "3          NaN    CathWarburton     False              44   \n",
       "4          NaN        MAHJAHAJH     False              22   \n",
       "..         ...              ...       ...             ...   \n",
       "715        NaN         RanchEmu     False             149   \n",
       "716        NaN       Agnes_Avon     False              32   \n",
       "717        NaN  bspokeadvantage     False            1700   \n",
       "718        NaN       ssmith7839     False               7   \n",
       "719        NaN    whatisbestnow     False             250   \n",
       "\n",
       "                                               content  \\\n",
       "0    \"Summer Summer Summertime. Time to sit back an...   \n",
       "1    When your hair is in good shape, it undoubtedl...   \n",
       "2    Walk you like a dog… #makeuptransformation #ma...   \n",
       "3    It's pay day, so go on and treat yourself – yo...   \n",
       "4    Here are some tips of what skincare range migh...   \n",
       "..                                                 ...   \n",
       "715  You only have TWO more days to save 15% on the...   \n",
       "716  #powerstay💄 Liquid Stain\\nnew shades 👉  Foreve...   \n",
       "717  Sephora is rumoured to be returning to the UK ...   \n",
       "718  Live Shopping September 1 @ 8PM ET get a sneak...   \n",
       "719  What's #Best on https://t.co/NxJm1aMV2j ?\\nShi...   \n",
       "\n",
       "                          date    country  replyCount  retweetCount  \\\n",
       "0    2022-07-03 01:33:25+00:00     Mexico           0             0   \n",
       "1    2022-08-23 04:59:34+00:00  Argentina           0             0   \n",
       "2    2022-07-29 06:29:21+00:00  Argentina           0             0   \n",
       "3    2022-08-30 18:12:13+00:00  Argentina           0             0   \n",
       "4    2022-08-30 11:40:18+00:00  Argentina           0             0   \n",
       "..                         ...        ...         ...           ...   \n",
       "715  2022-08-30 13:59:48+00:00  Argentina           0             3   \n",
       "716  2022-08-30 10:28:35+00:00  Argentina           0             0   \n",
       "717  2022-08-30 08:17:53+00:00  Argentina           0             0   \n",
       "718  2022-08-30 17:10:41+00:00  Argentina           0             0   \n",
       "719  2022-07-22 18:27:31+00:00  Argentina           0             0   \n",
       "\n",
       "     likeCount                                                url  \\\n",
       "0            0  https://twitter.com/TryNotImages/status/154340...   \n",
       "1            0  https://twitter.com/arar_group/status/15619411...   \n",
       "2            0  https://twitter.com/HBincharge/status/15529040...   \n",
       "3            0  https://twitter.com/CathWarburton/status/15646...   \n",
       "4            0  https://twitter.com/MAHJAHAJH/status/156457875...   \n",
       "..         ...                                                ...   \n",
       "715         11  https://twitter.com/RanchEmu/status/1564613862...   \n",
       "716          0  https://twitter.com/Agnes_Avon/status/15645607...   \n",
       "717          0  https://twitter.com/bspokeadvantage/status/156...   \n",
       "718          2  https://twitter.com/ssmith7839/status/15646618...   \n",
       "719          1  https://twitter.com/whatisbestnow/status/15505...   \n",
       "\n",
       "                                              hashtags  \\\n",
       "0    ['TryNotImages', 'beauty', 'sunset', 'winstons...   \n",
       "1    ['ArarGroup', 'ArarServices', 'ArarInnovation'...   \n",
       "2    ['makeuptransformation', 'makeuptrends', 'make...   \n",
       "3    ['Avon', 'Beauty', 'AvonBeauty', 'MakeUp', 'Av...   \n",
       "4                       ['SkincareTips', 'Moisturise']   \n",
       "..                                                 ...   \n",
       "715  ['montanaemuranch', 'emutrients', 'EMUGency', ...   \n",
       "716  ['powerstay', 'makeup', 'make', 'makeupaddict'...   \n",
       "717  ['beauty', 'skincare', 'sephora', 'london', 'c...   \n",
       "718  ['avon', 'avonrep', 'liveshopping', 'specialof...   \n",
       "719  ['Best', 'beauty', 'bobbibrowncosmetics', 'bob...   \n",
       "\n",
       "                                             processed  \\\n",
       "0    \"Summer Summer Summertime. Time to sit back an...   \n",
       "1    When your hair is in good shape, it undoubtedl...   \n",
       "2    Walk you like a dog… #makeuptransformation #ma...   \n",
       "3    It's pay day, so go on and treat yourself – yo...   \n",
       "4    Here are some tips of what skincare range migh...   \n",
       "..                                                 ...   \n",
       "715  You only have TWO more days to save 15% on the...   \n",
       "716  #powerstay💄 Liquid Stain\\nnew shades 👉  Foreve...   \n",
       "717  Sephora is rumoured to be returning to the UK ...   \n",
       "718  Live Shopping September 1 @ 8PM ET get a sneak...   \n",
       "719  What's #Best on https://t.co/NxJm1aMV2j ?\\nShi...   \n",
       "\n",
       "                                    cleantext_no_spell  \n",
       "0    summer summer summertime time to sit back and ...  \n",
       "1    when your hair be in good shape it undoubtedly...  \n",
       "2                              walk you like a dog via  \n",
       "3    it be pay day so go on and treat yourself you ...  \n",
       "4    here be some tip of what sincere range might w...  \n",
       "..                                                 ...  \n",
       "715  you only have two more days to save 15 on thes...  \n",
       "716  liquid stain new shade backhand_index_pointing...  \n",
       "717  sephora be rumour to be return to the uk with ...  \n",
       "718  live shop september 1 8pm et get a sneak previ...  \n",
       "719  what be on swimmer play 3 ways with melissa he...  \n",
       "\n",
       "[720 rows x 14 columns]"
      ]
     },
     "execution_count": 91,
     "metadata": {},
     "output_type": "execute_result"
    }
   ],
   "source": [
    "cleantext=[]\n",
    "i=0\n",
    "for item in df['content']:\n",
    "    if type(item)==float:\n",
    "      item = str(item)\n",
    "    words=tweet_to_words(item)\n",
    "    cleantext+=[words]\n",
    "    i+=1\n",
    "    if i%500==0:\n",
    "      print(i)\n",
    "res = list(map(' '.join, cleantext))\n",
    "df['cleantext_no_spell']=res\n",
    "df"
   ]
  },
  {
   "cell_type": "code",
   "execution_count": 92,
   "id": "db2d2006",
   "metadata": {},
   "outputs": [
    {
     "data": {
      "text/html": [
       "\n",
       "  <style>\n",
       "    pre {\n",
       "        white-space: pre-wrap;\n",
       "    }\n",
       "  </style>\n",
       "  "
      ],
      "text/plain": [
       "<IPython.core.display.HTML object>"
      ]
     },
     "metadata": {},
     "output_type": "display_data"
    },
    {
     "data": {
      "text/html": [
       "\n",
       "  <style>\n",
       "    pre {\n",
       "        white-space: pre-wrap;\n",
       "    }\n",
       "  </style>\n",
       "  "
      ],
      "text/plain": [
       "<IPython.core.display.HTML object>"
      ]
     },
     "metadata": {},
     "output_type": "display_data"
    },
    {
     "name": "stdout",
     "output_type": "stream",
     "text": [
      "500\n"
     ]
    },
    {
     "data": {
      "text/html": [
       "<div>\n",
       "<style scoped>\n",
       "    .dataframe tbody tr th:only-of-type {\n",
       "        vertical-align: middle;\n",
       "    }\n",
       "\n",
       "    .dataframe tbody tr th {\n",
       "        vertical-align: top;\n",
       "    }\n",
       "\n",
       "    .dataframe thead th {\n",
       "        text-align: right;\n",
       "    }\n",
       "</style>\n",
       "<table border=\"1\" class=\"dataframe\">\n",
       "  <thead>\n",
       "    <tr style=\"text-align: right;\">\n",
       "      <th></th>\n",
       "      <th>sentiment</th>\n",
       "      <th>username</th>\n",
       "      <th>verified</th>\n",
       "      <th>followersCount</th>\n",
       "      <th>content</th>\n",
       "      <th>date</th>\n",
       "      <th>country</th>\n",
       "      <th>replyCount</th>\n",
       "      <th>retweetCount</th>\n",
       "      <th>likeCount</th>\n",
       "      <th>url</th>\n",
       "      <th>hashtags</th>\n",
       "      <th>processed</th>\n",
       "      <th>cleantext_no_spell</th>\n",
       "      <th>cleantext_no_spell_no_lemma</th>\n",
       "    </tr>\n",
       "  </thead>\n",
       "  <tbody>\n",
       "    <tr>\n",
       "      <th>0</th>\n",
       "      <td>NaN</td>\n",
       "      <td>TryNotImages</td>\n",
       "      <td>False</td>\n",
       "      <td>180</td>\n",
       "      <td>\"Summer Summer Summertime. Time to sit back an...</td>\n",
       "      <td>2022-07-03 01:33:25+00:00</td>\n",
       "      <td>Mexico</td>\n",
       "      <td>0</td>\n",
       "      <td>0</td>\n",
       "      <td>0</td>\n",
       "      <td>https://twitter.com/TryNotImages/status/154340...</td>\n",
       "      <td>['TryNotImages', 'beauty', 'sunset', 'winstons...</td>\n",
       "      <td>\"Summer Summer Summertime. Time to sit back an...</td>\n",
       "      <td>summer summer summertime time to sit back and ...</td>\n",
       "      <td>summer summer summertime time to sit back and ...</td>\n",
       "    </tr>\n",
       "    <tr>\n",
       "      <th>1</th>\n",
       "      <td>NaN</td>\n",
       "      <td>arar_group</td>\n",
       "      <td>False</td>\n",
       "      <td>33</td>\n",
       "      <td>When your hair is in good shape, it undoubtedl...</td>\n",
       "      <td>2022-08-23 04:59:34+00:00</td>\n",
       "      <td>Argentina</td>\n",
       "      <td>0</td>\n",
       "      <td>0</td>\n",
       "      <td>0</td>\n",
       "      <td>https://twitter.com/arar_group/status/15619411...</td>\n",
       "      <td>['ArarGroup', 'ArarServices', 'ArarInnovation'...</td>\n",
       "      <td>When your hair is in good shape, it undoubtedl...</td>\n",
       "      <td>when your hair be in good shape it undoubtedly...</td>\n",
       "      <td>when your hair be in good shape it undoubtedly...</td>\n",
       "    </tr>\n",
       "    <tr>\n",
       "      <th>2</th>\n",
       "      <td>NaN</td>\n",
       "      <td>HBincharge</td>\n",
       "      <td>False</td>\n",
       "      <td>3933</td>\n",
       "      <td>Walk you like a dog… #makeuptransformation #ma...</td>\n",
       "      <td>2022-07-29 06:29:21+00:00</td>\n",
       "      <td>Argentina</td>\n",
       "      <td>0</td>\n",
       "      <td>0</td>\n",
       "      <td>0</td>\n",
       "      <td>https://twitter.com/HBincharge/status/15529040...</td>\n",
       "      <td>['makeuptransformation', 'makeuptrends', 'make...</td>\n",
       "      <td>Walk you like a dog… #makeuptransformation #ma...</td>\n",
       "      <td>walk you like a dog via</td>\n",
       "      <td>walk you like a dog via</td>\n",
       "    </tr>\n",
       "    <tr>\n",
       "      <th>3</th>\n",
       "      <td>NaN</td>\n",
       "      <td>CathWarburton</td>\n",
       "      <td>False</td>\n",
       "      <td>44</td>\n",
       "      <td>It's pay day, so go on and treat yourself – yo...</td>\n",
       "      <td>2022-08-30 18:12:13+00:00</td>\n",
       "      <td>Argentina</td>\n",
       "      <td>0</td>\n",
       "      <td>0</td>\n",
       "      <td>0</td>\n",
       "      <td>https://twitter.com/CathWarburton/status/15646...</td>\n",
       "      <td>['Avon', 'Beauty', 'AvonBeauty', 'MakeUp', 'Av...</td>\n",
       "      <td>It's pay day, so go on and treat yourself – yo...</td>\n",
       "      <td>it be pay day so go on and treat yourself you ...</td>\n",
       "      <td>it be pay day so go on and treat yourself you ...</td>\n",
       "    </tr>\n",
       "    <tr>\n",
       "      <th>4</th>\n",
       "      <td>NaN</td>\n",
       "      <td>MAHJAHAJH</td>\n",
       "      <td>False</td>\n",
       "      <td>22</td>\n",
       "      <td>Here are some tips of what skincare range migh...</td>\n",
       "      <td>2022-08-30 11:40:18+00:00</td>\n",
       "      <td>Argentina</td>\n",
       "      <td>0</td>\n",
       "      <td>0</td>\n",
       "      <td>0</td>\n",
       "      <td>https://twitter.com/MAHJAHAJH/status/156457875...</td>\n",
       "      <td>['SkincareTips', 'Moisturise']</td>\n",
       "      <td>Here are some tips of what skincare range migh...</td>\n",
       "      <td>here be some tip of what sincere range might w...</td>\n",
       "      <td>here be some tip of what sincere range might w...</td>\n",
       "    </tr>\n",
       "    <tr>\n",
       "      <th>...</th>\n",
       "      <td>...</td>\n",
       "      <td>...</td>\n",
       "      <td>...</td>\n",
       "      <td>...</td>\n",
       "      <td>...</td>\n",
       "      <td>...</td>\n",
       "      <td>...</td>\n",
       "      <td>...</td>\n",
       "      <td>...</td>\n",
       "      <td>...</td>\n",
       "      <td>...</td>\n",
       "      <td>...</td>\n",
       "      <td>...</td>\n",
       "      <td>...</td>\n",
       "      <td>...</td>\n",
       "    </tr>\n",
       "    <tr>\n",
       "      <th>715</th>\n",
       "      <td>NaN</td>\n",
       "      <td>RanchEmu</td>\n",
       "      <td>False</td>\n",
       "      <td>149</td>\n",
       "      <td>You only have TWO more days to save 15% on the...</td>\n",
       "      <td>2022-08-30 13:59:48+00:00</td>\n",
       "      <td>Argentina</td>\n",
       "      <td>0</td>\n",
       "      <td>3</td>\n",
       "      <td>11</td>\n",
       "      <td>https://twitter.com/RanchEmu/status/1564613862...</td>\n",
       "      <td>['montanaemuranch', 'emutrients', 'EMUGency', ...</td>\n",
       "      <td>You only have TWO more days to save 15% on the...</td>\n",
       "      <td>you only have two more days to save 15 on thes...</td>\n",
       "      <td>you only have two more days to save 15 on thes...</td>\n",
       "    </tr>\n",
       "    <tr>\n",
       "      <th>716</th>\n",
       "      <td>NaN</td>\n",
       "      <td>Agnes_Avon</td>\n",
       "      <td>False</td>\n",
       "      <td>32</td>\n",
       "      <td>#powerstay💄 Liquid Stain\\nnew shades 👉  Foreve...</td>\n",
       "      <td>2022-08-30 10:28:35+00:00</td>\n",
       "      <td>Argentina</td>\n",
       "      <td>0</td>\n",
       "      <td>0</td>\n",
       "      <td>0</td>\n",
       "      <td>https://twitter.com/Agnes_Avon/status/15645607...</td>\n",
       "      <td>['powerstay', 'makeup', 'make', 'makeupaddict'...</td>\n",
       "      <td>#powerstay💄 Liquid Stain\\nnew shades 👉  Foreve...</td>\n",
       "      <td>liquid stain new shade backhand_index_pointing...</td>\n",
       "      <td>liquid stain new shade backhand_index_pointing...</td>\n",
       "    </tr>\n",
       "    <tr>\n",
       "      <th>717</th>\n",
       "      <td>NaN</td>\n",
       "      <td>bspokeadvantage</td>\n",
       "      <td>False</td>\n",
       "      <td>1700</td>\n",
       "      <td>Sephora is rumoured to be returning to the UK ...</td>\n",
       "      <td>2022-08-30 08:17:53+00:00</td>\n",
       "      <td>Argentina</td>\n",
       "      <td>0</td>\n",
       "      <td>0</td>\n",
       "      <td>0</td>\n",
       "      <td>https://twitter.com/bspokeadvantage/status/156...</td>\n",
       "      <td>['beauty', 'skincare', 'sephora', 'london', 'c...</td>\n",
       "      <td>Sephora is rumoured to be returning to the UK ...</td>\n",
       "      <td>sephora be rumour to be return to the uk with ...</td>\n",
       "      <td>sephora be rumour to be return to the uk with ...</td>\n",
       "    </tr>\n",
       "    <tr>\n",
       "      <th>718</th>\n",
       "      <td>NaN</td>\n",
       "      <td>ssmith7839</td>\n",
       "      <td>False</td>\n",
       "      <td>7</td>\n",
       "      <td>Live Shopping September 1 @ 8PM ET get a sneak...</td>\n",
       "      <td>2022-08-30 17:10:41+00:00</td>\n",
       "      <td>Argentina</td>\n",
       "      <td>0</td>\n",
       "      <td>0</td>\n",
       "      <td>2</td>\n",
       "      <td>https://twitter.com/ssmith7839/status/15646618...</td>\n",
       "      <td>['avon', 'avonrep', 'liveshopping', 'specialof...</td>\n",
       "      <td>Live Shopping September 1 @ 8PM ET get a sneak...</td>\n",
       "      <td>live shop september 1 8pm et get a sneak previ...</td>\n",
       "      <td>live shop september 1 8pm et get a sneak previ...</td>\n",
       "    </tr>\n",
       "    <tr>\n",
       "      <th>719</th>\n",
       "      <td>NaN</td>\n",
       "      <td>whatisbestnow</td>\n",
       "      <td>False</td>\n",
       "      <td>250</td>\n",
       "      <td>What's #Best on https://t.co/NxJm1aMV2j ?\\nShi...</td>\n",
       "      <td>2022-07-22 18:27:31+00:00</td>\n",
       "      <td>Argentina</td>\n",
       "      <td>0</td>\n",
       "      <td>0</td>\n",
       "      <td>1</td>\n",
       "      <td>https://twitter.com/whatisbestnow/status/15505...</td>\n",
       "      <td>['Best', 'beauty', 'bobbibrowncosmetics', 'bob...</td>\n",
       "      <td>What's #Best on https://t.co/NxJm1aMV2j ?\\nShi...</td>\n",
       "      <td>what be on swimmer play 3 ways with melissa he...</td>\n",
       "      <td>what be on swimmer play 3 ways with melissa he...</td>\n",
       "    </tr>\n",
       "  </tbody>\n",
       "</table>\n",
       "<p>720 rows × 15 columns</p>\n",
       "</div>"
      ],
      "text/plain": [
       "     sentiment         username  verified  followersCount  \\\n",
       "0          NaN     TryNotImages     False             180   \n",
       "1          NaN       arar_group     False              33   \n",
       "2          NaN       HBincharge     False            3933   \n",
       "3          NaN    CathWarburton     False              44   \n",
       "4          NaN        MAHJAHAJH     False              22   \n",
       "..         ...              ...       ...             ...   \n",
       "715        NaN         RanchEmu     False             149   \n",
       "716        NaN       Agnes_Avon     False              32   \n",
       "717        NaN  bspokeadvantage     False            1700   \n",
       "718        NaN       ssmith7839     False               7   \n",
       "719        NaN    whatisbestnow     False             250   \n",
       "\n",
       "                                               content  \\\n",
       "0    \"Summer Summer Summertime. Time to sit back an...   \n",
       "1    When your hair is in good shape, it undoubtedl...   \n",
       "2    Walk you like a dog… #makeuptransformation #ma...   \n",
       "3    It's pay day, so go on and treat yourself – yo...   \n",
       "4    Here are some tips of what skincare range migh...   \n",
       "..                                                 ...   \n",
       "715  You only have TWO more days to save 15% on the...   \n",
       "716  #powerstay💄 Liquid Stain\\nnew shades 👉  Foreve...   \n",
       "717  Sephora is rumoured to be returning to the UK ...   \n",
       "718  Live Shopping September 1 @ 8PM ET get a sneak...   \n",
       "719  What's #Best on https://t.co/NxJm1aMV2j ?\\nShi...   \n",
       "\n",
       "                          date    country  replyCount  retweetCount  \\\n",
       "0    2022-07-03 01:33:25+00:00     Mexico           0             0   \n",
       "1    2022-08-23 04:59:34+00:00  Argentina           0             0   \n",
       "2    2022-07-29 06:29:21+00:00  Argentina           0             0   \n",
       "3    2022-08-30 18:12:13+00:00  Argentina           0             0   \n",
       "4    2022-08-30 11:40:18+00:00  Argentina           0             0   \n",
       "..                         ...        ...         ...           ...   \n",
       "715  2022-08-30 13:59:48+00:00  Argentina           0             3   \n",
       "716  2022-08-30 10:28:35+00:00  Argentina           0             0   \n",
       "717  2022-08-30 08:17:53+00:00  Argentina           0             0   \n",
       "718  2022-08-30 17:10:41+00:00  Argentina           0             0   \n",
       "719  2022-07-22 18:27:31+00:00  Argentina           0             0   \n",
       "\n",
       "     likeCount                                                url  \\\n",
       "0            0  https://twitter.com/TryNotImages/status/154340...   \n",
       "1            0  https://twitter.com/arar_group/status/15619411...   \n",
       "2            0  https://twitter.com/HBincharge/status/15529040...   \n",
       "3            0  https://twitter.com/CathWarburton/status/15646...   \n",
       "4            0  https://twitter.com/MAHJAHAJH/status/156457875...   \n",
       "..         ...                                                ...   \n",
       "715         11  https://twitter.com/RanchEmu/status/1564613862...   \n",
       "716          0  https://twitter.com/Agnes_Avon/status/15645607...   \n",
       "717          0  https://twitter.com/bspokeadvantage/status/156...   \n",
       "718          2  https://twitter.com/ssmith7839/status/15646618...   \n",
       "719          1  https://twitter.com/whatisbestnow/status/15505...   \n",
       "\n",
       "                                              hashtags  \\\n",
       "0    ['TryNotImages', 'beauty', 'sunset', 'winstons...   \n",
       "1    ['ArarGroup', 'ArarServices', 'ArarInnovation'...   \n",
       "2    ['makeuptransformation', 'makeuptrends', 'make...   \n",
       "3    ['Avon', 'Beauty', 'AvonBeauty', 'MakeUp', 'Av...   \n",
       "4                       ['SkincareTips', 'Moisturise']   \n",
       "..                                                 ...   \n",
       "715  ['montanaemuranch', 'emutrients', 'EMUGency', ...   \n",
       "716  ['powerstay', 'makeup', 'make', 'makeupaddict'...   \n",
       "717  ['beauty', 'skincare', 'sephora', 'london', 'c...   \n",
       "718  ['avon', 'avonrep', 'liveshopping', 'specialof...   \n",
       "719  ['Best', 'beauty', 'bobbibrowncosmetics', 'bob...   \n",
       "\n",
       "                                             processed  \\\n",
       "0    \"Summer Summer Summertime. Time to sit back an...   \n",
       "1    When your hair is in good shape, it undoubtedl...   \n",
       "2    Walk you like a dog… #makeuptransformation #ma...   \n",
       "3    It's pay day, so go on and treat yourself – yo...   \n",
       "4    Here are some tips of what skincare range migh...   \n",
       "..                                                 ...   \n",
       "715  You only have TWO more days to save 15% on the...   \n",
       "716  #powerstay💄 Liquid Stain\\nnew shades 👉  Foreve...   \n",
       "717  Sephora is rumoured to be returning to the UK ...   \n",
       "718  Live Shopping September 1 @ 8PM ET get a sneak...   \n",
       "719  What's #Best on https://t.co/NxJm1aMV2j ?\\nShi...   \n",
       "\n",
       "                                    cleantext_no_spell  \\\n",
       "0    summer summer summertime time to sit back and ...   \n",
       "1    when your hair be in good shape it undoubtedly...   \n",
       "2                              walk you like a dog via   \n",
       "3    it be pay day so go on and treat yourself you ...   \n",
       "4    here be some tip of what sincere range might w...   \n",
       "..                                                 ...   \n",
       "715  you only have two more days to save 15 on thes...   \n",
       "716  liquid stain new shade backhand_index_pointing...   \n",
       "717  sephora be rumour to be return to the uk with ...   \n",
       "718  live shop september 1 8pm et get a sneak previ...   \n",
       "719  what be on swimmer play 3 ways with melissa he...   \n",
       "\n",
       "                           cleantext_no_spell_no_lemma  \n",
       "0    summer summer summertime time to sit back and ...  \n",
       "1    when your hair be in good shape it undoubtedly...  \n",
       "2                              walk you like a dog via  \n",
       "3    it be pay day so go on and treat yourself you ...  \n",
       "4    here be some tip of what sincere range might w...  \n",
       "..                                                 ...  \n",
       "715  you only have two more days to save 15 on thes...  \n",
       "716  liquid stain new shade backhand_index_pointing...  \n",
       "717  sephora be rumour to be return to the uk with ...  \n",
       "718  live shop september 1 8pm et get a sneak previ...  \n",
       "719  what be on swimmer play 3 ways with melissa he...  \n",
       "\n",
       "[720 rows x 15 columns]"
      ]
     },
     "execution_count": 92,
     "metadata": {},
     "output_type": "execute_result"
    }
   ],
   "source": [
    "cleantext=[]\n",
    "i=0\n",
    "for item in df['content']:\n",
    "    if type(item)==float:\n",
    "      item = str(item)\n",
    "    words=tweet_to_words(item)\n",
    "    cleantext+=[words]\n",
    "    i+=1\n",
    "    if i%500==0:\n",
    "      print(i)\n",
    "res = list(map(' '.join, cleantext))\n",
    "df['cleantext_no_spell_no_lemma']=res\n",
    "df"
   ]
  },
  {
   "cell_type": "code",
   "execution_count": 93,
   "id": "499b4e25",
   "metadata": {},
   "outputs": [
    {
     "data": {
      "text/html": [
       "\n",
       "  <style>\n",
       "    pre {\n",
       "        white-space: pre-wrap;\n",
       "    }\n",
       "  </style>\n",
       "  "
      ],
      "text/plain": [
       "<IPython.core.display.HTML object>"
      ]
     },
     "metadata": {},
     "output_type": "display_data"
    },
    {
     "data": {
      "text/html": [
       "\n",
       "  <style>\n",
       "    pre {\n",
       "        white-space: pre-wrap;\n",
       "    }\n",
       "  </style>\n",
       "  "
      ],
      "text/plain": [
       "<IPython.core.display.HTML object>"
      ]
     },
     "metadata": {},
     "output_type": "display_data"
    },
    {
     "data": {
      "text/html": [
       "<div>\n",
       "<style scoped>\n",
       "    .dataframe tbody tr th:only-of-type {\n",
       "        vertical-align: middle;\n",
       "    }\n",
       "\n",
       "    .dataframe tbody tr th {\n",
       "        vertical-align: top;\n",
       "    }\n",
       "\n",
       "    .dataframe thead th {\n",
       "        text-align: right;\n",
       "    }\n",
       "</style>\n",
       "<table border=\"1\" class=\"dataframe\">\n",
       "  <thead>\n",
       "    <tr style=\"text-align: right;\">\n",
       "      <th></th>\n",
       "      <th>sentiment</th>\n",
       "      <th>username</th>\n",
       "      <th>verified</th>\n",
       "      <th>followersCount</th>\n",
       "      <th>content</th>\n",
       "      <th>date</th>\n",
       "      <th>country</th>\n",
       "      <th>replyCount</th>\n",
       "      <th>retweetCount</th>\n",
       "      <th>likeCount</th>\n",
       "      <th>url</th>\n",
       "      <th>hashtags</th>\n",
       "      <th>processed</th>\n",
       "      <th>cleantext_no_spell</th>\n",
       "      <th>cleantext_no_spell_no_lemma</th>\n",
       "    </tr>\n",
       "  </thead>\n",
       "  <tbody>\n",
       "    <tr>\n",
       "      <th>0</th>\n",
       "      <td>NaN</td>\n",
       "      <td>TryNotImages</td>\n",
       "      <td>False</td>\n",
       "      <td>180</td>\n",
       "      <td>\"Summer Summer Summertime. Time to sit back an...</td>\n",
       "      <td>2022-07-03 01:33:25+00:00</td>\n",
       "      <td>Mexico</td>\n",
       "      <td>0</td>\n",
       "      <td>0</td>\n",
       "      <td>0</td>\n",
       "      <td>https://twitter.com/TryNotImages/status/154340...</td>\n",
       "      <td>['TryNotImages', 'beauty', 'sunset', 'winstons...</td>\n",
       "      <td>summer summer summertime time to sit back and ...</td>\n",
       "      <td>summer summer summertime time to sit back and ...</td>\n",
       "      <td>summer summer summertime time to sit back and ...</td>\n",
       "    </tr>\n",
       "    <tr>\n",
       "      <th>1</th>\n",
       "      <td>NaN</td>\n",
       "      <td>arar_group</td>\n",
       "      <td>False</td>\n",
       "      <td>33</td>\n",
       "      <td>When your hair is in good shape, it undoubtedl...</td>\n",
       "      <td>2022-08-23 04:59:34+00:00</td>\n",
       "      <td>Argentina</td>\n",
       "      <td>0</td>\n",
       "      <td>0</td>\n",
       "      <td>0</td>\n",
       "      <td>https://twitter.com/arar_group/status/15619411...</td>\n",
       "      <td>['ArarGroup', 'ArarServices', 'ArarInnovation'...</td>\n",
       "      <td>when your hair be in good shape it undoubtedly...</td>\n",
       "      <td>when your hair be in good shape it undoubtedly...</td>\n",
       "      <td>when your hair be in good shape it undoubtedly...</td>\n",
       "    </tr>\n",
       "    <tr>\n",
       "      <th>2</th>\n",
       "      <td>NaN</td>\n",
       "      <td>HBincharge</td>\n",
       "      <td>False</td>\n",
       "      <td>3933</td>\n",
       "      <td>Walk you like a dog… #makeuptransformation #ma...</td>\n",
       "      <td>2022-07-29 06:29:21+00:00</td>\n",
       "      <td>Argentina</td>\n",
       "      <td>0</td>\n",
       "      <td>0</td>\n",
       "      <td>0</td>\n",
       "      <td>https://twitter.com/HBincharge/status/15529040...</td>\n",
       "      <td>['makeuptransformation', 'makeuptrends', 'make...</td>\n",
       "      <td>walk you like a dog via</td>\n",
       "      <td>walk you like a dog via</td>\n",
       "      <td>walk you like a dog via</td>\n",
       "    </tr>\n",
       "    <tr>\n",
       "      <th>3</th>\n",
       "      <td>NaN</td>\n",
       "      <td>CathWarburton</td>\n",
       "      <td>False</td>\n",
       "      <td>44</td>\n",
       "      <td>It's pay day, so go on and treat yourself – yo...</td>\n",
       "      <td>2022-08-30 18:12:13+00:00</td>\n",
       "      <td>Argentina</td>\n",
       "      <td>0</td>\n",
       "      <td>0</td>\n",
       "      <td>0</td>\n",
       "      <td>https://twitter.com/CathWarburton/status/15646...</td>\n",
       "      <td>['Avon', 'Beauty', 'AvonBeauty', 'MakeUp', 'Av...</td>\n",
       "      <td>it be pay day so go on and treat yourself you ...</td>\n",
       "      <td>it be pay day so go on and treat yourself you ...</td>\n",
       "      <td>it be pay day so go on and treat yourself you ...</td>\n",
       "    </tr>\n",
       "    <tr>\n",
       "      <th>4</th>\n",
       "      <td>NaN</td>\n",
       "      <td>MAHJAHAJH</td>\n",
       "      <td>False</td>\n",
       "      <td>22</td>\n",
       "      <td>Here are some tips of what skincare range migh...</td>\n",
       "      <td>2022-08-30 11:40:18+00:00</td>\n",
       "      <td>Argentina</td>\n",
       "      <td>0</td>\n",
       "      <td>0</td>\n",
       "      <td>0</td>\n",
       "      <td>https://twitter.com/MAHJAHAJH/status/156457875...</td>\n",
       "      <td>['SkincareTips', 'Moisturise']</td>\n",
       "      <td>here be some tip of what sincere range might w...</td>\n",
       "      <td>here be some tip of what sincere range might w...</td>\n",
       "      <td>here be some tip of what sincere range might w...</td>\n",
       "    </tr>\n",
       "    <tr>\n",
       "      <th>...</th>\n",
       "      <td>...</td>\n",
       "      <td>...</td>\n",
       "      <td>...</td>\n",
       "      <td>...</td>\n",
       "      <td>...</td>\n",
       "      <td>...</td>\n",
       "      <td>...</td>\n",
       "      <td>...</td>\n",
       "      <td>...</td>\n",
       "      <td>...</td>\n",
       "      <td>...</td>\n",
       "      <td>...</td>\n",
       "      <td>...</td>\n",
       "      <td>...</td>\n",
       "      <td>...</td>\n",
       "    </tr>\n",
       "    <tr>\n",
       "      <th>715</th>\n",
       "      <td>NaN</td>\n",
       "      <td>RanchEmu</td>\n",
       "      <td>False</td>\n",
       "      <td>149</td>\n",
       "      <td>You only have TWO more days to save 15% on the...</td>\n",
       "      <td>2022-08-30 13:59:48+00:00</td>\n",
       "      <td>Argentina</td>\n",
       "      <td>0</td>\n",
       "      <td>3</td>\n",
       "      <td>11</td>\n",
       "      <td>https://twitter.com/RanchEmu/status/1564613862...</td>\n",
       "      <td>['montanaemuranch', 'emutrients', 'EMUGency', ...</td>\n",
       "      <td>you only have two more days to save 15 on thes...</td>\n",
       "      <td>you only have two more days to save 15 on thes...</td>\n",
       "      <td>you only have two more days to save 15 on thes...</td>\n",
       "    </tr>\n",
       "    <tr>\n",
       "      <th>716</th>\n",
       "      <td>NaN</td>\n",
       "      <td>Agnes_Avon</td>\n",
       "      <td>False</td>\n",
       "      <td>32</td>\n",
       "      <td>#powerstay💄 Liquid Stain\\nnew shades 👉  Foreve...</td>\n",
       "      <td>2022-08-30 10:28:35+00:00</td>\n",
       "      <td>Argentina</td>\n",
       "      <td>0</td>\n",
       "      <td>0</td>\n",
       "      <td>0</td>\n",
       "      <td>https://twitter.com/Agnes_Avon/status/15645607...</td>\n",
       "      <td>['powerstay', 'makeup', 'make', 'makeupaddict'...</td>\n",
       "      <td>liquid stain new shade backhand_index_pointing...</td>\n",
       "      <td>liquid stain new shade backhand_index_pointing...</td>\n",
       "      <td>liquid stain new shade backhand_index_pointing...</td>\n",
       "    </tr>\n",
       "    <tr>\n",
       "      <th>717</th>\n",
       "      <td>NaN</td>\n",
       "      <td>bspokeadvantage</td>\n",
       "      <td>False</td>\n",
       "      <td>1700</td>\n",
       "      <td>Sephora is rumoured to be returning to the UK ...</td>\n",
       "      <td>2022-08-30 08:17:53+00:00</td>\n",
       "      <td>Argentina</td>\n",
       "      <td>0</td>\n",
       "      <td>0</td>\n",
       "      <td>0</td>\n",
       "      <td>https://twitter.com/bspokeadvantage/status/156...</td>\n",
       "      <td>['beauty', 'skincare', 'sephora', 'london', 'c...</td>\n",
       "      <td>sephora be rumour to be return to the uk with ...</td>\n",
       "      <td>sephora be rumour to be return to the uk with ...</td>\n",
       "      <td>sephora be rumour to be return to the uk with ...</td>\n",
       "    </tr>\n",
       "    <tr>\n",
       "      <th>718</th>\n",
       "      <td>NaN</td>\n",
       "      <td>ssmith7839</td>\n",
       "      <td>False</td>\n",
       "      <td>7</td>\n",
       "      <td>Live Shopping September 1 @ 8PM ET get a sneak...</td>\n",
       "      <td>2022-08-30 17:10:41+00:00</td>\n",
       "      <td>Argentina</td>\n",
       "      <td>0</td>\n",
       "      <td>0</td>\n",
       "      <td>2</td>\n",
       "      <td>https://twitter.com/ssmith7839/status/15646618...</td>\n",
       "      <td>['avon', 'avonrep', 'liveshopping', 'specialof...</td>\n",
       "      <td>live shop september 1 8pm et get a sneak previ...</td>\n",
       "      <td>live shop september 1 8pm et get a sneak previ...</td>\n",
       "      <td>live shop september 1 8pm et get a sneak previ...</td>\n",
       "    </tr>\n",
       "    <tr>\n",
       "      <th>719</th>\n",
       "      <td>NaN</td>\n",
       "      <td>whatisbestnow</td>\n",
       "      <td>False</td>\n",
       "      <td>250</td>\n",
       "      <td>What's #Best on https://t.co/NxJm1aMV2j ?\\nShi...</td>\n",
       "      <td>2022-07-22 18:27:31+00:00</td>\n",
       "      <td>Argentina</td>\n",
       "      <td>0</td>\n",
       "      <td>0</td>\n",
       "      <td>1</td>\n",
       "      <td>https://twitter.com/whatisbestnow/status/15505...</td>\n",
       "      <td>['Best', 'beauty', 'bobbibrowncosmetics', 'bob...</td>\n",
       "      <td>what be on swimmer play 3 ways with melissa he...</td>\n",
       "      <td>what be on swimmer play 3 ways with melissa he...</td>\n",
       "      <td>what be on swimmer play 3 ways with melissa he...</td>\n",
       "    </tr>\n",
       "  </tbody>\n",
       "</table>\n",
       "<p>720 rows × 15 columns</p>\n",
       "</div>"
      ],
      "text/plain": [
       "     sentiment         username  verified  followersCount  \\\n",
       "0          NaN     TryNotImages     False             180   \n",
       "1          NaN       arar_group     False              33   \n",
       "2          NaN       HBincharge     False            3933   \n",
       "3          NaN    CathWarburton     False              44   \n",
       "4          NaN        MAHJAHAJH     False              22   \n",
       "..         ...              ...       ...             ...   \n",
       "715        NaN         RanchEmu     False             149   \n",
       "716        NaN       Agnes_Avon     False              32   \n",
       "717        NaN  bspokeadvantage     False            1700   \n",
       "718        NaN       ssmith7839     False               7   \n",
       "719        NaN    whatisbestnow     False             250   \n",
       "\n",
       "                                               content  \\\n",
       "0    \"Summer Summer Summertime. Time to sit back an...   \n",
       "1    When your hair is in good shape, it undoubtedl...   \n",
       "2    Walk you like a dog… #makeuptransformation #ma...   \n",
       "3    It's pay day, so go on and treat yourself – yo...   \n",
       "4    Here are some tips of what skincare range migh...   \n",
       "..                                                 ...   \n",
       "715  You only have TWO more days to save 15% on the...   \n",
       "716  #powerstay💄 Liquid Stain\\nnew shades 👉  Foreve...   \n",
       "717  Sephora is rumoured to be returning to the UK ...   \n",
       "718  Live Shopping September 1 @ 8PM ET get a sneak...   \n",
       "719  What's #Best on https://t.co/NxJm1aMV2j ?\\nShi...   \n",
       "\n",
       "                          date    country  replyCount  retweetCount  \\\n",
       "0    2022-07-03 01:33:25+00:00     Mexico           0             0   \n",
       "1    2022-08-23 04:59:34+00:00  Argentina           0             0   \n",
       "2    2022-07-29 06:29:21+00:00  Argentina           0             0   \n",
       "3    2022-08-30 18:12:13+00:00  Argentina           0             0   \n",
       "4    2022-08-30 11:40:18+00:00  Argentina           0             0   \n",
       "..                         ...        ...         ...           ...   \n",
       "715  2022-08-30 13:59:48+00:00  Argentina           0             3   \n",
       "716  2022-08-30 10:28:35+00:00  Argentina           0             0   \n",
       "717  2022-08-30 08:17:53+00:00  Argentina           0             0   \n",
       "718  2022-08-30 17:10:41+00:00  Argentina           0             0   \n",
       "719  2022-07-22 18:27:31+00:00  Argentina           0             0   \n",
       "\n",
       "     likeCount                                                url  \\\n",
       "0            0  https://twitter.com/TryNotImages/status/154340...   \n",
       "1            0  https://twitter.com/arar_group/status/15619411...   \n",
       "2            0  https://twitter.com/HBincharge/status/15529040...   \n",
       "3            0  https://twitter.com/CathWarburton/status/15646...   \n",
       "4            0  https://twitter.com/MAHJAHAJH/status/156457875...   \n",
       "..         ...                                                ...   \n",
       "715         11  https://twitter.com/RanchEmu/status/1564613862...   \n",
       "716          0  https://twitter.com/Agnes_Avon/status/15645607...   \n",
       "717          0  https://twitter.com/bspokeadvantage/status/156...   \n",
       "718          2  https://twitter.com/ssmith7839/status/15646618...   \n",
       "719          1  https://twitter.com/whatisbestnow/status/15505...   \n",
       "\n",
       "                                              hashtags  \\\n",
       "0    ['TryNotImages', 'beauty', 'sunset', 'winstons...   \n",
       "1    ['ArarGroup', 'ArarServices', 'ArarInnovation'...   \n",
       "2    ['makeuptransformation', 'makeuptrends', 'make...   \n",
       "3    ['Avon', 'Beauty', 'AvonBeauty', 'MakeUp', 'Av...   \n",
       "4                       ['SkincareTips', 'Moisturise']   \n",
       "..                                                 ...   \n",
       "715  ['montanaemuranch', 'emutrients', 'EMUGency', ...   \n",
       "716  ['powerstay', 'makeup', 'make', 'makeupaddict'...   \n",
       "717  ['beauty', 'skincare', 'sephora', 'london', 'c...   \n",
       "718  ['avon', 'avonrep', 'liveshopping', 'specialof...   \n",
       "719  ['Best', 'beauty', 'bobbibrowncosmetics', 'bob...   \n",
       "\n",
       "                                             processed  \\\n",
       "0    summer summer summertime time to sit back and ...   \n",
       "1    when your hair be in good shape it undoubtedly...   \n",
       "2                              walk you like a dog via   \n",
       "3    it be pay day so go on and treat yourself you ...   \n",
       "4    here be some tip of what sincere range might w...   \n",
       "..                                                 ...   \n",
       "715  you only have two more days to save 15 on thes...   \n",
       "716  liquid stain new shade backhand_index_pointing...   \n",
       "717  sephora be rumour to be return to the uk with ...   \n",
       "718  live shop september 1 8pm et get a sneak previ...   \n",
       "719  what be on swimmer play 3 ways with melissa he...   \n",
       "\n",
       "                                    cleantext_no_spell  \\\n",
       "0    summer summer summertime time to sit back and ...   \n",
       "1    when your hair be in good shape it undoubtedly...   \n",
       "2                              walk you like a dog via   \n",
       "3    it be pay day so go on and treat yourself you ...   \n",
       "4    here be some tip of what sincere range might w...   \n",
       "..                                                 ...   \n",
       "715  you only have two more days to save 15 on thes...   \n",
       "716  liquid stain new shade backhand_index_pointing...   \n",
       "717  sephora be rumour to be return to the uk with ...   \n",
       "718  live shop september 1 8pm et get a sneak previ...   \n",
       "719  what be on swimmer play 3 ways with melissa he...   \n",
       "\n",
       "                           cleantext_no_spell_no_lemma  \n",
       "0    summer summer summertime time to sit back and ...  \n",
       "1    when your hair be in good shape it undoubtedly...  \n",
       "2                              walk you like a dog via  \n",
       "3    it be pay day so go on and treat yourself you ...  \n",
       "4    here be some tip of what sincere range might w...  \n",
       "..                                                 ...  \n",
       "715  you only have two more days to save 15 on thes...  \n",
       "716  liquid stain new shade backhand_index_pointing...  \n",
       "717  sephora be rumour to be return to the uk with ...  \n",
       "718  live shop september 1 8pm et get a sneak previ...  \n",
       "719  what be on swimmer play 3 ways with melissa he...  \n",
       "\n",
       "[720 rows x 15 columns]"
      ]
     },
     "execution_count": 93,
     "metadata": {},
     "output_type": "execute_result"
    }
   ],
   "source": [
    "df['processed']=df['cleantext_no_spell_no_lemma']\n",
    "df"
   ]
  },
  {
   "cell_type": "code",
   "execution_count": 94,
   "id": "c7f2ae8b",
   "metadata": {},
   "outputs": [
    {
     "data": {
      "text/html": [
       "\n",
       "  <style>\n",
       "    pre {\n",
       "        white-space: pre-wrap;\n",
       "    }\n",
       "  </style>\n",
       "  "
      ],
      "text/plain": [
       "<IPython.core.display.HTML object>"
      ]
     },
     "metadata": {},
     "output_type": "display_data"
    },
    {
     "data": {
      "text/html": [
       "\n",
       "  <style>\n",
       "    pre {\n",
       "        white-space: pre-wrap;\n",
       "    }\n",
       "  </style>\n",
       "  "
      ],
      "text/plain": [
       "<IPython.core.display.HTML object>"
      ]
     },
     "metadata": {},
     "output_type": "display_data"
    }
   ],
   "source": [
    "df.to_csv(\"processed_test.csv\", encoding = \"utf-8-sig\", index=False)"
   ]
  },
  {
   "cell_type": "code",
   "execution_count": null,
   "id": "58da1f4d",
   "metadata": {},
   "outputs": [],
   "source": []
  }
 ],
 "metadata": {
  "kernelspec": {
   "display_name": "Python 3 (ipykernel)",
   "language": "python",
   "name": "python3"
  },
  "language_info": {
   "codemirror_mode": {
    "name": "ipython",
    "version": 3
   },
   "file_extension": ".py",
   "mimetype": "text/x-python",
   "name": "python",
   "nbconvert_exporter": "python",
   "pygments_lexer": "ipython3",
   "version": "3.8.13"
  }
 },
 "nbformat": 4,
 "nbformat_minor": 5
}
