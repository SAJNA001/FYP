{
 "cells": [
  {
   "cell_type": "code",
   "execution_count": 345,
   "id": "69818b5c",
   "metadata": {},
   "outputs": [],
   "source": [
    "# code reference: https://github.com/jatinmandav/Neural-Networks/blob/master/Sentiment-Analysis/fastText/sentiment_analysis_fastext.ipynb\n",
    "# import libraries\n",
    "import gensim\n",
    "from gensim.models import FastText\n",
    "import pandas as pd\n",
    "import time\n",
    "import numpy as np\n",
    "import keras.backend as K\n",
    "from sklearn.utils.class_weight import compute_class_weight\n",
    "from keras.utils.vis_utils import plot_model\n",
    "from keras.models import load_model\n",
    "import matplotlib.pyplot as plt\n",
    "from keras.models import Sequential\n",
    "from keras.layers import Conv1D, Dropout, Dense, Flatten, LSTM, MaxPooling1D, Bidirectional\n",
    "from tensorflow import keras\n",
    "from keras.callbacks import EarlyStopping, TensorBoard, ModelCheckpoint\n",
    "from sklearn.metrics import accuracy_score\n",
    "from sklearn.metrics import precision_score\n",
    "from sklearn.metrics import recall_score\n",
    "from sklearn.metrics import f1_score\n",
    "import matplotlib.pyplot as plt\n",
    "import numpy as np\n",
    "import itertools\n",
    "from sklearn.metrics import confusion_matrix"
   ]
  },
  {
   "cell_type": "code",
   "execution_count": 346,
   "id": "5c419550",
   "metadata": {},
   "outputs": [
    {
     "data": {
      "text/plain": [
       "(1000, 15)"
      ]
     },
     "execution_count": 346,
     "metadata": {},
     "output_type": "execute_result"
    }
   ],
   "source": [
    "# import dataset\n",
    "df_train =pd.read_csv('/users/macbookpro/processed_train.csv')\n",
    "df_test =pd.read_csv('/users/macbookpro/processed_test.csv')\n",
    "df_train.shape"
   ]
  },
  {
   "cell_type": "code",
   "execution_count": 347,
   "id": "69513b92",
   "metadata": {},
   "outputs": [
    {
     "data": {
      "text/plain": [
       " 1    498\n",
       " 0    412\n",
       "-1     90\n",
       "Name: sentiment, dtype: int64"
      ]
     },
     "execution_count": 347,
     "metadata": {},
     "output_type": "execute_result"
    }
   ],
   "source": [
    "df_train['sentiment'].value_counts()"
   ]
  },
  {
   "cell_type": "code",
   "execution_count": 348,
   "id": "cd188377",
   "metadata": {},
   "outputs": [
    {
     "data": {
      "text/plain": [
       " 0    304\n",
       " 1    181\n",
       "-1     15\n",
       "Name: sentiment, dtype: int64"
      ]
     },
     "execution_count": 348,
     "metadata": {},
     "output_type": "execute_result"
    }
   ],
   "source": [
    "df_test['sentiment'].value_counts()"
   ]
  },
  {
   "cell_type": "code",
   "execution_count": 349,
   "id": "453146d3",
   "metadata": {},
   "outputs": [
    {
     "data": {
      "text/html": [
       "<div>\n",
       "<style scoped>\n",
       "    .dataframe tbody tr th:only-of-type {\n",
       "        vertical-align: middle;\n",
       "    }\n",
       "\n",
       "    .dataframe tbody tr th {\n",
       "        vertical-align: top;\n",
       "    }\n",
       "\n",
       "    .dataframe thead th {\n",
       "        text-align: right;\n",
       "    }\n",
       "</style>\n",
       "<table border=\"1\" class=\"dataframe\">\n",
       "  <thead>\n",
       "    <tr style=\"text-align: right;\">\n",
       "      <th></th>\n",
       "      <th>sentiment</th>\n",
       "      <th>username</th>\n",
       "      <th>verified</th>\n",
       "      <th>followersCount</th>\n",
       "      <th>content</th>\n",
       "      <th>date</th>\n",
       "      <th>country</th>\n",
       "      <th>replyCount</th>\n",
       "      <th>retweetCount</th>\n",
       "      <th>likeCount</th>\n",
       "      <th>url</th>\n",
       "      <th>hashtags</th>\n",
       "      <th>processed</th>\n",
       "      <th>cleantext_no_spell</th>\n",
       "      <th>cleantext_no_spell_no_lemma</th>\n",
       "    </tr>\n",
       "  </thead>\n",
       "  <tbody>\n",
       "    <tr>\n",
       "      <th>0</th>\n",
       "      <td>1</td>\n",
       "      <td>wintersgordon</td>\n",
       "      <td>False</td>\n",
       "      <td>342</td>\n",
       "      <td>Still trying to master that contour? A mistake...</td>\n",
       "      <td>2022-08-26 11:35:12+00:00</td>\n",
       "      <td>Argentina</td>\n",
       "      <td>0</td>\n",
       "      <td>0</td>\n",
       "      <td>0</td>\n",
       "      <td>https://twitter.com/wintersgordon/status/15631...</td>\n",
       "      <td>['contour', 'contouringmakeup', 'countouring',...</td>\n",
       "      <td>still try to master that contour a mistake tha...</td>\n",
       "      <td>still try to master that contour a mistake tha...</td>\n",
       "      <td>still try to master that contour a mistake tha...</td>\n",
       "    </tr>\n",
       "    <tr>\n",
       "      <th>1</th>\n",
       "      <td>0</td>\n",
       "      <td>TheTressXpress</td>\n",
       "      <td>False</td>\n",
       "      <td>74</td>\n",
       "      <td>Our first Pop Up of 2022 🥳👏🏽\\nJoin us from 10a...</td>\n",
       "      <td>2022-07-27 14:24:19+00:00</td>\n",
       "      <td>Papua New Guinea</td>\n",
       "      <td>0</td>\n",
       "      <td>3</td>\n",
       "      <td>2</td>\n",
       "      <td>https://twitter.com/TheTressXpress/status/1552...</td>\n",
       "      <td>['popup', 'business', 'hairproducts', 'summer']</td>\n",
       "      <td>our first pop up of 2022 partying_face clippin...</td>\n",
       "      <td>our first pop up of 2022 partying_face clippin...</td>\n",
       "      <td>our first pop up of 2022 partying_face clippin...</td>\n",
       "    </tr>\n",
       "    <tr>\n",
       "      <th>2</th>\n",
       "      <td>1</td>\n",
       "      <td>Style_Sage</td>\n",
       "      <td>False</td>\n",
       "      <td>967</td>\n",
       "      <td>Our June Beauty Report is live, and here are s...</td>\n",
       "      <td>2022-06-15 17:50:48+00:00</td>\n",
       "      <td>Argentina</td>\n",
       "      <td>0</td>\n",
       "      <td>0</td>\n",
       "      <td>0</td>\n",
       "      <td>https://twitter.com/Style_Sage/status/15371305...</td>\n",
       "      <td>['beauty', 'beautytrends', 'makeup']</td>\n",
       "      <td>our june beauty report be live and here be som...</td>\n",
       "      <td>our june beauty report be live and here be som...</td>\n",
       "      <td>our june beauty report be live and here be som...</td>\n",
       "    </tr>\n",
       "    <tr>\n",
       "      <th>3</th>\n",
       "      <td>0</td>\n",
       "      <td>BeautyLashed</td>\n",
       "      <td>False</td>\n",
       "      <td>2</td>\n",
       "      <td>📷 Definitely not shy 🤩 @keiana.mua absolutely ...</td>\n",
       "      <td>2022-07-30 14:44:50+00:00</td>\n",
       "      <td>Argentina</td>\n",
       "      <td>0</td>\n",
       "      <td>0</td>\n",
       "      <td>0</td>\n",
       "      <td>https://twitter.com/BeautyLashed/status/155339...</td>\n",
       "      <td>['makeuptransformation', 'makeuptutorial', 'ma...</td>\n",
       "      <td>camera definitely not shy star strike absolute...</td>\n",
       "      <td>camera definitely not shy star strike absolute...</td>\n",
       "      <td>camera definitely not shy star strike absolute...</td>\n",
       "    </tr>\n",
       "    <tr>\n",
       "      <th>4</th>\n",
       "      <td>1</td>\n",
       "      <td>tecyl1971</td>\n",
       "      <td>False</td>\n",
       "      <td>41</td>\n",
       "      <td>The Sonya™ daily skincare system delivers aloe...</td>\n",
       "      <td>2022-07-06 20:02:51+00:00</td>\n",
       "      <td>Argentina</td>\n",
       "      <td>0</td>\n",
       "      <td>0</td>\n",
       "      <td>1</td>\n",
       "      <td>https://twitter.com/tecyl1971/status/154477389...</td>\n",
       "      <td>['foreverskincare', 'dailyskincare', 'tecylalo...</td>\n",
       "      <td>the sony trade_mark daily sincere system deliv...</td>\n",
       "      <td>the sony trade_mark daily sincere system deliv...</td>\n",
       "      <td>the sony trade_mark daily sincere system deliv...</td>\n",
       "    </tr>\n",
       "  </tbody>\n",
       "</table>\n",
       "</div>"
      ],
      "text/plain": [
       "   sentiment        username  verified  followersCount  \\\n",
       "0          1   wintersgordon     False             342   \n",
       "1          0  TheTressXpress     False              74   \n",
       "2          1      Style_Sage     False             967   \n",
       "3          0    BeautyLashed     False               2   \n",
       "4          1       tecyl1971     False              41   \n",
       "\n",
       "                                             content  \\\n",
       "0  Still trying to master that contour? A mistake...   \n",
       "1  Our first Pop Up of 2022 🥳👏🏽\\nJoin us from 10a...   \n",
       "2  Our June Beauty Report is live, and here are s...   \n",
       "3  📷 Definitely not shy 🤩 @keiana.mua absolutely ...   \n",
       "4  The Sonya™ daily skincare system delivers aloe...   \n",
       "\n",
       "                        date           country  replyCount  retweetCount  \\\n",
       "0  2022-08-26 11:35:12+00:00         Argentina           0             0   \n",
       "1  2022-07-27 14:24:19+00:00  Papua New Guinea           0             3   \n",
       "2  2022-06-15 17:50:48+00:00         Argentina           0             0   \n",
       "3  2022-07-30 14:44:50+00:00         Argentina           0             0   \n",
       "4  2022-07-06 20:02:51+00:00         Argentina           0             0   \n",
       "\n",
       "   likeCount                                                url  \\\n",
       "0          0  https://twitter.com/wintersgordon/status/15631...   \n",
       "1          2  https://twitter.com/TheTressXpress/status/1552...   \n",
       "2          0  https://twitter.com/Style_Sage/status/15371305...   \n",
       "3          0  https://twitter.com/BeautyLashed/status/155339...   \n",
       "4          1  https://twitter.com/tecyl1971/status/154477389...   \n",
       "\n",
       "                                            hashtags  \\\n",
       "0  ['contour', 'contouringmakeup', 'countouring',...   \n",
       "1    ['popup', 'business', 'hairproducts', 'summer']   \n",
       "2               ['beauty', 'beautytrends', 'makeup']   \n",
       "3  ['makeuptransformation', 'makeuptutorial', 'ma...   \n",
       "4  ['foreverskincare', 'dailyskincare', 'tecylalo...   \n",
       "\n",
       "                                           processed  \\\n",
       "0  still try to master that contour a mistake tha...   \n",
       "1  our first pop up of 2022 partying_face clippin...   \n",
       "2  our june beauty report be live and here be som...   \n",
       "3  camera definitely not shy star strike absolute...   \n",
       "4  the sony trade_mark daily sincere system deliv...   \n",
       "\n",
       "                                  cleantext_no_spell  \\\n",
       "0  still try to master that contour a mistake tha...   \n",
       "1  our first pop up of 2022 partying_face clippin...   \n",
       "2  our june beauty report be live and here be som...   \n",
       "3  camera definitely not shy star strike absolute...   \n",
       "4  the sony trade_mark daily sincere system deliv...   \n",
       "\n",
       "                         cleantext_no_spell_no_lemma  \n",
       "0  still try to master that contour a mistake tha...  \n",
       "1  our first pop up of 2022 partying_face clippin...  \n",
       "2  our june beauty report be live and here be som...  \n",
       "3  camera definitely not shy star strike absolute...  \n",
       "4  the sony trade_mark daily sincere system deliv...  "
      ]
     },
     "execution_count": 349,
     "metadata": {},
     "output_type": "execute_result"
    }
   ],
   "source": [
    "df_train.head()"
   ]
  },
  {
   "cell_type": "code",
   "execution_count": 350,
   "id": "022c37c9",
   "metadata": {},
   "outputs": [
    {
     "data": {
      "text/plain": [
       "(500, 15)"
      ]
     },
     "execution_count": 350,
     "metadata": {},
     "output_type": "execute_result"
    }
   ],
   "source": [
    "df_test.shape"
   ]
  },
  {
   "cell_type": "code",
   "execution_count": 351,
   "id": "d091f33c",
   "metadata": {},
   "outputs": [
    {
     "data": {
      "text/plain": [
       " 0    304\n",
       " 1    181\n",
       "-1     15\n",
       "Name: sentiment, dtype: int64"
      ]
     },
     "execution_count": 351,
     "metadata": {},
     "output_type": "execute_result"
    }
   ],
   "source": [
    "df_test['sentiment'].value_counts()"
   ]
  },
  {
   "cell_type": "code",
   "execution_count": 352,
   "id": "0ec22bbe",
   "metadata": {},
   "outputs": [
    {
     "data": {
      "text/html": [
       "<div>\n",
       "<style scoped>\n",
       "    .dataframe tbody tr th:only-of-type {\n",
       "        vertical-align: middle;\n",
       "    }\n",
       "\n",
       "    .dataframe tbody tr th {\n",
       "        vertical-align: top;\n",
       "    }\n",
       "\n",
       "    .dataframe thead th {\n",
       "        text-align: right;\n",
       "    }\n",
       "</style>\n",
       "<table border=\"1\" class=\"dataframe\">\n",
       "  <thead>\n",
       "    <tr style=\"text-align: right;\">\n",
       "      <th></th>\n",
       "      <th>sentiment</th>\n",
       "      <th>username</th>\n",
       "      <th>verified</th>\n",
       "      <th>followersCount</th>\n",
       "      <th>content</th>\n",
       "      <th>date</th>\n",
       "      <th>country</th>\n",
       "      <th>replyCount</th>\n",
       "      <th>retweetCount</th>\n",
       "      <th>likeCount</th>\n",
       "      <th>url</th>\n",
       "      <th>hashtags</th>\n",
       "      <th>processed</th>\n",
       "      <th>cleantext_no_spell</th>\n",
       "      <th>cleantext_no_spell_no_lemma</th>\n",
       "    </tr>\n",
       "  </thead>\n",
       "  <tbody>\n",
       "    <tr>\n",
       "      <th>0</th>\n",
       "      <td>0</td>\n",
       "      <td>TryNotImages</td>\n",
       "      <td>False</td>\n",
       "      <td>180</td>\n",
       "      <td>\"Summer Summer Summertime. Time to sit back an...</td>\n",
       "      <td>2022-07-03 01:33:25+00:00</td>\n",
       "      <td>Mexico</td>\n",
       "      <td>0</td>\n",
       "      <td>0</td>\n",
       "      <td>0</td>\n",
       "      <td>https://twitter.com/TryNotImages/status/154340...</td>\n",
       "      <td>['TryNotImages', 'beauty', 'sunset', 'winstons...</td>\n",
       "      <td>summer summer summertime time to sit back and ...</td>\n",
       "      <td>summer summer summertime time to sit back and ...</td>\n",
       "      <td>summer summer summertime time to sit back and ...</td>\n",
       "    </tr>\n",
       "    <tr>\n",
       "      <th>1</th>\n",
       "      <td>1</td>\n",
       "      <td>arar_group</td>\n",
       "      <td>False</td>\n",
       "      <td>33</td>\n",
       "      <td>When your hair is in good shape, it undoubtedl...</td>\n",
       "      <td>2022-08-23 04:59:34+00:00</td>\n",
       "      <td>Argentina</td>\n",
       "      <td>0</td>\n",
       "      <td>0</td>\n",
       "      <td>0</td>\n",
       "      <td>https://twitter.com/arar_group/status/15619411...</td>\n",
       "      <td>['ArarGroup', 'ArarServices', 'ArarInnovation'...</td>\n",
       "      <td>when your hair be in good shape it undoubtedly...</td>\n",
       "      <td>when your hair be in good shape it undoubtedly...</td>\n",
       "      <td>when your hair be in good shape it undoubtedly...</td>\n",
       "    </tr>\n",
       "    <tr>\n",
       "      <th>2</th>\n",
       "      <td>0</td>\n",
       "      <td>HBincharge</td>\n",
       "      <td>False</td>\n",
       "      <td>3933</td>\n",
       "      <td>Walk you like a dog… #makeuptransformation #ma...</td>\n",
       "      <td>2022-07-29 06:29:21+00:00</td>\n",
       "      <td>Argentina</td>\n",
       "      <td>0</td>\n",
       "      <td>0</td>\n",
       "      <td>0</td>\n",
       "      <td>https://twitter.com/HBincharge/status/15529040...</td>\n",
       "      <td>['makeuptransformation', 'makeuptrends', 'make...</td>\n",
       "      <td>walk you like a dog via</td>\n",
       "      <td>walk you like a dog via</td>\n",
       "      <td>walk you like a dog via</td>\n",
       "    </tr>\n",
       "    <tr>\n",
       "      <th>3</th>\n",
       "      <td>1</td>\n",
       "      <td>CathWarburton</td>\n",
       "      <td>False</td>\n",
       "      <td>44</td>\n",
       "      <td>It's pay day, so go on and treat yourself – yo...</td>\n",
       "      <td>2022-08-30 18:12:13+00:00</td>\n",
       "      <td>Argentina</td>\n",
       "      <td>0</td>\n",
       "      <td>0</td>\n",
       "      <td>0</td>\n",
       "      <td>https://twitter.com/CathWarburton/status/15646...</td>\n",
       "      <td>['Avon', 'Beauty', 'AvonBeauty', 'MakeUp', 'Av...</td>\n",
       "      <td>it be pay day so go on and treat yourself you ...</td>\n",
       "      <td>it be pay day so go on and treat yourself you ...</td>\n",
       "      <td>it be pay day so go on and treat yourself you ...</td>\n",
       "    </tr>\n",
       "    <tr>\n",
       "      <th>4</th>\n",
       "      <td>1</td>\n",
       "      <td>MAHJAHAJH</td>\n",
       "      <td>False</td>\n",
       "      <td>22</td>\n",
       "      <td>Here are some tips of what skincare range migh...</td>\n",
       "      <td>2022-08-30 11:40:18+00:00</td>\n",
       "      <td>Argentina</td>\n",
       "      <td>0</td>\n",
       "      <td>0</td>\n",
       "      <td>0</td>\n",
       "      <td>https://twitter.com/MAHJAHAJH/status/156457875...</td>\n",
       "      <td>['SkincareTips', 'Moisturise']</td>\n",
       "      <td>here be some tip of what sincere range might w...</td>\n",
       "      <td>here be some tip of what sincere range might w...</td>\n",
       "      <td>here be some tip of what sincere range might w...</td>\n",
       "    </tr>\n",
       "  </tbody>\n",
       "</table>\n",
       "</div>"
      ],
      "text/plain": [
       "   sentiment       username  verified  followersCount  \\\n",
       "0          0   TryNotImages     False             180   \n",
       "1          1     arar_group     False              33   \n",
       "2          0     HBincharge     False            3933   \n",
       "3          1  CathWarburton     False              44   \n",
       "4          1      MAHJAHAJH     False              22   \n",
       "\n",
       "                                             content  \\\n",
       "0  \"Summer Summer Summertime. Time to sit back an...   \n",
       "1  When your hair is in good shape, it undoubtedl...   \n",
       "2  Walk you like a dog… #makeuptransformation #ma...   \n",
       "3  It's pay day, so go on and treat yourself – yo...   \n",
       "4  Here are some tips of what skincare range migh...   \n",
       "\n",
       "                        date    country  replyCount  retweetCount  likeCount  \\\n",
       "0  2022-07-03 01:33:25+00:00     Mexico           0             0          0   \n",
       "1  2022-08-23 04:59:34+00:00  Argentina           0             0          0   \n",
       "2  2022-07-29 06:29:21+00:00  Argentina           0             0          0   \n",
       "3  2022-08-30 18:12:13+00:00  Argentina           0             0          0   \n",
       "4  2022-08-30 11:40:18+00:00  Argentina           0             0          0   \n",
       "\n",
       "                                                 url  \\\n",
       "0  https://twitter.com/TryNotImages/status/154340...   \n",
       "1  https://twitter.com/arar_group/status/15619411...   \n",
       "2  https://twitter.com/HBincharge/status/15529040...   \n",
       "3  https://twitter.com/CathWarburton/status/15646...   \n",
       "4  https://twitter.com/MAHJAHAJH/status/156457875...   \n",
       "\n",
       "                                            hashtags  \\\n",
       "0  ['TryNotImages', 'beauty', 'sunset', 'winstons...   \n",
       "1  ['ArarGroup', 'ArarServices', 'ArarInnovation'...   \n",
       "2  ['makeuptransformation', 'makeuptrends', 'make...   \n",
       "3  ['Avon', 'Beauty', 'AvonBeauty', 'MakeUp', 'Av...   \n",
       "4                     ['SkincareTips', 'Moisturise']   \n",
       "\n",
       "                                           processed  \\\n",
       "0  summer summer summertime time to sit back and ...   \n",
       "1  when your hair be in good shape it undoubtedly...   \n",
       "2                            walk you like a dog via   \n",
       "3  it be pay day so go on and treat yourself you ...   \n",
       "4  here be some tip of what sincere range might w...   \n",
       "\n",
       "                                  cleantext_no_spell  \\\n",
       "0  summer summer summertime time to sit back and ...   \n",
       "1  when your hair be in good shape it undoubtedly...   \n",
       "2                            walk you like a dog via   \n",
       "3  it be pay day so go on and treat yourself you ...   \n",
       "4  here be some tip of what sincere range might w...   \n",
       "\n",
       "                         cleantext_no_spell_no_lemma  \n",
       "0  summer summer summertime time to sit back and ...  \n",
       "1  when your hair be in good shape it undoubtedly...  \n",
       "2                            walk you like a dog via  \n",
       "3  it be pay day so go on and treat yourself you ...  \n",
       "4  here be some tip of what sincere range might w...  "
      ]
     },
     "execution_count": 352,
     "metadata": {},
     "output_type": "execute_result"
    }
   ],
   "source": [
    "df_test.head()"
   ]
  },
  {
   "cell_type": "code",
   "execution_count": 353,
   "id": "eb361712",
   "metadata": {},
   "outputs": [
    {
     "name": "stderr",
     "output_type": "stream",
     "text": [
      "/var/folders/2f/dgxn4rw16799s4c8wtdgqpg80000gn/T/ipykernel_34543/4135013109.py:5: FutureWarning: The frame.append method is deprecated and will be removed from pandas in a future version. Use pandas.concat instead.\n",
      "  df3 = df1.append(df2)\n"
     ]
    },
    {
     "data": {
      "text/html": [
       "<div>\n",
       "<style scoped>\n",
       "    .dataframe tbody tr th:only-of-type {\n",
       "        vertical-align: middle;\n",
       "    }\n",
       "\n",
       "    .dataframe tbody tr th {\n",
       "        vertical-align: top;\n",
       "    }\n",
       "\n",
       "    .dataframe thead th {\n",
       "        text-align: right;\n",
       "    }\n",
       "</style>\n",
       "<table border=\"1\" class=\"dataframe\">\n",
       "  <thead>\n",
       "    <tr style=\"text-align: right;\">\n",
       "      <th></th>\n",
       "      <th>processed</th>\n",
       "      <th>sentiment</th>\n",
       "    </tr>\n",
       "  </thead>\n",
       "  <tbody>\n",
       "    <tr>\n",
       "      <th>0</th>\n",
       "      <td>still try to master that contour a mistake tha...</td>\n",
       "      <td>1</td>\n",
       "    </tr>\n",
       "    <tr>\n",
       "      <th>1</th>\n",
       "      <td>our first pop up of 2022 partying_face clippin...</td>\n",
       "      <td>0</td>\n",
       "    </tr>\n",
       "    <tr>\n",
       "      <th>2</th>\n",
       "      <td>our june beauty report be live and here be som...</td>\n",
       "      <td>1</td>\n",
       "    </tr>\n",
       "    <tr>\n",
       "      <th>3</th>\n",
       "      <td>camera definitely not shy star strike absolute...</td>\n",
       "      <td>0</td>\n",
       "    </tr>\n",
       "    <tr>\n",
       "      <th>4</th>\n",
       "      <td>the sony trade_mark daily sincere system deliv...</td>\n",
       "      <td>1</td>\n",
       "    </tr>\n",
       "  </tbody>\n",
       "</table>\n",
       "</div>"
      ],
      "text/plain": [
       "                                           processed  sentiment\n",
       "0  still try to master that contour a mistake tha...          1\n",
       "1  our first pop up of 2022 partying_face clippin...          0\n",
       "2  our june beauty report be live and here be som...          1\n",
       "3  camera definitely not shy star strike absolute...          0\n",
       "4  the sony trade_mark daily sincere system deliv...          1"
      ]
     },
     "execution_count": 353,
     "metadata": {},
     "output_type": "execute_result"
    }
   ],
   "source": [
    "df1=pd.DataFrame(df_train['processed'])\n",
    "df1['sentiment']= df_train['sentiment']\n",
    "df2=pd.DataFrame(df_test['processed'])\n",
    "df2['sentiment']= df_test['sentiment']\n",
    "df3 = df1.append(df2)\n",
    "df3.head()"
   ]
  },
  {
   "cell_type": "code",
   "execution_count": 354,
   "id": "ad4c0f8c",
   "metadata": {},
   "outputs": [],
   "source": [
    "# declaring constants\n",
    "vector_size = 100\n",
    "window = 5"
   ]
  },
  {
   "cell_type": "code",
   "execution_count": 355,
   "id": "c85e5780",
   "metadata": {},
   "outputs": [
    {
     "name": "stderr",
     "output_type": "stream",
     "text": [
      "WARNING:gensim.models.word2vec:Each 'sentences' item should be a list of words (usually unicode strings). First item here is instead plain <class 'str'>.\n"
     ]
    },
    {
     "name": "stdout",
     "output_type": "stream",
     "text": [
      "Generating FastText Vectors ..\n",
      "FastText Created in 1.2365269660949707 seconds.\n",
      "FastText Model saved at /users/macbookpro/twitter-sentiment-fasttext-52.model/saved_model.pb\n"
     ]
    }
   ],
   "source": [
    "# trianing fats text model\n",
    "fasttext_model = '/users/macbookpro/twitter-sentiment-fasttext-52.model/saved_model.pb'\n",
    "\n",
    "print('Generating FastText Vectors ..')\n",
    "\n",
    "start = time.time()\n",
    "\n",
    "model = FastText()\n",
    "model.build_vocab(df3['processed'])\n",
    "model.train(df3['processed'],\n",
    "            total_examples=model.corpus_count, epochs=model.epochs)\n",
    "\n",
    "print('FastText Created in {} seconds.'.format(time.time() - start))\n",
    "\n",
    "model.save(fasttext_model)\n",
    "print('FastText Model saved at {}'.format(fasttext_model))\n",
    "\n",
    "del model"
   ]
  },
  {
   "cell_type": "code",
   "execution_count": 356,
   "id": "c474a7ab",
   "metadata": {},
   "outputs": [],
   "source": [
    "# load trained model\n",
    "model = FastText.load(fasttext_model)"
   ]
  },
  {
   "cell_type": "code",
   "execution_count": 357,
   "id": "6e49027d",
   "metadata": {},
   "outputs": [],
   "source": [
    "# extract word vectors\n",
    "x_vectors = model.wv\n",
    "del model"
   ]
  },
  {
   "cell_type": "code",
   "execution_count": 358,
   "id": "21f13def",
   "metadata": {},
   "outputs": [
    {
     "data": {
      "text/plain": [
       "<gensim.models.fasttext.FastTextKeyedVectors at 0x7fd96a34a0a0>"
      ]
     },
     "execution_count": 358,
     "metadata": {},
     "output_type": "execute_result"
    }
   ],
   "source": [
    "x_vectors\n"
   ]
  },
  {
   "cell_type": "code",
   "execution_count": 359,
   "id": "628ac19a",
   "metadata": {},
   "outputs": [
    {
     "data": {
      "text/plain": [
       "(1500, 1500)"
      ]
     },
     "execution_count": 359,
     "metadata": {},
     "output_type": "execute_result"
    }
   ],
   "source": [
    "len(df3['sentiment']), len(df3['processed'])\n"
   ]
  },
  {
   "cell_type": "code",
   "execution_count": 360,
   "id": "789ffc61",
   "metadata": {},
   "outputs": [],
   "source": [
    "# train test split\n",
    "train_size = int((len(df_train['processed'])))\n",
    "test_size = int((len(df_test['processed'])))\n",
    "\n",
    "max_no_tokens = 100\n",
    "\n",
    "indexes = set(range(0,train_size + test_size))\n",
    "\n",
    "x_train = np.zeros((train_size, max_no_tokens, vector_size), dtype=K.floatx())\n",
    "y_train = np.zeros((train_size, 3), dtype=np.int32)\n",
    "\n",
    "x_test = np.zeros((test_size, max_no_tokens, vector_size), dtype=K.floatx())\n",
    "y_test = np.zeros((test_size, 3), dtype=np.int32)"
   ]
  },
  {
   "cell_type": "code",
   "execution_count": 361,
   "id": "84fd8322",
   "metadata": {},
   "outputs": [
    {
     "data": {
      "text/plain": [
       "(1000, 500)"
      ]
     },
     "execution_count": 361,
     "metadata": {},
     "output_type": "execute_result"
    }
   ],
   "source": [
    "train_size, test_size\n"
   ]
  },
  {
   "cell_type": "code",
   "execution_count": 362,
   "id": "b15d7826",
   "metadata": {},
   "outputs": [],
   "source": [
    "tweets = list(df3['processed'])\n",
    "labels = list(df3['sentiment'])"
   ]
  },
  {
   "cell_type": "code",
   "execution_count": 363,
   "id": "7057aba2",
   "metadata": {},
   "outputs": [
    {
     "data": {
      "text/plain": [
       "(1500, 1500)"
      ]
     },
     "execution_count": 363,
     "metadata": {},
     "output_type": "execute_result"
    }
   ],
   "source": [
    "len(labels), len(tweets)\n"
   ]
  },
  {
   "cell_type": "code",
   "execution_count": 364,
   "id": "23316a15",
   "metadata": {},
   "outputs": [
    {
     "name": "stdout",
     "output_type": "stream",
     "text": [
      "0 1 [-0.02715204 -0.08813208 -0.06235647  0.21441647 -0.18224654 -0.23316017\n",
      "  0.46629918  0.53268737 -0.29312512  0.5990279  -0.24854037  0.7977911\n",
      "  0.07783799  0.38720062 -0.50063616 -0.22831973  0.5523252  -0.30444786\n",
      "  0.2834615  -0.5490139   0.06035525 -0.07241225 -0.01459991 -1.0464253\n",
      " -0.65230715 -0.24301764 -0.68723536 -0.20294106 -0.00880925  0.04578429\n",
      "  0.03287566 -0.09031608  0.27963156 -0.82102764 -0.6932004   0.4556248\n",
      " -0.3258649  -0.06387112 -0.2298411  -0.609539   -0.48507133 -0.39974785\n",
      "  0.52211654  0.05926852 -0.12591362 -0.24114747  0.09136178 -0.04453534\n",
      " -0.01736587  0.3115486  -0.4771242  -0.01508626 -0.32454583 -0.20127909\n",
      " -0.20546493 -0.29230016  0.25215498 -0.06610586 -0.9253663  -0.2836197\n",
      "  0.5939989   0.09092423 -0.29756567  0.17048846  0.00700876  0.00106407\n",
      "  0.32655722  0.05472995  0.0693097   0.25810748 -0.5205735  -0.17726482\n",
      " -0.20324612  0.22045353  0.27714562 -0.86744916 -0.38620502  0.25892633\n",
      " -0.3951676  -0.01184721  0.29511276  0.14032462 -0.18167236 -0.01935447\n",
      " -0.3830732  -0.4459079  -0.18907014  0.2027655   0.15724969  0.41251862\n",
      " -0.55415004 -0.22845826  0.45086634 -0.19041805 -0.51672924 -0.12071096\n",
      " -0.15108258  0.671775   -0.46299672  0.535806  ]\n"
     ]
    }
   ],
   "source": [
    "# checking value of a word vector\n",
    "for t, token in enumerate(tweets[8]):\n",
    "  print(t, token, x_vectors[token])\n",
    "  break"
   ]
  },
  {
   "cell_type": "code",
   "execution_count": 365,
   "id": "23e838e5",
   "metadata": {},
   "outputs": [],
   "source": [
    "# getting train test data ready by mapping the generated word vectors to the tweets\n",
    "for i, index in enumerate(indexes):\n",
    "    for t, token in enumerate(tweets[index]):\n",
    "        if t >= max_no_tokens:\n",
    "            break\n",
    "      \n",
    "        if token not in x_vectors:\n",
    "            continue\n",
    "    \n",
    "        if i < train_size:\n",
    "            x_train[i, t, :] = x_vectors[token]\n",
    "        else:\n",
    "            x_test[i - train_size, t, :] = x_vectors[token]\n",
    "\n",
    "  \n",
    "    if i < train_size:\n",
    "        if labels[index] == -1:\n",
    "          y_train[i, :] = [1.0, 0.0, 0.0]\n",
    "        elif labels[index] == 0:\n",
    "          y_train[i, :] = [0.0, 1.0, 0.0]\n",
    "        else:\n",
    "          y_train[i, :] = [0.0, 0.0, 1.0]\n",
    "    else:\n",
    "        if labels[index] == -1:\n",
    "          y_test[i - train_size, :] = [1.0, 0.0, 0.0]\n",
    "        elif labels[index] == 0:\n",
    "          y_test[i - train_size, :] = [0.0, 1.0, 0.0]\n",
    "        else:\n",
    "          y_test[i - train_size, :] = [0.0, 0.0, 1.0]\n",
    "    \n",
    "del tweets\n",
    "del labels"
   ]
  },
  {
   "cell_type": "code",
   "execution_count": 366,
   "id": "f60b6ef2",
   "metadata": {},
   "outputs": [
    {
     "data": {
      "text/plain": [
       "((1000, 100, 100), (500, 3))"
      ]
     },
     "execution_count": 366,
     "metadata": {},
     "output_type": "execute_result"
    }
   ],
   "source": [
    "x_train.shape, y_test.shape\n"
   ]
  },
  {
   "cell_type": "code",
   "execution_count": 367,
   "id": "5040abae",
   "metadata": {},
   "outputs": [],
   "source": [
    "# declaring training variables\n",
    "batch_size = 32\n",
    "no_epochs = 36\n",
    "w0= 1000/(3*498)\n",
    "w1=1000/(3*412)\n",
    "w2=1000/(3*90)"
   ]
  },
  {
   "cell_type": "code",
   "execution_count": 368,
   "id": "a8135313",
   "metadata": {},
   "outputs": [],
   "source": [
    "# generating class weights\n",
    "y_integers = np.argmax(y_train, axis=1)\n",
    "y_integers = y_integers-1\n",
    "class_weights = compute_class_weight(\n",
    "                                        class_weight = \"balanced\",\n",
    "                                        classes = np.unique(y_integers),\n",
    "                                        y = y_integers                                                    \n",
    "                                    )\n",
    "d_class_weights = dict(enumerate(class_weights))"
   ]
  },
  {
   "cell_type": "code",
   "execution_count": 369,
   "id": "1b87d2ec",
   "metadata": {},
   "outputs": [
    {
     "data": {
      "text/plain": [
       "{0: 3.7037037037037037, 1: 0.8090614886731392, 2: 0.6693440428380187}"
      ]
     },
     "execution_count": 369,
     "metadata": {},
     "output_type": "execute_result"
    }
   ],
   "source": [
    "d_class_weights"
   ]
  },
  {
   "cell_type": "code",
   "execution_count": 370,
   "id": "dfe08a3d",
   "metadata": {},
   "outputs": [
    {
     "name": "stdout",
     "output_type": "stream",
     "text": [
      "Model: \"sequential_11\"\n",
      "_________________________________________________________________\n",
      " Layer (type)                Output Shape              Param #   \n",
      "=================================================================\n",
      " conv1d_18 (Conv1D)          (None, 98, 64)            19264     \n",
      "                                                                 \n",
      " conv1d_19 (Conv1D)          (None, 96, 128)           24704     \n",
      "                                                                 \n",
      " max_pooling1d_9 (MaxPooling  (None, 47, 128)          0         \n",
      " 1D)                                                             \n",
      "                                                                 \n",
      " bidirectional_9 (Bidirectio  (None, 512)              788480    \n",
      " nal)                                                            \n",
      "                                                                 \n",
      " dense_37 (Dense)            (None, 256)               131328    \n",
      "                                                                 \n",
      " dropout_27 (Dropout)        (None, 256)               0         \n",
      "                                                                 \n",
      " dense_38 (Dense)            (None, 64)                16448     \n",
      "                                                                 \n",
      " dropout_28 (Dropout)        (None, 64)                0         \n",
      "                                                                 \n",
      " dense_39 (Dense)            (None, 32)                2080      \n",
      "                                                                 \n",
      " dropout_29 (Dropout)        (None, 32)                0         \n",
      "                                                                 \n",
      " dense_40 (Dense)            (None, 3)                 99        \n",
      "                                                                 \n",
      "=================================================================\n",
      "Total params: 982,403\n",
      "Trainable params: 982,403\n",
      "Non-trainable params: 0\n",
      "_________________________________________________________________\n"
     ]
    },
    {
     "name": "stderr",
     "output_type": "stream",
     "text": [
      "/Users/macbookpro/opt/anaconda3/lib/python3.8/site-packages/keras/optimizers/optimizer_v2/adam.py:114: UserWarning: The `lr` argument is deprecated, use `learning_rate` instead.\n",
      "  super().__init__(name, **kwargs)\n"
     ]
    }
   ],
   "source": [
    "# creating the model\n",
    "model = Sequential()\n",
    "\n",
    "model.add(Conv1D(64, kernel_size=3, activation='relu',\n",
    "                 input_shape=(max_no_tokens, vector_size)))\n",
    "model.add(Conv1D(128, kernel_size=3, activation='relu'))\n",
    "model.add(MaxPooling1D(pool_size=3, strides = 2))\n",
    "\n",
    "model.add(Bidirectional(LSTM(256, dropout=0.2, recurrent_dropout=0.15)))\n",
    "\n",
    "model.add(Dense(256, activation='relu'))\n",
    "model.add(Dropout(0.2))\n",
    "model.add(Dense(64, activation='relu'))\n",
    "model.add(Dropout(0.2))\n",
    "model.add(Dense(32, activation='relu'))\n",
    "model.add(Dropout(0.2))\n",
    "\n",
    "model.add(Dense(3, activation='softmax'))\n",
    "\n",
    "model.compile(loss='categorical_crossentropy', optimizer=keras.optimizers.Adam(lr=0.0005), metrics=['accuracy'])\n",
    "\n",
    "tensorboard = TensorBoard(log_dir='logs/', histogram_freq=0, write_graph=True, write_images=True)\n",
    "\n",
    "model.summary()"
   ]
  },
  {
   "cell_type": "code",
   "execution_count": 371,
   "id": "13feed34",
   "metadata": {},
   "outputs": [
    {
     "name": "stdout",
     "output_type": "stream",
     "text": [
      "Epoch 1/36\n",
      "32/32 [==============================] - ETA: 0s - loss: 1.0982 - accuracy: 0.3930\n",
      "Epoch 1: val_accuracy improved from -inf to 0.31800, saving model to /users/macbookpro/twitter-sentiment-fasttext-52.model\n"
     ]
    },
    {
     "name": "stderr",
     "output_type": "stream",
     "text": [
      "WARNING:absl:Found untraced functions such as _jit_compiled_convolution_op, _jit_compiled_convolution_op while saving (showing 2 of 2). These functions will not be directly callable after loading.\n"
     ]
    },
    {
     "name": "stdout",
     "output_type": "stream",
     "text": [
      "INFO:tensorflow:Assets written to: /users/macbookpro/twitter-sentiment-fasttext-52.model/assets\n"
     ]
    },
    {
     "name": "stderr",
     "output_type": "stream",
     "text": [
      "INFO:tensorflow:Assets written to: /users/macbookpro/twitter-sentiment-fasttext-52.model/assets\n"
     ]
    },
    {
     "name": "stdout",
     "output_type": "stream",
     "text": [
      "32/32 [==============================] - 23s 560ms/step - loss: 1.0982 - accuracy: 0.3930 - val_loss: 1.1291 - val_accuracy: 0.3180\n",
      "Epoch 2/36\n",
      "32/32 [==============================] - ETA: 0s - loss: 1.0789 - accuracy: 0.3630\n",
      "Epoch 2: val_accuracy improved from 0.31800 to 0.36000, saving model to /users/macbookpro/twitter-sentiment-fasttext-52.model\n"
     ]
    },
    {
     "name": "stderr",
     "output_type": "stream",
     "text": [
      "WARNING:absl:Found untraced functions such as _jit_compiled_convolution_op, _jit_compiled_convolution_op while saving (showing 2 of 2). These functions will not be directly callable after loading.\n"
     ]
    },
    {
     "name": "stdout",
     "output_type": "stream",
     "text": [
      "INFO:tensorflow:Assets written to: /users/macbookpro/twitter-sentiment-fasttext-52.model/assets\n"
     ]
    },
    {
     "name": "stderr",
     "output_type": "stream",
     "text": [
      "INFO:tensorflow:Assets written to: /users/macbookpro/twitter-sentiment-fasttext-52.model/assets\n"
     ]
    },
    {
     "name": "stdout",
     "output_type": "stream",
     "text": [
      "32/32 [==============================] - 18s 571ms/step - loss: 1.0789 - accuracy: 0.3630 - val_loss: 1.0729 - val_accuracy: 0.3600\n",
      "Epoch 3/36\n",
      "32/32 [==============================] - ETA: 0s - loss: 1.0737 - accuracy: 0.3170\n",
      "Epoch 3: val_accuracy improved from 0.36000 to 0.41800, saving model to /users/macbookpro/twitter-sentiment-fasttext-52.model\n"
     ]
    },
    {
     "name": "stderr",
     "output_type": "stream",
     "text": [
      "WARNING:absl:Found untraced functions such as _jit_compiled_convolution_op, _jit_compiled_convolution_op while saving (showing 2 of 2). These functions will not be directly callable after loading.\n"
     ]
    },
    {
     "name": "stdout",
     "output_type": "stream",
     "text": [
      "INFO:tensorflow:Assets written to: /users/macbookpro/twitter-sentiment-fasttext-52.model/assets\n"
     ]
    },
    {
     "name": "stderr",
     "output_type": "stream",
     "text": [
      "INFO:tensorflow:Assets written to: /users/macbookpro/twitter-sentiment-fasttext-52.model/assets\n"
     ]
    },
    {
     "name": "stdout",
     "output_type": "stream",
     "text": [
      "32/32 [==============================] - 17s 547ms/step - loss: 1.0737 - accuracy: 0.3170 - val_loss: 1.0371 - val_accuracy: 0.4180\n",
      "Epoch 4/36\n",
      "32/32 [==============================] - ETA: 0s - loss: 1.0557 - accuracy: 0.3800\n",
      "Epoch 4: val_accuracy improved from 0.41800 to 0.45400, saving model to /users/macbookpro/twitter-sentiment-fasttext-52.model\n"
     ]
    },
    {
     "name": "stderr",
     "output_type": "stream",
     "text": [
      "WARNING:absl:Found untraced functions such as _jit_compiled_convolution_op, _jit_compiled_convolution_op while saving (showing 2 of 2). These functions will not be directly callable after loading.\n"
     ]
    },
    {
     "name": "stdout",
     "output_type": "stream",
     "text": [
      "INFO:tensorflow:Assets written to: /users/macbookpro/twitter-sentiment-fasttext-52.model/assets\n"
     ]
    },
    {
     "name": "stderr",
     "output_type": "stream",
     "text": [
      "INFO:tensorflow:Assets written to: /users/macbookpro/twitter-sentiment-fasttext-52.model/assets\n"
     ]
    },
    {
     "name": "stdout",
     "output_type": "stream",
     "text": [
      "32/32 [==============================] - 21s 663ms/step - loss: 1.0557 - accuracy: 0.3800 - val_loss: 0.9736 - val_accuracy: 0.4540\n",
      "Epoch 5/36\n",
      "32/32 [==============================] - ETA: 0s - loss: 1.0352 - accuracy: 0.3500\n",
      "Epoch 5: val_accuracy did not improve from 0.45400\n",
      "32/32 [==============================] - 10s 307ms/step - loss: 1.0352 - accuracy: 0.3500 - val_loss: 1.0698 - val_accuracy: 0.4300\n",
      "Epoch 6/36\n",
      "32/32 [==============================] - ETA: 0s - loss: 1.0212 - accuracy: 0.3610\n",
      "Epoch 6: val_accuracy did not improve from 0.45400\n",
      "32/32 [==============================] - 15s 488ms/step - loss: 1.0212 - accuracy: 0.3610 - val_loss: 0.9762 - val_accuracy: 0.4400\n",
      "Epoch 7/36\n",
      "32/32 [==============================] - ETA: 0s - loss: 1.0271 - accuracy: 0.3810\n",
      "Epoch 7: val_accuracy did not improve from 0.45400\n",
      "32/32 [==============================] - 36s 1s/step - loss: 1.0271 - accuracy: 0.3810 - val_loss: 1.1647 - val_accuracy: 0.3600\n",
      "Epoch 8/36\n",
      "32/32 [==============================] - ETA: 0s - loss: 1.0341 - accuracy: 0.4340\n",
      "Epoch 8: val_accuracy improved from 0.45400 to 0.48800, saving model to /users/macbookpro/twitter-sentiment-fasttext-52.model\n"
     ]
    },
    {
     "name": "stderr",
     "output_type": "stream",
     "text": [
      "WARNING:absl:Found untraced functions such as _jit_compiled_convolution_op, _jit_compiled_convolution_op while saving (showing 2 of 2). These functions will not be directly callable after loading.\n"
     ]
    },
    {
     "name": "stdout",
     "output_type": "stream",
     "text": [
      "INFO:tensorflow:Assets written to: /users/macbookpro/twitter-sentiment-fasttext-52.model/assets\n"
     ]
    },
    {
     "name": "stderr",
     "output_type": "stream",
     "text": [
      "INFO:tensorflow:Assets written to: /users/macbookpro/twitter-sentiment-fasttext-52.model/assets\n"
     ]
    },
    {
     "name": "stdout",
     "output_type": "stream",
     "text": [
      "32/32 [==============================] - 33s 1s/step - loss: 1.0341 - accuracy: 0.4340 - val_loss: 1.0203 - val_accuracy: 0.4880\n",
      "Epoch 9/36\n",
      "32/32 [==============================] - ETA: 0s - loss: 1.0237 - accuracy: 0.4610\n",
      "Epoch 9: val_accuracy did not improve from 0.48800\n",
      "32/32 [==============================] - 10s 309ms/step - loss: 1.0237 - accuracy: 0.4610 - val_loss: 1.0077 - val_accuracy: 0.4400\n",
      "Epoch 10/36\n",
      "32/32 [==============================] - ETA: 0s - loss: 0.9970 - accuracy: 0.3720\n",
      "Epoch 10: val_accuracy improved from 0.48800 to 0.49400, saving model to /users/macbookpro/twitter-sentiment-fasttext-52.model\n"
     ]
    },
    {
     "name": "stderr",
     "output_type": "stream",
     "text": [
      "WARNING:absl:Found untraced functions such as _jit_compiled_convolution_op, _jit_compiled_convolution_op while saving (showing 2 of 2). These functions will not be directly callable after loading.\n"
     ]
    },
    {
     "name": "stdout",
     "output_type": "stream",
     "text": [
      "INFO:tensorflow:Assets written to: /users/macbookpro/twitter-sentiment-fasttext-52.model/assets\n"
     ]
    },
    {
     "name": "stderr",
     "output_type": "stream",
     "text": [
      "INFO:tensorflow:Assets written to: /users/macbookpro/twitter-sentiment-fasttext-52.model/assets\n"
     ]
    },
    {
     "name": "stdout",
     "output_type": "stream",
     "text": [
      "32/32 [==============================] - 23s 733ms/step - loss: 0.9970 - accuracy: 0.3720 - val_loss: 0.9408 - val_accuracy: 0.4940\n",
      "Epoch 11/36\n",
      "32/32 [==============================] - ETA: 0s - loss: 0.9774 - accuracy: 0.4280\n",
      "Epoch 11: val_accuracy improved from 0.49400 to 0.57600, saving model to /users/macbookpro/twitter-sentiment-fasttext-52.model\n"
     ]
    },
    {
     "name": "stderr",
     "output_type": "stream",
     "text": [
      "WARNING:absl:Found untraced functions such as _jit_compiled_convolution_op, _jit_compiled_convolution_op while saving (showing 2 of 2). These functions will not be directly callable after loading.\n"
     ]
    },
    {
     "name": "stdout",
     "output_type": "stream",
     "text": [
      "INFO:tensorflow:Assets written to: /users/macbookpro/twitter-sentiment-fasttext-52.model/assets\n"
     ]
    },
    {
     "name": "stderr",
     "output_type": "stream",
     "text": [
      "INFO:tensorflow:Assets written to: /users/macbookpro/twitter-sentiment-fasttext-52.model/assets\n"
     ]
    },
    {
     "name": "stdout",
     "output_type": "stream",
     "text": [
      "32/32 [==============================] - 22s 708ms/step - loss: 0.9774 - accuracy: 0.4280 - val_loss: 0.8872 - val_accuracy: 0.5760\n",
      "Epoch 12/36\n",
      "32/32 [==============================] - ETA: 0s - loss: 0.9580 - accuracy: 0.4200\n",
      "Epoch 12: val_accuracy did not improve from 0.57600\n",
      "32/32 [==============================] - 10s 325ms/step - loss: 0.9580 - accuracy: 0.4200 - val_loss: 0.9434 - val_accuracy: 0.5060\n",
      "Epoch 13/36\n",
      "32/32 [==============================] - ETA: 0s - loss: 0.9391 - accuracy: 0.4840\n",
      "Epoch 13: val_accuracy did not improve from 0.57600\n",
      "32/32 [==============================] - 12s 369ms/step - loss: 0.9391 - accuracy: 0.4840 - val_loss: 1.0807 - val_accuracy: 0.3720\n",
      "Epoch 14/36\n",
      "32/32 [==============================] - ETA: 0s - loss: 0.9431 - accuracy: 0.4450\n",
      "Epoch 14: val_accuracy did not improve from 0.57600\n",
      "32/32 [==============================] - 12s 377ms/step - loss: 0.9431 - accuracy: 0.4450 - val_loss: 0.9722 - val_accuracy: 0.5100\n",
      "Epoch 15/36\n",
      "32/32 [==============================] - ETA: 0s - loss: 0.9677 - accuracy: 0.4560\n",
      "Epoch 15: val_accuracy did not improve from 0.57600\n",
      "32/32 [==============================] - 13s 414ms/step - loss: 0.9677 - accuracy: 0.4560 - val_loss: 1.0389 - val_accuracy: 0.4200\n",
      "Epoch 16/36\n",
      "32/32 [==============================] - ETA: 0s - loss: 0.9037 - accuracy: 0.4530\n",
      "Epoch 16: val_accuracy did not improve from 0.57600\n",
      "32/32 [==============================] - 14s 433ms/step - loss: 0.9037 - accuracy: 0.4530 - val_loss: 0.9385 - val_accuracy: 0.5260\n",
      "Epoch 17/36\n",
      "32/32 [==============================] - ETA: 0s - loss: 0.8535 - accuracy: 0.5040\n",
      "Epoch 17: val_accuracy did not improve from 0.57600\n",
      "32/32 [==============================] - 13s 409ms/step - loss: 0.8535 - accuracy: 0.5040 - val_loss: 0.9291 - val_accuracy: 0.5180\n",
      "Epoch 18/36\n",
      "32/32 [==============================] - ETA: 0s - loss: 0.8268 - accuracy: 0.5300\n",
      "Epoch 18: val_accuracy did not improve from 0.57600\n",
      "32/32 [==============================] - 13s 421ms/step - loss: 0.8268 - accuracy: 0.5300 - val_loss: 0.9487 - val_accuracy: 0.5260\n",
      "Epoch 19/36\n",
      "32/32 [==============================] - ETA: 0s - loss: 0.7893 - accuracy: 0.5110\n",
      "Epoch 19: val_accuracy did not improve from 0.57600\n",
      "32/32 [==============================] - 13s 413ms/step - loss: 0.7893 - accuracy: 0.5110 - val_loss: 1.1871 - val_accuracy: 0.4000\n",
      "Epoch 20/36\n",
      "32/32 [==============================] - ETA: 0s - loss: 0.7724 - accuracy: 0.5430\n",
      "Epoch 20: val_accuracy did not improve from 0.57600\n",
      "32/32 [==============================] - 12s 380ms/step - loss: 0.7724 - accuracy: 0.5430 - val_loss: 1.0677 - val_accuracy: 0.4780\n",
      "Epoch 21/36\n",
      "32/32 [==============================] - ETA: 0s - loss: 0.7113 - accuracy: 0.5700\n",
      "Epoch 21: val_accuracy did not improve from 0.57600\n",
      "32/32 [==============================] - 11s 354ms/step - loss: 0.7113 - accuracy: 0.5700 - val_loss: 1.0639 - val_accuracy: 0.5000\n",
      "Epoch 22/36\n",
      "32/32 [==============================] - ETA: 0s - loss: 0.6573 - accuracy: 0.5860\n",
      "Epoch 22: val_accuracy did not improve from 0.57600\n",
      "32/32 [==============================] - 10s 310ms/step - loss: 0.6573 - accuracy: 0.5860 - val_loss: 1.0574 - val_accuracy: 0.4920\n",
      "Epoch 23/36\n",
      "32/32 [==============================] - ETA: 0s - loss: 0.6605 - accuracy: 0.6160\n",
      "Epoch 23: val_accuracy did not improve from 0.57600\n",
      "32/32 [==============================] - 10s 310ms/step - loss: 0.6605 - accuracy: 0.6160 - val_loss: 0.9978 - val_accuracy: 0.5180\n",
      "Epoch 24/36\n",
      "32/32 [==============================] - ETA: 0s - loss: 0.6943 - accuracy: 0.5660\n",
      "Epoch 24: val_accuracy did not improve from 0.57600\n",
      "32/32 [==============================] - 10s 317ms/step - loss: 0.6943 - accuracy: 0.5660 - val_loss: 1.0964 - val_accuracy: 0.4660\n",
      "Epoch 25/36\n",
      "32/32 [==============================] - ETA: 0s - loss: 0.5731 - accuracy: 0.6330\n",
      "Epoch 25: val_accuracy did not improve from 0.57600\n",
      "32/32 [==============================] - 11s 343ms/step - loss: 0.5731 - accuracy: 0.6330 - val_loss: 1.0255 - val_accuracy: 0.5600\n",
      "Epoch 26/36\n",
      "32/32 [==============================] - ETA: 0s - loss: 0.5477 - accuracy: 0.6320\n",
      "Epoch 26: val_accuracy improved from 0.57600 to 0.59400, saving model to /users/macbookpro/twitter-sentiment-fasttext-52.model\n"
     ]
    },
    {
     "name": "stderr",
     "output_type": "stream",
     "text": [
      "WARNING:absl:Found untraced functions such as _jit_compiled_convolution_op, _jit_compiled_convolution_op while saving (showing 2 of 2). These functions will not be directly callable after loading.\n"
     ]
    },
    {
     "name": "stdout",
     "output_type": "stream",
     "text": [
      "INFO:tensorflow:Assets written to: /users/macbookpro/twitter-sentiment-fasttext-52.model/assets\n"
     ]
    },
    {
     "name": "stderr",
     "output_type": "stream",
     "text": [
      "INFO:tensorflow:Assets written to: /users/macbookpro/twitter-sentiment-fasttext-52.model/assets\n"
     ]
    },
    {
     "name": "stdout",
     "output_type": "stream",
     "text": [
      "32/32 [==============================] - 26s 831ms/step - loss: 0.5477 - accuracy: 0.6320 - val_loss: 0.9125 - val_accuracy: 0.5940\n",
      "Epoch 27/36\n",
      "32/32 [==============================] - ETA: 0s - loss: 0.5172 - accuracy: 0.6470\n",
      "Epoch 27: val_accuracy did not improve from 0.59400\n",
      "32/32 [==============================] - 11s 337ms/step - loss: 0.5172 - accuracy: 0.6470 - val_loss: 0.9358 - val_accuracy: 0.5760\n",
      "Epoch 28/36\n",
      "32/32 [==============================] - ETA: 0s - loss: 0.5320 - accuracy: 0.6540\n",
      "Epoch 28: val_accuracy improved from 0.59400 to 0.60600, saving model to /users/macbookpro/twitter-sentiment-fasttext-52.model\n"
     ]
    },
    {
     "name": "stderr",
     "output_type": "stream",
     "text": [
      "WARNING:absl:Found untraced functions such as _jit_compiled_convolution_op, _jit_compiled_convolution_op while saving (showing 2 of 2). These functions will not be directly callable after loading.\n"
     ]
    },
    {
     "name": "stdout",
     "output_type": "stream",
     "text": [
      "INFO:tensorflow:Assets written to: /users/macbookpro/twitter-sentiment-fasttext-52.model/assets\n"
     ]
    },
    {
     "name": "stderr",
     "output_type": "stream",
     "text": [
      "INFO:tensorflow:Assets written to: /users/macbookpro/twitter-sentiment-fasttext-52.model/assets\n"
     ]
    },
    {
     "name": "stdout",
     "output_type": "stream",
     "text": [
      "32/32 [==============================] - 25s 787ms/step - loss: 0.5320 - accuracy: 0.6540 - val_loss: 0.8812 - val_accuracy: 0.6060\n",
      "Epoch 29/36\n",
      "32/32 [==============================] - ETA: 0s - loss: 0.5101 - accuracy: 0.6900\n",
      "Epoch 29: val_accuracy did not improve from 0.60600\n",
      "32/32 [==============================] - 9s 291ms/step - loss: 0.5101 - accuracy: 0.6900 - val_loss: 0.9516 - val_accuracy: 0.5620\n",
      "Epoch 30/36\n",
      "32/32 [==============================] - ETA: 0s - loss: 0.4240 - accuracy: 0.7090\n",
      "Epoch 30: val_accuracy did not improve from 0.60600\n",
      "32/32 [==============================] - 10s 306ms/step - loss: 0.4240 - accuracy: 0.7090 - val_loss: 0.9672 - val_accuracy: 0.5700\n",
      "Epoch 31/36\n",
      "32/32 [==============================] - ETA: 0s - loss: 0.4944 - accuracy: 0.6760\n",
      "Epoch 31: val_accuracy did not improve from 0.60600\n",
      "32/32 [==============================] - 10s 323ms/step - loss: 0.4944 - accuracy: 0.6760 - val_loss: 0.9135 - val_accuracy: 0.5560\n",
      "Epoch 32/36\n",
      "32/32 [==============================] - ETA: 0s - loss: 0.4519 - accuracy: 0.7210\n",
      "Epoch 32: val_accuracy did not improve from 0.60600\n",
      "32/32 [==============================] - 11s 339ms/step - loss: 0.4519 - accuracy: 0.7210 - val_loss: 0.9808 - val_accuracy: 0.5680\n",
      "Epoch 33/36\n",
      "32/32 [==============================] - ETA: 0s - loss: 0.3858 - accuracy: 0.7430\n",
      "Epoch 33: val_accuracy did not improve from 0.60600\n",
      "32/32 [==============================] - 12s 366ms/step - loss: 0.3858 - accuracy: 0.7430 - val_loss: 1.0850 - val_accuracy: 0.5660\n",
      "Epoch 34/36\n",
      "32/32 [==============================] - ETA: 0s - loss: 0.4083 - accuracy: 0.7420\n",
      "Epoch 34: val_accuracy did not improve from 0.60600\n",
      "32/32 [==============================] - 13s 411ms/step - loss: 0.4083 - accuracy: 0.7420 - val_loss: 1.1008 - val_accuracy: 0.5600\n",
      "Epoch 35/36\n",
      "32/32 [==============================] - ETA: 0s - loss: 0.3769 - accuracy: 0.7660\n",
      "Epoch 35: val_accuracy did not improve from 0.60600\n",
      "32/32 [==============================] - 13s 401ms/step - loss: 0.3769 - accuracy: 0.7660 - val_loss: 1.1490 - val_accuracy: 0.5080\n",
      "Epoch 36/36\n",
      "32/32 [==============================] - ETA: 0s - loss: 0.3853 - accuracy: 0.7460\n",
      "Epoch 36: val_accuracy did not improve from 0.60600\n",
      "32/32 [==============================] - 12s 360ms/step - loss: 0.3853 - accuracy: 0.7460 - val_loss: 1.1076 - val_accuracy: 0.5400\n"
     ]
    }
   ],
   "source": [
    "# training the model\n",
    "history = model.fit(x_train, \n",
    "          y_train, \n",
    "          batch_size=batch_size, \n",
    "          shuffle=True, \n",
    "          epochs=no_epochs, \n",
    "          class_weight = d_class_weights, \n",
    "          validation_data=(x_test, y_test), \n",
    "          callbacks=[tensorboard, ModelCheckpoint('/users/macbookpro/twitter-sentiment-fasttext-52.model', monitor='val_accuracy', mode='max', verbose=1, save_best_only=True)]\n",
    ")"
   ]
  },
  {
   "cell_type": "code",
   "execution_count": 372,
   "id": "13cbe9e3",
   "metadata": {},
   "outputs": [
    {
     "data": {
      "image/png": "[encoded data removed]",
      "text/plain": [
       "<Figure size 432x288 with 1 Axes>"
      ]
     },
     "metadata": {
      "needs_background": "light"
     },
     "output_type": "display_data"
    }
   ],
   "source": [
    "# train accuracy graph\n",
    "plt.plot(history.history['accuracy'], label= 'train')\n",
    "plt.plot(history.history['val_accuracy'], label = 'val')\n",
    "plt.title('model accuracy')\n",
    "plt.ylabel('accuracy')\n",
    "plt.xlabel('epoch')\n",
    "plt.show()"
   ]
  },
  {
   "cell_type": "code",
   "execution_count": 373,
   "id": "f6a3d113",
   "metadata": {},
   "outputs": [
    {
     "data": {
      "image/png": "[encoded data removed]",
      "text/plain": [
       "<Figure size 432x288 with 1 Axes>"
      ]
     },
     "metadata": {
      "needs_background": "light"
     },
     "output_type": "display_data"
    }
   ],
   "source": [
    "# train loss graph\n",
    "plt.plot(history.history['loss'], label = 'train')\n",
    "plt.plot(history.history['val_loss'], label = 'val')\n",
    "plt.title('model loss')\n",
    "plt.ylabel('loss')\n",
    "plt.xlabel('epoch')\n",
    "plt.show()"
   ]
  },
  {
   "cell_type": "code",
   "execution_count": 374,
   "id": "5b974d6c",
   "metadata": {},
   "outputs": [
    {
     "name": "stderr",
     "output_type": "stream",
     "text": [
      "WARNING:absl:Found untraced functions such as _jit_compiled_convolution_op, _jit_compiled_convolution_op while saving (showing 2 of 2). These functions will not be directly callable after loading.\n"
     ]
    },
    {
     "name": "stdout",
     "output_type": "stream",
     "text": [
      "INFO:tensorflow:Assets written to: /users/macbookpro/twitter-sentiment-fasttext-52.model/assets\n"
     ]
    },
    {
     "name": "stderr",
     "output_type": "stream",
     "text": [
      "INFO:tensorflow:Assets written to: /users/macbookpro/twitter-sentiment-fasttext-52.model/assets\n"
     ]
    }
   ],
   "source": [
    "# save trained model\n",
    "model.save('/users/macbookpro/twitter-sentiment-fasttext-52.model')"
   ]
  },
  {
   "cell_type": "code",
   "execution_count": 375,
   "id": "a9051372",
   "metadata": {},
   "outputs": [],
   "source": [
    "# load trained model\n",
    "model = load_model('/users/macbookpro/twitter-sentiment-fasttext-52.model')"
   ]
  },
  {
   "cell_type": "code",
   "execution_count": 376,
   "id": "1680b65e",
   "metadata": {},
   "outputs": [
    {
     "data": {
      "text/plain": [
       "['loss', 'accuracy']"
      ]
     },
     "execution_count": 376,
     "metadata": {},
     "output_type": "execute_result"
    }
   ],
   "source": [
    "model.metrics_names\n"
   ]
  },
  {
   "cell_type": "code",
   "execution_count": 377,
   "id": "7a814803",
   "metadata": {},
   "outputs": [
    {
     "data": {
      "image/png": "[encoded data removed]",
      "text/plain": [
       "<IPython.core.display.Image object>"
      ]
     },
     "execution_count": 377,
     "metadata": {},
     "output_type": "execute_result"
    }
   ],
   "source": [
    "# printing model summary of the saved model\n",
    "from IPython.display import Image\n",
    "plot_model(model, to_file='model_plot.png', show_shapes=True, show_layer_names=True)"
   ]
  },
  {
   "cell_type": "code",
   "execution_count": 378,
   "id": "357585d5",
   "metadata": {},
   "outputs": [
    {
     "name": "stdout",
     "output_type": "stream",
     "text": [
      "16/16 [==============================] - 2s 54ms/step - loss: 1.1076 - accuracy: 0.5400\n"
     ]
    },
    {
     "data": {
      "text/plain": [
       "[1.1075648069381714, 0.5400000214576721]"
      ]
     },
     "execution_count": 378,
     "metadata": {},
     "output_type": "execute_result"
    }
   ],
   "source": [
    "# run model evaluations on test data\n",
    "model.evaluate(x=x_test, y=y_test, batch_size=32, verbose=1)"
   ]
  },
  {
   "cell_type": "code",
   "execution_count": 379,
   "id": "c9d598bb",
   "metadata": {},
   "outputs": [],
   "source": [
    "# predict probabilities for test set\n",
    "yhat_probs = model.predict(x_test, verbose=0)\n",
    "# predict crisp classes for test set\n",
    "yhat_classes=np.argmax(yhat_probs,axis=1)"
   ]
  },
  {
   "cell_type": "code",
   "execution_count": 380,
   "id": "5afa3c45",
   "metadata": {},
   "outputs": [
    {
     "data": {
      "text/plain": [
       "array([ 0,  1,  0,  0,  1,  1,  1,  1,  0,  0, -1,  1,  0,  1,  0,  0,  1,\n",
       "        0,  0,  0,  0,  0,  1,  1,  0,  1,  0,  1,  1,  0,  0,  0,  0,  0,\n",
       "        1,  0,  0,  0,  1,  0,  1,  0,  0,  0,  0,  1,  0,  1,  0,  0,  1,\n",
       "        0,  0,  0,  1,  1,  0,  0,  0,  0, -1,  0,  0,  0,  0,  0,  0,  1,\n",
       "        1,  0,  0,  1,  1,  1,  0,  1,  0,  0,  0,  0,  0,  0,  1,  0,  0,\n",
       "        1,  0,  1,  0,  0,  0,  0,  0,  0,  1,  0,  1,  0,  0,  1,  0,  0,\n",
       "        0,  0,  1,  0,  0,  0,  1,  0,  1,  0,  1,  0,  0,  0,  0,  1,  1,\n",
       "        1,  1,  0,  0,  0,  0,  1,  1,  0,  0,  1, -1,  0,  0,  0,  0,  0,\n",
       "        0,  0,  1,  1,  1, -1,  1,  1,  0,  0,  0,  1,  0,  1,  1,  1,  1,\n",
       "        0,  1,  1, -1,  0,  0,  0,  0,  0,  0,  1,  0,  0,  1,  0,  0,  0,\n",
       "        1,  1,  0,  0,  0,  1,  1,  0,  1,  1,  1, -1,  1,  0,  0,  0,  0,\n",
       "        0,  1,  1,  1, -1,  1,  0,  1,  1,  1,  1,  1,  1,  0,  0,  0, -1,\n",
       "        1,  0, -1,  1, -1,  1,  1,  0,  0,  1,  0,  1,  1, -1,  1,  1,  0,\n",
       "        0, -1,  0,  0,  0,  1,  0,  1,  1,  1,  0,  0,  1,  0,  0,  0,  1,\n",
       "        1,  0,  1,  1,  1,  0,  0,  0,  0,  0,  0,  1,  0,  0,  0,  1,  0,\n",
       "        0,  1,  1,  1,  1,  0,  1,  0,  1,  1, -1,  1,  0,  1,  1,  1,  0,\n",
       "        0,  1,  0,  0,  1,  1,  0, -1,  1,  0,  0,  1, -1,  1,  1,  0,  0,\n",
       "        0,  0,  1,  0,  1, -1,  0,  0,  1, -1,  0,  1,  1,  1,  0,  1,  0,\n",
       "       -1,  0,  0,  1,  0,  1,  1,  0,  0,  1,  0, -1,  1,  1,  1,  0,  0,\n",
       "        1,  1,  0,  1,  0, -1,  1,  1,  1,  1,  1,  1,  0,  1, -1,  0,  0,\n",
       "        0,  1,  1, -1,  0,  1,  0,  1,  1,  0,  0,  1,  0,  1,  0,  1,  0,\n",
       "        1,  1,  0,  0,  1,  0,  1,  0,  1,  1,  1,  0,  1,  0,  0,  1,  0,\n",
       "        0,  1, -1,  1,  1,  0,  1,  1,  1,  0,  0,  1,  0,  1,  0,  1,  1,\n",
       "       -1,  1,  1,  0,  0,  1, -1,  1,  1,  1,  1,  0,  0,  1,  1,  0,  0,\n",
       "        0,  1,  0,  0,  0,  1,  0,  0,  1,  1,  1,  0,  0,  1, -1,  0,  0,\n",
       "        0,  0,  0,  1,  1, -1,  1,  1,  1,  0,  1,  0,  0, -1,  1,  0,  1,\n",
       "        1,  1,  0,  0,  0,  0,  0,  0,  0,  0,  1, -1, -1,  1,  1,  1,  0,\n",
       "        0,  1,  1,  0,  1,  0, -1,  1,  0, -1,  0,  1,  0,  1,  1,  1,  1,\n",
       "        0,  0,  1,  0,  1,  1,  1, -1,  1,  0,  0,  1,  1,  1,  0,  0,  0,\n",
       "        1,  0,  0,  1,  0,  1,  0])"
      ]
     },
     "execution_count": 380,
     "metadata": {},
     "output_type": "execute_result"
    }
   ],
   "source": [
    "# pre processing for inference\n",
    "clas = []\n",
    "for i in yhat_classes:\n",
    "  clas.append(i-1)\n",
    "clas=np.array(clas)\n",
    "clas"
   ]
  },
  {
   "cell_type": "code",
   "execution_count": 381,
   "id": "14de4273",
   "metadata": {},
   "outputs": [
    {
     "data": {
      "text/plain": [
       "array([ 0,  1,  0,  1,  1,  1,  0,  0,  0,  0,  1,  0,  0,  0,  1,  0, -1,\n",
       "        1,  0,  0,  0,  0,  0,  0,  0,  1,  0,  1,  1,  0,  0,  0,  0,  0,\n",
       "        1,  0,  0,  0,  0,  0,  1,  0, -1,  0,  0,  1,  0,  1,  0,  0,  1,\n",
       "        1,  0,  0,  1,  0,  0,  1,  1,  0,  1,  0,  1,  1,  0,  0,  1,  0,\n",
       "        1,  1,  1,  1,  1, -1,  1,  0,  1,  0,  1,  0,  0,  0,  0,  0,  0,\n",
       "        0, -1,  0,  0,  0,  0,  1,  1,  0,  0,  0,  0,  1,  0,  1,  0,  0,\n",
       "        0,  1,  0,  0,  0,  1,  0,  0,  0,  0,  1,  0,  0,  0,  1,  0,  0,\n",
       "        1,  0,  0,  1,  1,  0,  1,  0,  1,  0,  0,  1,  0,  0,  0,  0,  0,\n",
       "        1,  0,  0,  0,  1,  1,  1,  1,  1,  0,  0,  0,  0,  0,  1,  0,  0,\n",
       "        0,  1,  1,  0,  0,  1,  0,  0,  0,  1,  0,  0,  1,  1,  1,  1,  0,\n",
       "        1,  1,  0,  0,  0,  0,  1, -1, -1,  1,  0,  1,  0,  0,  1,  1,  1,\n",
       "        0,  1,  1,  0,  0, -1,  1,  1,  0,  0,  1,  0,  1,  1,  1,  0,  0,\n",
       "        1,  0,  0,  1,  0,  0,  0,  0,  0,  1,  1,  0,  0,  0,  0,  0,  0,\n",
       "        0,  0,  0,  0,  0,  1,  1,  0,  1,  1,  0,  0,  1,  0,  1,  1,  1,\n",
       "       -1,  1, -1,  1,  0,  0,  0,  0,  0,  0,  1,  0,  1,  0, -1,  0,  1,\n",
       "       -1,  1, -1,  0,  1,  0,  0,  0,  1,  0,  0,  0,  1,  0,  0,  0,  0,\n",
       "        0,  1,  1,  1,  1,  0,  0,  1,  0,  0,  1,  1,  1,  1,  1,  1,  1,\n",
       "        1,  1,  1,  1,  1,  1,  1,  0,  1,  0,  0,  0,  1,  0,  0,  1,  0,\n",
       "        0,  0,  0,  0,  0,  0,  0,  0,  0,  0,  1,  1,  1,  0,  1,  0,  0,\n",
       "        0,  0,  0,  0,  1,  0,  1,  1,  0,  1,  0,  1,  0,  1,  1,  1,  0,\n",
       "        0,  0,  0,  0,  0,  0,  0,  1,  0,  0,  0,  0,  0,  0,  0,  0,  0,\n",
       "        0,  1,  1,  0,  1,  0,  0,  1,  1,  0,  1,  1,  1,  0,  0,  1,  1,\n",
       "        1,  1, -1,  0,  1,  0,  0,  0,  1,  0,  0,  1,  1,  1,  1,  1,  0,\n",
       "        1,  1,  0,  0,  0,  1,  0, -1,  0,  0,  0,  0,  0,  0,  0,  1,  0,\n",
       "        0,  0,  0,  0,  0,  0,  1,  0,  0,  1,  0,  0,  0,  1,  0,  0,  0,\n",
       "        1,  1,  0,  1,  1,  0,  0,  0,  0,  0,  1,  0,  0,  1,  0,  0, -1,\n",
       "        0,  0,  0,  0,  0,  1,  0,  0,  0,  1,  1,  0,  0,  0,  0,  1,  0,\n",
       "        0,  0,  0,  0,  1,  1,  1,  0,  0,  0,  0,  1,  0,  0,  0,  0,  0,\n",
       "        0,  0,  1,  1,  0,  1,  1,  0,  0,  0,  1,  1,  1,  1,  0,  0,  0,\n",
       "        0,  0,  0,  0,  0,  1,  0])"
      ]
     },
     "execution_count": 381,
     "metadata": {},
     "output_type": "execute_result"
    }
   ],
   "source": [
    "# pre processing for inference\n",
    "y_clas= np.array(df_test['sentiment'])\n",
    "y_clas"
   ]
  },
  {
   "cell_type": "code",
   "execution_count": 382,
   "id": "44fa7f45",
   "metadata": {},
   "outputs": [
    {
     "name": "stdout",
     "output_type": "stream",
     "text": [
      "FastText+LSTM:\n",
      "Accuracy: 0.540000\n",
      "Precision: 0.580672\n",
      "Recall: 0.540000\n",
      "F1 score: 0.555484\n"
     ]
    }
   ],
   "source": [
    "print('FastText+LSTM:')\n",
    "# accuracy: (tp + tn) / (p + n)\n",
    "accuracy = accuracy_score(y_clas, clas)\n",
    "print('Accuracy: %f' % accuracy)\n",
    "# precision tp / (tp + fp)\n",
    "precision = precision_score(y_clas, clas,average='weighted')\n",
    "print('Precision: %f' % precision)\n",
    "# recall: tp / (tp + fn)\n",
    "recall = recall_score(y_clas, clas,average='weighted')\n",
    "print('Recall: %f' % recall)\n",
    "# f1: 2 tp / (2 tp + fp + fn)\n",
    "f1 = f1_score(y_clas, clas,average='weighted')\n",
    "print('F1 score: %f' % f1)"
   ]
  },
  {
   "cell_type": "code",
   "execution_count": 383,
   "id": "120ce234",
   "metadata": {},
   "outputs": [
    {
     "name": "stdout",
     "output_type": "stream",
     "text": [
      "[[  1   5   9]\n",
      " [ 19 174 111]\n",
      " [ 13  73  95]]\n"
     ]
    }
   ],
   "source": [
    "# build a confusion matrix\n",
    "cm = confusion_matrix(y_clas, clas)\n",
    "print(cm)"
   ]
  },
  {
   "cell_type": "code",
   "execution_count": 384,
   "id": "da1ce5ad",
   "metadata": {},
   "outputs": [],
   "source": [
    "# reference: https://leslietj.github.io/2020/06/22/Draw-Confusion-Matrix-for-CNN-models/\n",
    "def plot_confusion_matrix(cm, target_names, title='Confusion matrix', cmap=None, normalize=False):\n",
    "    \"\"\"\n",
    "    arguments\n",
    "    ---------\n",
    "    cm:           confusion matrix from sklearn.metrics.confusion_matrix\n",
    "\n",
    "    target_names: given classification classes such as [0, 1, 2]\n",
    "                  the class names, for example: ['high', 'medium', 'low']\n",
    "\n",
    "    title:        the text to display at the top of the matrix\n",
    "\n",
    "    cmap:         the gradient of the values displayed from matplotlib.pyplot.cm\n",
    "                  see http://matplotlib.org/examples/color/colormaps_reference.html\n",
    "\n",
    "    normalize:    If False, plot the raw numbers\n",
    "                  If True, plot the proportions\n",
    "    \"\"\"\n",
    "     \n",
    "    if cmap is None:\n",
    "        cmap = plt.get_cmap('Oranges')\n",
    " \n",
    "    plt.figure(figsize=(8, 8))\n",
    "    plt.imshow(cm, interpolation='nearest', cmap=cmap)\n",
    "    plt.title(title)\n",
    "    plt.colorbar()\n",
    "    \n",
    "    if target_names is not None:\n",
    "        tick_marks = np.arange(len(target_names))\n",
    "        plt.xticks(tick_marks, target_names, rotation=45)\n",
    "        plt.yticks(tick_marks, target_names)\n",
    "\n",
    "    if normalize:\n",
    "        cm = cm.astype('float') / cm.sum(axis=1)[:, np.newaxis]\n",
    "    thresh = cm.max() / 1.5 if normalize else cm.max() / 2\n",
    "    for i, j in itertools.product(range(cm.shape[0]), range(cm.shape[1])):\n",
    "        if normalize:\n",
    "            plt.text(j, i, \"{:0.4f}\".format(cm[i, j]),\n",
    "                     horizontalalignment=\"center\",\n",
    "                     color=\"white\" if cm[i, j] > thresh else \"black\")\n",
    "        else:\n",
    "            plt.text(j, i, \"{:,}\".format(cm[i, j]),\n",
    "                     horizontalalignment=\"center\",\n",
    "                     color=\"white\" if cm[i, j] > thresh else \"black\")\n",
    "\n",
    "\n",
    "    plt.tight_layout()\n",
    "    print(len(target_names))\n",
    "    plt.ylim(len(target_names)-0.5, -0.5)\n",
    "    # plt.xlim(len(target_names)-0.5, 0)\n",
    "    plt.ylabel('True labels')\n",
    "    plt.xlabel('Predicted labels')\n",
    "    plt.grid(None)\n",
    "    # , bbox_inches = 'tight'\n",
    "    plt.savefig(title + '.png', dpi=500)\n",
    "    plt.show()"
   ]
  },
  {
   "cell_type": "code",
   "execution_count": 385,
   "id": "d2282b2c",
   "metadata": {},
   "outputs": [
    {
     "name": "stdout",
     "output_type": "stream",
     "text": [
      "3\n"
     ]
    },
    {
     "data": {
      "image/png": "[encoded data removed]",
      "text/plain": [
       "<Figure size 576x576 with 2 Axes>"
      ]
     },
     "metadata": {
      "needs_background": "light"
     },
     "output_type": "display_data"
    }
   ],
   "source": [
    "plot_confusion_matrix(cm, ['-1', '0', '1'])"
   ]
  },
  {
   "cell_type": "code",
   "execution_count": null,
   "id": "6cbf40f6",
   "metadata": {},
   "outputs": [],
   "source": []
  }
 ],
 "metadata": {
  "kernelspec": {
   "display_name": "Python 3 (ipykernel)",
   "language": "python",
   "name": "python3"
  },
  "language_info": {
   "codemirror_mode": {
    "name": "ipython",
    "version": 3
   },
   "file_extension": ".py",
   "mimetype": "text/x-python",
   "name": "python",
   "nbconvert_exporter": "python",
   "pygments_lexer": "ipython3",
   "version": "3.8.13"
  }
 },
 "nbformat": 4,
 "nbformat_minor": 5
}
