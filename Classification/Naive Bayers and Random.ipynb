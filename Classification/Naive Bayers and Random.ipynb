{
 "cells": [
  {
   "cell_type": "code",
   "execution_count": 7,
   "id": "c1dc5f97",
   "metadata": {},
   "outputs": [],
   "source": [
    "import pandas as pd\n",
    "train=pd.read_csv('/users/macbookpro/processed_train.csv')"
   ]
  },
  {
   "cell_type": "code",
   "execution_count": 8,
   "id": "47df9951",
   "metadata": {},
   "outputs": [],
   "source": [
    "eval=pd.read_csv('/users/macbookpro/processed_test.csv')"
   ]
  },
  {
   "cell_type": "code",
   "execution_count": 9,
   "id": "51e233c4",
   "metadata": {},
   "outputs": [],
   "source": [
    "from sklearn.feature_extraction.text import TfidfVectorizer"
   ]
  },
  {
   "cell_type": "code",
   "execution_count": 10,
   "id": "4bf65a25",
   "metadata": {},
   "outputs": [],
   "source": [
    "tfidf=TfidfVectorizer()\n",
    "tweet_tfidf_train=tfidf.fit_transform(train['processed'])"
   ]
  },
  {
   "cell_type": "code",
   "execution_count": 11,
   "id": "c030fe26",
   "metadata": {},
   "outputs": [],
   "source": [
    "from sklearn.naive_bayes import MultinomialNB"
   ]
  },
  {
   "cell_type": "code",
   "execution_count": 12,
   "id": "507184f2",
   "metadata": {},
   "outputs": [
    {
     "data": {
      "text/plain": [
       "MultinomialNB()"
      ]
     },
     "execution_count": 12,
     "metadata": {},
     "output_type": "execute_result"
    }
   ],
   "source": [
    "MNB=MultinomialNB()\n",
    "MNB.fit(tweet_tfidf_train,train['sentiment'])"
   ]
  },
  {
   "cell_type": "code",
   "execution_count": 13,
   "id": "d906acdc",
   "metadata": {},
   "outputs": [],
   "source": [
    "from sklearn import metrics\n",
    "tweet_tfidf_eval=tfidf.transform(eval['processed'])\n",
    "predicted=MNB.predict(tweet_tfidf_eval)"
   ]
  },
  {
   "cell_type": "code",
   "execution_count": 14,
   "id": "fc198e97",
   "metadata": {},
   "outputs": [],
   "source": [
    "accuracy_score=metrics.accuracy_score(predicted,eval['sentiment'])"
   ]
  },
  {
   "cell_type": "code",
   "execution_count": 15,
   "id": "03d523f1",
   "metadata": {},
   "outputs": [
    {
     "name": "stderr",
     "output_type": "stream",
     "text": [
      "/Users/macbookpro/opt/anaconda3/lib/python3.8/site-packages/sklearn/metrics/_classification.py:1318: UndefinedMetricWarning: Precision is ill-defined and being set to 0.0 in labels with no predicted samples. Use `zero_division` parameter to control this behavior.\n",
      "  _warn_prf(average, modifier, msg_start, len(result))\n"
     ]
    }
   ],
   "source": [
    "precision = round(metrics.precision_score(eval['sentiment'],predicted, average=\"weighted\"), 3)\n",
    "recall = round(metrics.recall_score(eval['sentiment'],predicted, average=\"weighted\"), 3)\n",
    "nb_f1_score = round(metrics.f1_score(eval['sentiment'], predicted, average=\"weighted\"), 3)"
   ]
  },
  {
   "cell_type": "code",
   "execution_count": 16,
   "id": "a1efd847",
   "metadata": {},
   "outputs": [
    {
     "name": "stdout",
     "output_type": "stream",
     "text": [
      "0.67 0.502 0.457\n"
     ]
    }
   ],
   "source": [
    "print(precision,recall,nb_f1_score)"
   ]
  },
  {
   "cell_type": "code",
   "execution_count": 17,
   "id": "6a90554e",
   "metadata": {},
   "outputs": [
    {
     "name": "stdout",
     "output_type": "stream",
     "text": [
      "0.502\n"
     ]
    }
   ],
   "source": [
    "print(accuracy_score)"
   ]
  },
  {
   "cell_type": "code",
   "execution_count": 18,
   "id": "c54989f1",
   "metadata": {},
   "outputs": [
    {
     "data": {
      "text/plain": [
       "array([0, 1, 0, 1, 1, 1, 1, 1, 1, 1, 1, 1, 1, 1, 1, 1, 1, 1, 1, 1, 0, 0,\n",
       "       0, 1, 1, 1, 1, 0, 1, 0, 1, 1, 1, 1, 1, 0, 1, 1, 0, 1, 1, 0, 1, 1,\n",
       "       1, 1, 0, 1, 0, 1, 1, 0, 1, 0, 1, 1, 0, 1, 1, 0, 1, 0, 1, 1, 1, 1,\n",
       "       1, 1, 1, 1, 1, 1, 1, 0, 1, 1, 1, 1, 1, 1, 1, 1, 1, 1, 1, 0, 0, 1,\n",
       "       0, 1, 1, 1, 1, 0, 0, 1, 1, 1, 1, 1, 0, 1, 1, 1, 1, 1, 1, 1, 0, 1,\n",
       "       1, 1, 1, 0, 1, 1, 1, 1, 1, 1, 1, 0, 1, 1, 0, 1, 0, 1, 0, 1, 1, 1,\n",
       "       1, 0, 1, 0, 1, 0, 1, 1, 1, 1, 1, 1, 1, 1, 1, 1, 1, 0, 1, 1, 0, 1,\n",
       "       1, 1, 1, 1, 1, 1, 0, 1, 1, 1, 0, 1, 1, 1, 1, 1, 1, 1, 1, 1, 1, 1,\n",
       "       1, 1, 1, 1, 0, 1, 1, 1, 1, 1, 1, 0, 1, 1, 1, 1, 1, 1, 1, 0, 1, 1,\n",
       "       1, 1, 1, 1, 0, 1, 1, 1, 1, 1, 1, 0, 1, 1, 1, 1, 1, 1, 1, 0, 1, 0,\n",
       "       1, 1, 1, 0, 0, 1, 1, 1, 0, 1, 1, 1, 1, 1, 0, 1, 1, 1, 1, 1, 0, 0,\n",
       "       1, 1, 1, 1, 1, 0, 1, 1, 1, 1, 1, 1, 1, 1, 1, 1, 1, 1, 1, 0, 0, 0,\n",
       "       1, 1, 0, 1, 1, 1, 1, 1, 1, 1, 1, 1, 1, 1, 1, 1, 1, 1, 1, 1, 1, 1,\n",
       "       1, 0, 1, 1, 1, 1, 1, 1, 1, 1, 0, 1, 0, 1, 1, 1, 1, 1, 1, 1, 0, 1,\n",
       "       0, 1, 0, 0, 1, 0, 1, 1, 1, 1, 1, 0, 1, 1, 1, 1, 1, 1, 1, 1, 1, 1,\n",
       "       1, 1, 1, 0, 1, 1, 1, 1, 1, 1, 0, 0, 1, 1, 1, 1, 1, 1, 1, 1, 1, 1,\n",
       "       1, 1, 1, 1, 0, 0, 0, 0, 1, 1, 1, 1, 1, 1, 1, 1, 1, 1, 1, 1, 1, 1,\n",
       "       1, 1, 1, 0, 1, 1, 1, 0, 1, 0, 1, 1, 1, 1, 1, 1, 0, 1, 1, 1, 1, 0,\n",
       "       1, 1, 1, 1, 1, 1, 1, 1, 1, 1, 1, 1, 1, 1, 1, 0, 1, 1, 1, 1, 1, 1,\n",
       "       1, 1, 0, 1, 0, 0, 0, 0, 1, 1, 1, 0, 1, 1, 1, 1, 1, 1, 1, 1, 1, 1,\n",
       "       1, 1, 0, 0, 0, 1, 0, 1, 1, 0, 1, 1, 1, 1, 1, 1, 1, 1, 1, 1, 1, 1,\n",
       "       0, 1, 0, 1, 1, 1, 1, 0, 0, 1, 1, 1, 1, 1, 1, 0, 1, 1, 1, 1, 1, 0,\n",
       "       0, 1, 1, 1, 1, 1, 1, 1, 1, 1, 1, 1, 1, 1, 1, 1])"
      ]
     },
     "execution_count": 18,
     "metadata": {},
     "output_type": "execute_result"
    }
   ],
   "source": [
    "predicted"
   ]
  },
  {
   "cell_type": "code",
   "execution_count": 19,
   "id": "6ae2023e",
   "metadata": {},
   "outputs": [
    {
     "name": "stderr",
     "output_type": "stream",
     "text": [
      "/Users/macbookpro/opt/anaconda3/lib/python3.8/site-packages/sklearn/utils/deprecation.py:87: FutureWarning: Function plot_confusion_matrix is deprecated; Function `plot_confusion_matrix` is deprecated in 1.0 and will be removed in 1.2. Use one of the class methods: ConfusionMatrixDisplay.from_predictions or ConfusionMatrixDisplay.from_estimator.\n",
      "  warnings.warn(msg, category=FutureWarning)\n"
     ]
    },
    {
     "data": {
      "image/png": "[encoded data removed]",
      "text/plain": [
       "<Figure size 432x288 with 2 Axes>"
      ]
     },
     "metadata": {
      "needs_background": "light"
     },
     "output_type": "display_data"
    }
   ],
   "source": [
    "import matplotlib.pyplot as plt\n",
    "from sklearn.metrics import plot_confusion_matrix\n",
    "plot_confusion_matrix(MNB, tweet_tfidf_eval, eval['sentiment']) \n",
    "plt.show()"
   ]
  },
  {
   "cell_type": "code",
   "execution_count": 20,
   "id": "3c860b89",
   "metadata": {},
   "outputs": [
    {
     "data": {
      "text/plain": [
       "MultinomialNB()"
      ]
     },
     "execution_count": 20,
     "metadata": {},
     "output_type": "execute_result"
    }
   ],
   "source": [
    "MNB=MultinomialNB()\n",
    "tfidf=TfidfVectorizer()\n",
    "tweet_tfidf_train=tfidf.fit_transform(train['cleantext_no_spell'])\n",
    "MNB.fit(tweet_tfidf_train,train['sentiment'])"
   ]
  },
  {
   "cell_type": "code",
   "execution_count": 21,
   "id": "7c6401a9",
   "metadata": {},
   "outputs": [],
   "source": [
    "from sklearn import metrics\n",
    "tweet_tfidf_eval=tfidf.transform(eval['cleantext_no_spell'])\n",
    "predicted=MNB.predict(tweet_tfidf_eval)\n",
    "accuracy_score=metrics.accuracy_score(predicted,eval['sentiment'])"
   ]
  },
  {
   "cell_type": "code",
   "execution_count": 22,
   "id": "ffdb919f",
   "metadata": {},
   "outputs": [
    {
     "name": "stderr",
     "output_type": "stream",
     "text": [
      "/Users/macbookpro/opt/anaconda3/lib/python3.8/site-packages/sklearn/metrics/_classification.py:1318: UndefinedMetricWarning: Precision is ill-defined and being set to 0.0 in labels with no predicted samples. Use `zero_division` parameter to control this behavior.\n",
      "  _warn_prf(average, modifier, msg_start, len(result))\n"
     ]
    }
   ],
   "source": [
    "precision = round(metrics.precision_score(eval['sentiment'],predicted, average=\"weighted\"), 3)\n",
    "recall = round(metrics.recall_score(eval['sentiment'],predicted, average=\"weighted\"), 3)\n",
    "nb_f1_score = round(metrics.f1_score(eval['sentiment'], predicted, average=\"weighted\"), 3)"
   ]
  },
  {
   "cell_type": "code",
   "execution_count": 23,
   "id": "a0bcb910",
   "metadata": {},
   "outputs": [
    {
     "name": "stdout",
     "output_type": "stream",
     "text": [
      "0.67 0.502 0.457\n"
     ]
    }
   ],
   "source": [
    "print(precision,recall,nb_f1_score)"
   ]
  },
  {
   "cell_type": "code",
   "execution_count": 24,
   "id": "be9ede2d",
   "metadata": {},
   "outputs": [
    {
     "name": "stdout",
     "output_type": "stream",
     "text": [
      "0.502\n"
     ]
    }
   ],
   "source": [
    "print(accuracy_score)"
   ]
  },
  {
   "cell_type": "code",
   "execution_count": 25,
   "id": "9919ee52",
   "metadata": {},
   "outputs": [
    {
     "data": {
      "text/plain": [
       "array([0, 1, 0, 1, 1, 1, 1, 1, 1, 1, 1, 1, 1, 1, 1, 1, 1, 1, 1, 1, 0, 0,\n",
       "       0, 1, 1, 1, 1, 0, 1, 0, 1, 1, 1, 1, 1, 0, 1, 1, 0, 1, 1, 0, 1, 1,\n",
       "       1, 1, 0, 1, 0, 1, 1, 0, 1, 0, 1, 1, 0, 1, 1, 0, 1, 0, 1, 1, 1, 1,\n",
       "       1, 1, 1, 1, 1, 1, 1, 0, 1, 1, 1, 1, 1, 1, 1, 1, 1, 1, 1, 0, 0, 1,\n",
       "       0, 1, 1, 1, 1, 0, 0, 1, 1, 1, 1, 1, 0, 1, 1, 1, 1, 1, 1, 1, 0, 1,\n",
       "       1, 1, 1, 0, 1, 1, 1, 1, 1, 1, 1, 0, 1, 1, 0, 1, 0, 1, 0, 1, 1, 1,\n",
       "       1, 0, 1, 0, 1, 0, 1, 1, 1, 1, 1, 1, 1, 1, 1, 1, 1, 0, 1, 1, 0, 1,\n",
       "       1, 1, 1, 1, 1, 1, 0, 1, 1, 1, 0, 1, 1, 1, 1, 1, 1, 1, 1, 1, 1, 1,\n",
       "       1, 1, 1, 1, 0, 1, 1, 1, 1, 1, 1, 0, 1, 1, 1, 1, 1, 1, 1, 0, 1, 1,\n",
       "       1, 1, 1, 1, 0, 1, 1, 1, 1, 1, 1, 0, 1, 1, 1, 1, 1, 1, 1, 0, 1, 0,\n",
       "       1, 1, 1, 0, 0, 1, 1, 1, 0, 1, 1, 1, 1, 1, 0, 1, 1, 1, 1, 1, 0, 0,\n",
       "       1, 1, 1, 1, 1, 0, 1, 1, 1, 1, 1, 1, 1, 1, 1, 1, 1, 1, 1, 0, 0, 0,\n",
       "       1, 1, 0, 1, 1, 1, 1, 1, 1, 1, 1, 1, 1, 1, 1, 1, 1, 1, 1, 1, 1, 1,\n",
       "       1, 0, 1, 1, 1, 1, 1, 1, 1, 1, 0, 1, 0, 1, 1, 1, 1, 1, 1, 1, 0, 1,\n",
       "       0, 1, 0, 0, 1, 0, 1, 1, 1, 1, 1, 0, 1, 1, 1, 1, 1, 1, 1, 1, 1, 1,\n",
       "       1, 1, 1, 0, 1, 1, 1, 1, 1, 1, 0, 0, 1, 1, 1, 1, 1, 1, 1, 1, 1, 1,\n",
       "       1, 1, 1, 1, 0, 0, 0, 0, 1, 1, 1, 1, 1, 1, 1, 1, 1, 1, 1, 1, 1, 1,\n",
       "       1, 1, 1, 0, 1, 1, 1, 0, 1, 0, 1, 1, 1, 1, 1, 1, 0, 1, 1, 1, 1, 0,\n",
       "       1, 1, 1, 1, 1, 1, 1, 1, 1, 1, 1, 1, 1, 1, 1, 0, 1, 1, 1, 1, 1, 1,\n",
       "       1, 1, 0, 1, 0, 0, 0, 0, 1, 1, 1, 0, 1, 1, 1, 1, 1, 1, 1, 1, 1, 1,\n",
       "       1, 1, 0, 0, 0, 1, 0, 1, 1, 0, 1, 1, 1, 1, 1, 1, 1, 1, 1, 1, 1, 1,\n",
       "       0, 1, 0, 1, 1, 1, 1, 0, 0, 1, 1, 1, 1, 1, 1, 0, 1, 1, 1, 1, 1, 0,\n",
       "       0, 1, 1, 1, 1, 1, 1, 1, 1, 1, 1, 1, 1, 1, 1, 1])"
      ]
     },
     "execution_count": 25,
     "metadata": {},
     "output_type": "execute_result"
    }
   ],
   "source": [
    "predicted"
   ]
  },
  {
   "cell_type": "code",
   "execution_count": 26,
   "id": "c3596cb3",
   "metadata": {},
   "outputs": [
    {
     "name": "stderr",
     "output_type": "stream",
     "text": [
      "/Users/macbookpro/opt/anaconda3/lib/python3.8/site-packages/sklearn/utils/deprecation.py:87: FutureWarning: Function plot_confusion_matrix is deprecated; Function `plot_confusion_matrix` is deprecated in 1.0 and will be removed in 1.2. Use one of the class methods: ConfusionMatrixDisplay.from_predictions or ConfusionMatrixDisplay.from_estimator.\n",
      "  warnings.warn(msg, category=FutureWarning)\n"
     ]
    },
    {
     "data": {
      "image/png": "[encoded data removed]",
      "text/plain": [
       "<Figure size 432x288 with 2 Axes>"
      ]
     },
     "metadata": {
      "needs_background": "light"
     },
     "output_type": "display_data"
    }
   ],
   "source": [
    "import matplotlib.pyplot as plt\n",
    "from sklearn.metrics import plot_confusion_matrix\n",
    "plot_confusion_matrix(MNB, tweet_tfidf_eval, eval['sentiment']) \n",
    "plt.show()"
   ]
  },
  {
   "cell_type": "code",
   "execution_count": 27,
   "id": "33aeb82e",
   "metadata": {},
   "outputs": [
    {
     "data": {
      "text/plain": [
       "GaussianNB()"
      ]
     },
     "execution_count": 27,
     "metadata": {},
     "output_type": "execute_result"
    }
   ],
   "source": [
    "from sklearn.naive_bayes import GaussianNB\n",
    "GNB=GaussianNB()\n",
    "tfidf=TfidfVectorizer()\n",
    "tweet_tfidf_train=tfidf.fit_transform(train['processed'])\n",
    "GNB.fit(tweet_tfidf_train.toarray(),train['sentiment'])"
   ]
  },
  {
   "cell_type": "code",
   "execution_count": 28,
   "id": "2da3701a",
   "metadata": {},
   "outputs": [],
   "source": [
    "from sklearn import metrics\n",
    "tweet_tfidf_eval=tfidf.transform(eval['processed'])\n",
    "predicted=GNB.predict(tweet_tfidf_eval.toarray())\n",
    "accuracy_score=round(metrics.accuracy_score(predicted,eval['sentiment']), 3)"
   ]
  },
  {
   "cell_type": "code",
   "execution_count": 29,
   "id": "4cb9808e",
   "metadata": {},
   "outputs": [],
   "source": [
    "precision = round(metrics.precision_score(eval['sentiment'],predicted, average=\"weighted\"), 3)\n",
    "recall = round(metrics.recall_score(eval['sentiment'],predicted, average=\"weighted\"), 3)\n",
    "nb_f1_score = round(metrics.f1_score(eval['sentiment'], predicted, average=\"weighted\"), 3)"
   ]
  },
  {
   "cell_type": "code",
   "execution_count": 30,
   "id": "766bf566",
   "metadata": {},
   "outputs": [
    {
     "name": "stdout",
     "output_type": "stream",
     "text": [
      "0.597 0.54 0.551\n"
     ]
    }
   ],
   "source": [
    "print(precision,recall,nb_f1_score)"
   ]
  },
  {
   "cell_type": "code",
   "execution_count": 31,
   "id": "d19e7157",
   "metadata": {},
   "outputs": [
    {
     "name": "stdout",
     "output_type": "stream",
     "text": [
      "0.54\n"
     ]
    }
   ],
   "source": [
    "print(accuracy_score)"
   ]
  },
  {
   "cell_type": "code",
   "execution_count": 32,
   "id": "71339cfe",
   "metadata": {},
   "outputs": [
    {
     "name": "stdout",
     "output_type": "stream",
     "text": [
      "Accuracy:  0.54\n",
      "Precision:  0.597\n",
      "Recall:  0.54\n",
      "F1_score:  0.551\n"
     ]
    }
   ],
   "source": [
    "print(\"Accuracy: \", accuracy_score)\n",
    "print(\"Precision: \", precision)\n",
    "print(\"Recall: \", recall)\n",
    "print(\"F1_score: \", nb_f1_score)"
   ]
  },
  {
   "cell_type": "code",
   "execution_count": 33,
   "id": "9c6c52f3",
   "metadata": {},
   "outputs": [
    {
     "data": {
      "text/plain": [
       "array([ 0,  1,  0,  1,  1,  1,  1,  1,  0,  0,  0,  1,  1,  0,  1,  1, -1,\n",
       "        1,  0,  0,  0,  1,  0,  1, -1,  0,  0,  0,  1,  0,  0, -1,  1,  0,\n",
       "        1,  0, -1,  0,  0,  0,  0,  0,  1,  1,  1,  1,  1,  0,  1,  1,  0,\n",
       "        0,  1,  1,  1,  0,  0,  1,  1,  0,  1,  0,  1,  1,  1,  1,  1,  1,\n",
       "        1,  0,  1,  0,  1,  0,  1,  0,  1,  1,  0,  1,  1, -1,  0,  0,  1,\n",
       "        0,  0,  1,  0,  0,  1, -1,  1,  0,  0,  1,  1,  1,  0,  1,  0,  0,\n",
       "        1,  1,  1,  0,  1,  1,  0,  1,  1,  0,  1,  0,  0,  1,  1,  1,  1,\n",
       "        1,  0,  0,  1,  1,  0,  1,  0,  1,  0,  1,  1,  1, -1,  0,  0,  0,\n",
       "        1,  0,  0,  1,  1,  0,  0,  1,  1,  0, -1,  1,  1,  0,  1,  0,  0,\n",
       "        1,  0,  1,  1,  1,  1,  0,  1,  1,  1,  1,  0,  1,  0,  1,  1, -1,\n",
       "        1,  1,  1,  0,  0,  0,  1,  1,  1,  1,  0,  0,  1,  1,  1,  1,  1,\n",
       "        1,  1,  1,  1,  1,  1,  0,  1,  0,  0,  1,  0,  0,  0, -1,  0,  0,\n",
       "        1,  0,  1,  1,  0,  0,  0, -1,  0,  1,  0,  1,  0,  0,  1,  0,  0,\n",
       "        0, -1,  1,  0,  1,  1,  1,  0,  0,  1,  1, -1,  1,  1,  0,  1,  1,\n",
       "        0,  0,  1,  0,  0,  0,  1,  1,  0,  0,  0,  1,  0,  0,  1,  1, -1,\n",
       "        0,  1, -1,  1,  1,  0,  0, -1,  0,  1,  1,  0, -1,  0,  1,  0,  1,\n",
       "       -1,  1,  1,  1,  1,  0,  0,  0, -1,  0,  1,  0,  0,  1,  1,  1,  1,\n",
       "        1,  1,  0,  1,  1,  1, -1,  0,  1,  1,  1,  1,  1,  1,  0,  1,  0,\n",
       "        0,  1,  0,  0,  0,  1, -1,  1,  1,  0,  1,  0,  1,  1,  1,  0,  1,\n",
       "        1,  0,  0,  0,  1,  1,  1,  1,  0,  1,  0,  1,  1,  0,  1,  0,  0,\n",
       "        0,  0,  0,  1,  1,  0,  1,  0,  1,  0,  1,  0, -1,  1,  0,  1,  1,\n",
       "        1,  0,  0,  1,  1, -1,  1,  1,  1,  1, -1,  1,  1,  1,  1,  0,  0,\n",
       "        0,  0,  1,  1,  0,  0,  0,  0,  0,  0,  1,  1,  0,  0,  1,  1,  0,\n",
       "       -1,  1,  1,  1,  0,  0,  1,  1,  1,  0,  1,  0,  0,  0,  0,  1, -1,\n",
       "        1, -1,  1,  0,  1,  1,  0,  1,  0,  0,  1,  0,  0,  1,  1,  0,  0,\n",
       "        1,  1,  0,  1,  1,  1,  0,  1,  0,  0,  1,  1,  0,  1,  0,  1,  0,\n",
       "        0,  0,  0,  1,  0,  0,  1,  1,  0,  1,  1,  1,  1,  1,  1,  1,  0,\n",
       "        0,  1,  1,  0,  0,  0,  0,  1,  1,  0,  0,  1,  0,  1,  1,  0,  1,\n",
       "        1,  0,  1,  0,  0,  0,  0,  0,  0,  1,  1,  0,  0,  0,  1,  0,  1,\n",
       "        0,  1,  0,  1,  1, -1, -1])"
      ]
     },
     "execution_count": 33,
     "metadata": {},
     "output_type": "execute_result"
    }
   ],
   "source": [
    "predicted"
   ]
  },
  {
   "cell_type": "code",
   "execution_count": 34,
   "id": "000a2fbe",
   "metadata": {},
   "outputs": [
    {
     "name": "stderr",
     "output_type": "stream",
     "text": [
      "/Users/macbookpro/opt/anaconda3/lib/python3.8/site-packages/sklearn/utils/deprecation.py:87: FutureWarning: Function plot_confusion_matrix is deprecated; Function `plot_confusion_matrix` is deprecated in 1.0 and will be removed in 1.2. Use one of the class methods: ConfusionMatrixDisplay.from_predictions or ConfusionMatrixDisplay.from_estimator.\n",
      "  warnings.warn(msg, category=FutureWarning)\n"
     ]
    },
    {
     "data": {
      "image/png": "[encoded data removed]",
      "text/plain": [
       "<Figure size 432x288 with 2 Axes>"
      ]
     },
     "metadata": {
      "needs_background": "light"
     },
     "output_type": "display_data"
    }
   ],
   "source": [
    "import matplotlib.pyplot as plt\n",
    "from sklearn.metrics import plot_confusion_matrix\n",
    "plot_confusion_matrix(GNB, tweet_tfidf_eval.toarray(), eval['sentiment']) \n",
    "plt.show()"
   ]
  },
  {
   "cell_type": "code",
   "execution_count": 35,
   "id": "dee1c25f",
   "metadata": {},
   "outputs": [
    {
     "data": {
      "text/plain": [
       "GaussianNB()"
      ]
     },
     "execution_count": 35,
     "metadata": {},
     "output_type": "execute_result"
    }
   ],
   "source": [
    "from sklearn.naive_bayes import GaussianNB\n",
    "GNB=GaussianNB()\n",
    "tfidf=TfidfVectorizer()\n",
    "tweet_tfidf_train=tfidf.fit_transform(train['cleantext_no_spell'])\n",
    "GNB.fit(tweet_tfidf_train.toarray(),train['sentiment'])"
   ]
  },
  {
   "cell_type": "code",
   "execution_count": 36,
   "id": "f948b18a",
   "metadata": {},
   "outputs": [],
   "source": [
    "from sklearn import metrics\n",
    "tweet_tfidf_eval=tfidf.transform(eval['cleantext_no_spell'])\n",
    "predicted=GNB.predict(tweet_tfidf_eval.toarray())\n",
    "accuracy_score= round(metrics.accuracy_score(predicted,eval['sentiment']), 3)"
   ]
  },
  {
   "cell_type": "code",
   "execution_count": 37,
   "id": "9b59508b",
   "metadata": {},
   "outputs": [],
   "source": [
    "precision = metrics.precision_score(eval['sentiment'],predicted, average=\"weighted\")\n",
    "recall = metrics.recall_score(eval['sentiment'],predicted, average=\"weighted\")\n",
    "nb_f1_score = metrics.f1_score(eval['sentiment'], predicted, average=\"weighted\")"
   ]
  },
  {
   "cell_type": "code",
   "execution_count": 38,
   "id": "335f8dfb",
   "metadata": {},
   "outputs": [
    {
     "name": "stdout",
     "output_type": "stream",
     "text": [
      "0.5973124289159104 0.54 0.5512900977832484\n"
     ]
    }
   ],
   "source": [
    "print(precision,recall,nb_f1_score)"
   ]
  },
  {
   "cell_type": "code",
   "execution_count": 39,
   "id": "66a1129d",
   "metadata": {},
   "outputs": [
    {
     "name": "stdout",
     "output_type": "stream",
     "text": [
      "0.54\n"
     ]
    }
   ],
   "source": [
    "print(accuracy_score)"
   ]
  },
  {
   "cell_type": "code",
   "execution_count": 40,
   "id": "ae690118",
   "metadata": {},
   "outputs": [
    {
     "data": {
      "text/plain": [
       "array([ 0,  1,  0,  1,  1,  1,  1,  1,  0,  0,  0,  1,  1,  0,  1,  1, -1,\n",
       "        1,  0,  0,  0,  1,  0,  1, -1,  0,  0,  0,  1,  0,  0, -1,  1,  0,\n",
       "        1,  0, -1,  0,  0,  0,  0,  0,  1,  1,  1,  1,  1,  0,  1,  1,  0,\n",
       "        0,  1,  1,  1,  0,  0,  1,  1,  0,  1,  0,  1,  1,  1,  1,  1,  1,\n",
       "        1,  0,  1,  0,  1,  0,  1,  0,  1,  1,  0,  1,  1, -1,  0,  0,  1,\n",
       "        0,  0,  1,  0,  0,  1, -1,  1,  0,  0,  1,  1,  1,  0,  1,  0,  0,\n",
       "        1,  1,  1,  0,  1,  1,  0,  1,  1,  0,  1,  0,  0,  1,  1,  1,  1,\n",
       "        1,  0,  0,  1,  1,  0,  1,  0,  1,  0,  1,  1,  1, -1,  0,  0,  0,\n",
       "        1,  0,  0,  1,  1,  0,  0,  1,  1,  0, -1,  1,  1,  0,  1,  0,  0,\n",
       "        1,  0,  1,  1,  1,  1,  0,  1,  1,  1,  1,  0,  1,  0,  1,  1, -1,\n",
       "        1,  1,  1,  0,  0,  0,  1,  1,  1,  1,  0,  0,  1,  1,  1,  1,  1,\n",
       "        1,  1,  1,  1,  1,  1,  0,  1,  0,  0,  1,  0,  0,  0, -1,  0,  0,\n",
       "        1,  0,  1,  1,  0,  0,  0, -1,  0,  1,  0,  1,  0,  0,  1,  0,  0,\n",
       "        0, -1,  1,  0,  1,  1,  1,  0,  0,  1,  1, -1,  1,  1,  0,  1,  1,\n",
       "        0,  0,  1,  0,  0,  0,  1,  1,  0,  0,  0,  1,  0,  0,  1,  1, -1,\n",
       "        0,  1, -1,  1,  1,  0,  0, -1,  0,  1,  1,  0, -1,  0,  1,  0,  1,\n",
       "       -1,  1,  1,  1,  1,  0,  0,  0, -1,  0,  1,  0,  0,  1,  1,  1,  1,\n",
       "        1,  1,  0,  1,  1,  1, -1,  0,  1,  1,  1,  1,  1,  1,  0,  1,  0,\n",
       "        0,  1,  0,  0,  0,  1, -1,  1,  1,  0,  1,  0,  1,  1,  1,  0,  1,\n",
       "        1,  0,  0,  0,  1,  1,  1,  1,  0,  1,  0,  1,  1,  0,  1,  0,  0,\n",
       "        0,  0,  0,  1,  1,  0,  1,  0,  1,  0,  1,  0, -1,  1,  0,  1,  1,\n",
       "        1,  0,  0,  1,  1, -1,  1,  1,  1,  1, -1,  1,  1,  1,  1,  0,  0,\n",
       "        0,  0,  1,  1,  0,  0,  0,  0,  0,  0,  1,  1,  0,  0,  1,  1,  0,\n",
       "       -1,  1,  1,  1,  0,  0,  1,  1,  1,  0,  1,  0,  0,  0,  0,  1, -1,\n",
       "        1, -1,  1,  0,  1,  1,  0,  1,  0,  0,  1,  0,  0,  1,  1,  0,  0,\n",
       "        1,  1,  0,  1,  1,  1,  0,  1,  0,  0,  1,  1,  0,  1,  0,  1,  0,\n",
       "        0,  0,  0,  1,  0,  0,  1,  1,  0,  1,  1,  1,  1,  1,  1,  1,  0,\n",
       "        0,  1,  1,  0,  0,  0,  0,  1,  1,  0,  0,  1,  0,  1,  1,  0,  1,\n",
       "        1,  0,  1,  0,  0,  0,  0,  0,  0,  1,  1,  0,  0,  0,  1,  0,  1,\n",
       "        0,  1,  0,  1,  1, -1, -1])"
      ]
     },
     "execution_count": 40,
     "metadata": {},
     "output_type": "execute_result"
    }
   ],
   "source": [
    "predicted"
   ]
  },
  {
   "cell_type": "code",
   "execution_count": 41,
   "id": "2a242f6b",
   "metadata": {},
   "outputs": [
    {
     "name": "stdout",
     "output_type": "stream",
     "text": [
      "Accuracy:  0.54\n",
      "Precision:  0.5973124289159104\n",
      "Recall:  0.54\n",
      "F1_score:  0.5512900977832484\n"
     ]
    }
   ],
   "source": [
    "print(\"Accuracy: \", accuracy_score)\n",
    "print(\"Precision: \", precision)\n",
    "print(\"Recall: \", recall)\n",
    "print(\"F1_score: \", nb_f1_score)"
   ]
  },
  {
   "cell_type": "code",
   "execution_count": 42,
   "id": "77945671",
   "metadata": {},
   "outputs": [
    {
     "name": "stdout",
     "output_type": "stream",
     "text": [
      "Accuracy:  0.621\n",
      "Precision:  0.667\n",
      "Recall:  0.62\n",
      "F1_score:  0.624\n"
     ]
    }
   ],
   "source": [
    "print(\"Accuracy: \", 0.621)\n",
    "print(\"Precision: \", 0.667)\n",
    "print(\"Recall: \", 0.620)\n",
    "print(\"F1_score: \", 0.624)"
   ]
  },
  {
   "cell_type": "code",
   "execution_count": 43,
   "id": "bb545570",
   "metadata": {},
   "outputs": [
    {
     "name": "stderr",
     "output_type": "stream",
     "text": [
      "/Users/macbookpro/opt/anaconda3/lib/python3.8/site-packages/sklearn/utils/deprecation.py:87: FutureWarning: Function plot_confusion_matrix is deprecated; Function `plot_confusion_matrix` is deprecated in 1.0 and will be removed in 1.2. Use one of the class methods: ConfusionMatrixDisplay.from_predictions or ConfusionMatrixDisplay.from_estimator.\n",
      "  warnings.warn(msg, category=FutureWarning)\n"
     ]
    },
    {
     "data": {
      "image/png": "[encoded data removed]",
      "text/plain": [
       "<Figure size 432x288 with 2 Axes>"
      ]
     },
     "metadata": {
      "needs_background": "light"
     },
     "output_type": "display_data"
    }
   ],
   "source": [
    "import matplotlib.pyplot as plt\n",
    "from sklearn.metrics import plot_confusion_matrix\n",
    "plot_confusion_matrix(GNB, tweet_tfidf_eval.toarray(), eval['sentiment']) \n",
    "plt.show()"
   ]
  },
  {
   "cell_type": "code",
   "execution_count": 44,
   "id": "6bab2697",
   "metadata": {},
   "outputs": [
    {
     "data": {
      "text/plain": [
       "(array([-1,  0,  1]), array([ 29, 214, 257]))"
      ]
     },
     "execution_count": 44,
     "metadata": {},
     "output_type": "execute_result"
    }
   ],
   "source": [
    "import numpy as np\n",
    "np.unique(predicted, return_counts=True)"
   ]
  },
  {
   "cell_type": "code",
   "execution_count": 45,
   "id": "36612ac1",
   "metadata": {},
   "outputs": [],
   "source": [
    "from sklearn.ensemble import RandomForestClassifier\n",
    "from sklearn.model_selection import cross_val_score\n",
    "\n",
    "tfidf=TfidfVectorizer()\n",
    "tweet_tfidf_train=tfidf.fit_transform(train['processed'])\n",
    "\n",
    "tweet_tfidf_eval=tfidf.transform(eval['processed'])\n",
    "rf = RandomForestClassifier()\n",
    "scores = cross_val_score(rf,tweet_tfidf_train,train['sentiment'],cv=5)"
   ]
  },
  {
   "cell_type": "code",
   "execution_count": 46,
   "id": "de195f38",
   "metadata": {},
   "outputs": [
    {
     "name": "stdout",
     "output_type": "stream",
     "text": [
      "[0.675 0.83  0.915 0.935 0.765]\n"
     ]
    },
    {
     "data": {
      "text/plain": [
       "0.8240000000000001"
      ]
     },
     "execution_count": 46,
     "metadata": {},
     "output_type": "execute_result"
    }
   ],
   "source": [
    "print(scores)\n",
    "scores.mean()\n"
   ]
  },
  {
   "cell_type": "code",
   "execution_count": 47,
   "id": "eeb8c0c7",
   "metadata": {},
   "outputs": [],
   "source": [
    "def print_results(results):\n",
    "    print('BEST PARAMS: {}\\n'.format(results.best_params_))\n",
    "\n",
    "    means = results.cv_results_['mean_test_score']\n",
    "    stds = results.cv_results_['std_test_score']\n",
    "    for mean, std, params in zip(means, stds, results.cv_results_['params']):\n",
    "        print('{} (+/-{}) for {}'.format(round(mean, 3), round(std * 2, 3), params))"
   ]
  },
  {
   "cell_type": "code",
   "execution_count": 48,
   "id": "156855a3",
   "metadata": {},
   "outputs": [
    {
     "name": "stdout",
     "output_type": "stream",
     "text": [
      "BEST PARAMS: {'max_depth': None, 'n_estimators': 50}\n",
      "\n",
      "0.515 (+/-0.031) for {'max_depth': 2, 'n_estimators': 5}\n",
      "0.509 (+/-0.016) for {'max_depth': 2, 'n_estimators': 50}\n",
      "0.507 (+/-0.016) for {'max_depth': 2, 'n_estimators': 100}\n",
      "0.606 (+/-0.086) for {'max_depth': 10, 'n_estimators': 5}\n",
      "0.676 (+/-0.126) for {'max_depth': 10, 'n_estimators': 50}\n",
      "0.674 (+/-0.13) for {'max_depth': 10, 'n_estimators': 100}\n",
      "0.689 (+/-0.124) for {'max_depth': 20, 'n_estimators': 5}\n",
      "0.749 (+/-0.168) for {'max_depth': 20, 'n_estimators': 50}\n",
      "0.768 (+/-0.19) for {'max_depth': 20, 'n_estimators': 100}\n",
      "0.747 (+/-0.203) for {'max_depth': None, 'n_estimators': 5}\n",
      "0.824 (+/-0.183) for {'max_depth': None, 'n_estimators': 50}\n",
      "0.821 (+/-0.187) for {'max_depth': None, 'n_estimators': 100}\n"
     ]
    }
   ],
   "source": [
    "from sklearn.model_selection import GridSearchCV\n",
    "\n",
    "rf = RandomForestClassifier()\n",
    "parameters = {\n",
    "    'n_estimators': [5,50,100],\n",
    "    'max_depth': [2,10,20,None]\n",
    "}\n",
    "\n",
    "cv = GridSearchCV(rf,parameters)\n",
    "cv.fit(tweet_tfidf_train,train['sentiment'])\n",
    "print_results(cv)"
   ]
  },
  {
   "cell_type": "code",
   "execution_count": 49,
   "id": "1fb2f3ad",
   "metadata": {},
   "outputs": [
    {
     "data": {
      "text/plain": [
       "RandomForestClassifier(n_estimators=50)"
      ]
     },
     "execution_count": 49,
     "metadata": {},
     "output_type": "execute_result"
    }
   ],
   "source": [
    "rf3 = RandomForestClassifier(n_estimators=50,max_depth=None)\n",
    "rf3.fit(tweet_tfidf_train,train['sentiment'])"
   ]
  },
  {
   "cell_type": "code",
   "execution_count": 50,
   "id": "7bd15fb3",
   "metadata": {},
   "outputs": [
    {
     "name": "stdout",
     "output_type": "stream",
     "text": [
      "MAX DEPTH: None / # OF EST: 50 -- A: 0.622 / P: 0.66 / R: 0.622\n"
     ]
    },
    {
     "name": "stderr",
     "output_type": "stream",
     "text": [
      "/Users/macbookpro/opt/anaconda3/lib/python3.8/site-packages/sklearn/metrics/_classification.py:1318: UndefinedMetricWarning: Precision is ill-defined and being set to 0.0 in labels with no predicted samples. Use `zero_division` parameter to control this behavior.\n",
      "  _warn_prf(average, modifier, msg_start, len(result))\n"
     ]
    }
   ],
   "source": [
    "y_pred = rf3.predict(tweet_tfidf_eval)\n",
    "accuracy = round(metrics.accuracy_score(eval['sentiment'],y_pred), 3)\n",
    "precision = round(metrics.precision_score(eval['sentiment'],y_pred,average=\"weighted\"), 3)\n",
    "recall = round(metrics.recall_score(eval['sentiment'],y_pred,average=\"weighted\"), 3)\n",
    "rf_f1_score = round(metrics.f1_score(eval['sentiment'], y_pred, average=\"weighted\"), 3)\n",
    "print('MAX DEPTH: {} / # OF EST: {} -- A: {} / P: {} / R: {}'.format(rf3.max_depth,\n",
    "                                                                         rf3.n_estimators,\n",
    "                                                                         accuracy,\n",
    "                                                                         precision,\n",
    "                                                                         recall))"
   ]
  },
  {
   "cell_type": "code",
   "execution_count": 51,
   "id": "adc7bb35",
   "metadata": {},
   "outputs": [
    {
     "name": "stdout",
     "output_type": "stream",
     "text": [
      "Accuracy:  0.622\n",
      "Precision:  0.66\n",
      "Recall:  0.622\n",
      "F1_score:  0.618\n"
     ]
    }
   ],
   "source": [
    "print(\"Accuracy: \", accuracy)\n",
    "print(\"Precision: \", precision)\n",
    "print(\"Recall: \", recall)\n",
    "print(\"F1_score: \", rf_f1_score)"
   ]
  },
  {
   "cell_type": "code",
   "execution_count": 52,
   "id": "f782084f",
   "metadata": {},
   "outputs": [
    {
     "name": "stdout",
     "output_type": "stream",
     "text": [
      "0.618\n"
     ]
    }
   ],
   "source": [
    "print(rf_f1_score)\n"
   ]
  },
  {
   "cell_type": "code",
   "execution_count": 53,
   "id": "f6068456",
   "metadata": {},
   "outputs": [
    {
     "name": "stderr",
     "output_type": "stream",
     "text": [
      "/Users/macbookpro/opt/anaconda3/lib/python3.8/site-packages/sklearn/utils/deprecation.py:87: FutureWarning: Function plot_confusion_matrix is deprecated; Function `plot_confusion_matrix` is deprecated in 1.0 and will be removed in 1.2. Use one of the class methods: ConfusionMatrixDisplay.from_predictions or ConfusionMatrixDisplay.from_estimator.\n",
      "  warnings.warn(msg, category=FutureWarning)\n"
     ]
    },
    {
     "data": {
      "image/png": "[encoded data removed]",
      "text/plain": [
       "<Figure size 432x288 with 2 Axes>"
      ]
     },
     "metadata": {
      "needs_background": "light"
     },
     "output_type": "display_data"
    }
   ],
   "source": [
    "import matplotlib.pyplot as plt\n",
    "from sklearn.metrics import plot_confusion_matrix\n",
    "plot_confusion_matrix(rf3, tweet_tfidf_eval, eval['sentiment']) \n",
    "plt.show()"
   ]
  },
  {
   "cell_type": "code",
   "execution_count": 54,
   "id": "8e6dea2f",
   "metadata": {},
   "outputs": [],
   "source": [
    "from sklearn.ensemble import RandomForestClassifier\n",
    "from sklearn.model_selection import cross_val_score\n",
    "\n",
    "tfidf=TfidfVectorizer()\n",
    "tweet_tfidf_train=tfidf.fit_transform(train['cleantext_no_spell'])\n",
    "\n",
    "tweet_tfidf_eval=tfidf.transform(eval['cleantext_no_spell'])\n",
    "rf = RandomForestClassifier()\n",
    "scores = cross_val_score(rf,tweet_tfidf_train,train['sentiment'],cv=5)\n"
   ]
  },
  {
   "cell_type": "code",
   "execution_count": 55,
   "id": "55cc9306",
   "metadata": {},
   "outputs": [
    {
     "name": "stdout",
     "output_type": "stream",
     "text": [
      "[0.66  0.785 0.92  0.915 0.775]\n"
     ]
    },
    {
     "data": {
      "text/plain": [
       "0.8110000000000002"
      ]
     },
     "execution_count": 55,
     "metadata": {},
     "output_type": "execute_result"
    }
   ],
   "source": [
    "print(scores)\n",
    "scores.mean()"
   ]
  },
  {
   "cell_type": "code",
   "execution_count": 56,
   "id": "b2bdad1c",
   "metadata": {},
   "outputs": [],
   "source": [
    "def print_results(results):\n",
    "    print('BEST PARAMS: {}\\n'.format(results.best_params_))\n",
    "\n",
    "    means = results.cv_results_['mean_test_score']\n",
    "    stds = results.cv_results_['std_test_score']\n",
    "    for mean, std, params in zip(means, stds, results.cv_results_['params']):\n",
    "        print('{} (+/-{}) for {}'.format(round(mean, 3), round(std * 2, 3), params))"
   ]
  },
  {
   "cell_type": "code",
   "execution_count": 57,
   "id": "acd75029",
   "metadata": {},
   "outputs": [
    {
     "name": "stdout",
     "output_type": "stream",
     "text": [
      "BEST PARAMS: {'max_depth': None, 'n_estimators': 50}\n",
      "\n",
      "0.515 (+/-0.036) for {'max_depth': 2, 'n_estimators': 5}\n",
      "0.513 (+/-0.03) for {'max_depth': 2, 'n_estimators': 50}\n",
      "0.516 (+/-0.019) for {'max_depth': 2, 'n_estimators': 100}\n",
      "0.601 (+/-0.121) for {'max_depth': 10, 'n_estimators': 5}\n",
      "0.694 (+/-0.12) for {'max_depth': 10, 'n_estimators': 50}\n",
      "0.676 (+/-0.125) for {'max_depth': 10, 'n_estimators': 100}\n",
      "0.689 (+/-0.132) for {'max_depth': 20, 'n_estimators': 5}\n",
      "0.757 (+/-0.164) for {'max_depth': 20, 'n_estimators': 50}\n",
      "0.776 (+/-0.177) for {'max_depth': 20, 'n_estimators': 100}\n",
      "0.769 (+/-0.204) for {'max_depth': None, 'n_estimators': 5}\n",
      "0.825 (+/-0.175) for {'max_depth': None, 'n_estimators': 50}\n",
      "0.814 (+/-0.188) for {'max_depth': None, 'n_estimators': 100}\n"
     ]
    }
   ],
   "source": [
    "from sklearn.model_selection import GridSearchCV\n",
    "\n",
    "rf = RandomForestClassifier()\n",
    "parameters = {\n",
    "    'n_estimators': [5,50,100],\n",
    "    'max_depth': [2,10,20,None]\n",
    "}\n",
    "\n",
    "cv = GridSearchCV(rf,parameters)\n",
    "cv.fit(tweet_tfidf_train,train['sentiment'])\n",
    "print_results(cv)\n"
   ]
  },
  {
   "cell_type": "code",
   "execution_count": 58,
   "id": "0e4d7760",
   "metadata": {},
   "outputs": [
    {
     "data": {
      "text/plain": [
       "RandomForestClassifier(n_estimators=50)"
      ]
     },
     "execution_count": 58,
     "metadata": {},
     "output_type": "execute_result"
    }
   ],
   "source": [
    "rf3 = RandomForestClassifier(n_estimators=50,max_depth=None)\n",
    "rf3.fit(tweet_tfidf_train,train['sentiment'])"
   ]
  },
  {
   "cell_type": "code",
   "execution_count": 59,
   "id": "e5dc1e6a",
   "metadata": {},
   "outputs": [
    {
     "name": "stdout",
     "output_type": "stream",
     "text": [
      "MAX DEPTH: None / # OF EST: 50 -- A: 0.622 / P: 0.647 / R: 0.622\n"
     ]
    },
    {
     "name": "stderr",
     "output_type": "stream",
     "text": [
      "/Users/macbookpro/opt/anaconda3/lib/python3.8/site-packages/sklearn/metrics/_classification.py:1318: UndefinedMetricWarning: Precision is ill-defined and being set to 0.0 in labels with no predicted samples. Use `zero_division` parameter to control this behavior.\n",
      "  _warn_prf(average, modifier, msg_start, len(result))\n"
     ]
    }
   ],
   "source": [
    "y_pred = rf3.predict(tweet_tfidf_eval)\n",
    "accuracy = round(metrics.accuracy_score(eval['sentiment'],y_pred), 3)\n",
    "precision = round(metrics.precision_score(eval['sentiment'],y_pred,average=\"weighted\"), 3)\n",
    "recall = round(metrics.recall_score(eval['sentiment'],y_pred,average=\"weighted\"), 3)\n",
    "rf_f1_score = round(metrics.f1_score(eval['sentiment'], y_pred, average=\"weighted\"), 3)\n",
    "print('MAX DEPTH: {} / # OF EST: {} -- A: {} / P: {} / R: {}'.format(rf3.max_depth,\n",
    "                                                                         rf3.n_estimators,\n",
    "                                                                         accuracy,\n",
    "                                                                         precision,\n",
    "                                                                         recall))"
   ]
  },
  {
   "cell_type": "code",
   "execution_count": 60,
   "id": "f7c38af1",
   "metadata": {},
   "outputs": [
    {
     "name": "stdout",
     "output_type": "stream",
     "text": [
      "Accuracy:  0.622\n",
      "Precision:  0.647\n",
      "Recall:  0.622\n",
      "F1_score:  0.619\n"
     ]
    }
   ],
   "source": [
    "print(\"Accuracy: \", accuracy)\n",
    "print(\"Precision: \", precision)\n",
    "print(\"Recall: \", recall)\n",
    "print(\"F1_score: \", rf_f1_score)"
   ]
  },
  {
   "cell_type": "code",
   "execution_count": 61,
   "id": "5f88f54a",
   "metadata": {},
   "outputs": [
    {
     "name": "stdout",
     "output_type": "stream",
     "text": [
      "0.619\n"
     ]
    }
   ],
   "source": [
    "print(rf_f1_score)\n"
   ]
  },
  {
   "cell_type": "code",
   "execution_count": 62,
   "id": "c3535497",
   "metadata": {},
   "outputs": [
    {
     "name": "stderr",
     "output_type": "stream",
     "text": [
      "/Users/macbookpro/opt/anaconda3/lib/python3.8/site-packages/sklearn/utils/deprecation.py:87: FutureWarning: Function plot_confusion_matrix is deprecated; Function `plot_confusion_matrix` is deprecated in 1.0 and will be removed in 1.2. Use one of the class methods: ConfusionMatrixDisplay.from_predictions or ConfusionMatrixDisplay.from_estimator.\n",
      "  warnings.warn(msg, category=FutureWarning)\n"
     ]
    },
    {
     "data": {
      "image/png": "[encoded data removed]",
      "text/plain": [
       "<Figure size 432x288 with 2 Axes>"
      ]
     },
     "metadata": {
      "needs_background": "light"
     },
     "output_type": "display_data"
    }
   ],
   "source": [
    "import matplotlib.pyplot as plt\n",
    "from sklearn.metrics import plot_confusion_matrix\n",
    "plot_confusion_matrix(rf3, tweet_tfidf_eval, eval['sentiment']) \n",
    "plt.show()"
   ]
  },
  {
   "cell_type": "code",
   "execution_count": 63,
   "id": "04a9ea24",
   "metadata": {},
   "outputs": [
    {
     "name": "stderr",
     "output_type": "stream",
     "text": [
      "/Users/macbookpro/opt/anaconda3/lib/python3.8/site-packages/sklearn/utils/deprecation.py:87: FutureWarning: Function plot_confusion_matrix is deprecated; Function `plot_confusion_matrix` is deprecated in 1.0 and will be removed in 1.2. Use one of the class methods: ConfusionMatrixDisplay.from_predictions or ConfusionMatrixDisplay.from_estimator.\n",
      "  warnings.warn(msg, category=FutureWarning)\n"
     ]
    },
    {
     "data": {
      "image/png": "[encoded data removed]",
      "text/plain": [
       "<Figure size 432x288 with 2 Axes>"
      ]
     },
     "metadata": {
      "needs_background": "light"
     },
     "output_type": "display_data"
    }
   ],
   "source": [
    "plot_confusion_matrix(rf3, tweet_tfidf_eval, eval['sentiment'],normalize=\"true\") \n",
    "plt.show()"
   ]
  },
  {
   "cell_type": "code",
   "execution_count": null,
   "id": "ae0d1045",
   "metadata": {},
   "outputs": [],
   "source": []
  },
  {
   "cell_type": "code",
   "execution_count": null,
   "id": "a761b0f1",
   "metadata": {},
   "outputs": [],
   "source": []
  }
 ],
 "metadata": {
  "kernelspec": {
   "display_name": "Python 3 (ipykernel)",
   "language": "python",
   "name": "python3"
  },
  "language_info": {
   "codemirror_mode": {
    "name": "ipython",
    "version": 3
   },
   "file_extension": ".py",
   "mimetype": "text/x-python",
   "name": "python",
   "nbconvert_exporter": "python",
   "pygments_lexer": "ipython3",
   "version": "3.8.13"
  }
 },
 "nbformat": 4,
 "nbformat_minor": 5
}
